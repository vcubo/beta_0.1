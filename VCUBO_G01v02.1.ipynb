{
 "cells": [
  {
   "cell_type": "markdown",
   "id": "14036c9f",
   "metadata": {},
   "source": [
    "# vcubo\n",
    "## 1.1 Descriptive analytics (General)\n",
    "\n",
    "#### Import libraries"
   ]
  },
  {
   "cell_type": "code",
   "execution_count": 1,
   "id": "d7080aa4",
   "metadata": {},
   "outputs": [],
   "source": [
    "import numpy as np\n",
    "import pandas as pd\n",
    "import scipy as sp\n",
    "import scipy.stats\n",
    "\n",
    "import plotly.graph_objects as go\n",
    "import plotly.express as px\n",
    "\n",
    "from ipywidgets import widgets, Layout\n",
    "import ipywidgets\n"
   ]
  },
  {
   "cell_type": "markdown",
   "id": "67246d3d",
   "metadata": {},
   "source": [
    "#### Import data"
   ]
  },
  {
   "cell_type": "code",
   "execution_count": 92,
   "id": "f384d6c0",
   "metadata": {},
   "outputs": [],
   "source": [
    "df = pd.read_csv('https://raw.githubusercontent.com/vcubo/beta_0.1/main/VCDB_210828v0.csv') #Important: set raw URL"
   ]
  },
  {
   "cell_type": "markdown",
   "id": "4eb4ec37",
   "metadata": {},
   "source": [
    "#### Model and coefficients"
   ]
  },
  {
   "cell_type": "code",
   "execution_count": 82,
   "id": "b0983c3f",
   "metadata": {},
   "outputs": [],
   "source": [
    "# Underlying distriburion\n",
    "df_distrib = pd.DataFrame([['lognormal', 0.1, 0.3, -0.3]], columns = ['type', 'mu', 'sigma', 'shift'])\n",
    "\n",
    "# Coefficient obteined by regression\n",
    "df_coef = pd.DataFrame([[0.25,0.05,0.4,0.3,0.2,0.6,0.35,0.5,0.6,0.8,0.7]], \n",
    "                       columns = ['COUNTRY', 'LOB', 'SITE', 'PSIZE', 'CSIZE','SOC','PROC','ENG', 'WEA', 'MGM','MIT_ef'])\n",
    "\n",
    "# List of variables:\n",
    "df_part_index = ['Country','LOB','Site','Project Size', 'Contractor', \n",
    "                               'Social', 'Procurement', 'Engineering', 'Weather', 'Management']"
   ]
  },
  {
   "cell_type": "code",
   "execution_count": 83,
   "id": "a7a64ad4",
   "metadata": {},
   "outputs": [],
   "source": [
    "# Preliminary model: uncertainty and risk's variables' partial impacts.\n",
    "def partials (df):\n",
    "    df_part = pd.DataFrame([df_coef.iloc[0]['COUNTRY']*(df['COUNTRY_RMEAN']*1),\n",
    "                           df_coef.iloc[0]['LOB']*(df['LOB_RMEAN']),\n",
    "                           df_coef.iloc[0]['SITE']*(df['SITE_RMEAN']),\n",
    "                           df_coef.iloc[0]['PSIZE']*(df['PSIZE_RMEAN']),\n",
    "                           df_coef.iloc[0]['CSIZE']*(df['CSIZE_RMEAN']), \n",
    "                           df_coef.iloc[0]['SOC']*df['SOC_EMEAN']*(df['SOC']-df['SOC_MIT']),\n",
    "                           df_coef.iloc[0]['PROC']*df['PROC_EMEAN']*(df['PROC']-df['PROC_MIT']),\n",
    "                           df_coef.iloc[0]['ENG']*df['ENG_EMEAN']*(df['ENG']-df['ENG_MIT']),\n",
    "                           df_coef.iloc[0]['WEA']*df['WEA_EMEAN']*(df['WEA']-df['WEA_MIT']),\n",
    "                           df_coef.iloc[0]['MGM']*df['MGM_EMEAN']*(df['MGM']-df['MGM_MIT']),\n",
    "                          ], \n",
    "                          index = df_part_index\n",
    "                         ).transpose()\n",
    "\n",
    "    df_part_mean = pd.DataFrame([df_part.mean().transpose().tolist(),\n",
    "                                 df_part_index, ['Uncertainty']*5+['Risk']*5]\n",
    "                                 ).transpose()\n",
    "    df_part_mean.columns=['Impact', 'Variable','Factor']\n",
    "    partial_impact = px.bar(df_part_mean,x='Factor',y='Impact', color = 'Variable', template = \"plotly\")\n",
    "    partial_impact.update_layout({'paper_bgcolor': 'whitesmoke'},yaxis=dict(tickformat=\".1%\"))\n",
    "    \n",
    "    return df_part_mean\n",
    "#partials(df)\n",
    "#[partials(df)['Impact'][i] for i in range(10)]"
   ]
  },
  {
   "cell_type": "markdown",
   "id": "53731a51",
   "metadata": {},
   "source": [
    "#### Statistics"
   ]
  },
  {
   "cell_type": "code",
   "execution_count": 84,
   "id": "44cb9378",
   "metadata": {},
   "outputs": [],
   "source": [
    "#Number of decimals in statistical results.\n",
    "decimals = 3\n",
    "def df_stats(df):\n",
    "    #Number of projects.\n",
    "    num_pro_tot =  len(df)\n",
    "\n",
    "    #List of statistics for DEV_RAN(uncertainty median deviation), DEV_EVE(risks' median deviation) and DEV_TOT (total deviation median)\n",
    "    DEV_mean = [np.round(np.mean(df['DEV_RAN']),decimals), np.round(np.mean(df['DEV_EVE']),decimals), np.round(np.mean(df['DEV_TOT']),decimals)]\n",
    "    DEV_median = [np.round(np.median(df['DEV_RAN']),decimals), np.round(np.median(df['DEV_EVE']),decimals), np.round(np.median(df['DEV_TOT']),decimals)]\n",
    "\n",
    "    DR_factor = (1+DEV_median[0]) #deviation caused by uncertainty\n",
    "    DE_factor = (1+DEV_median[1]) #deviation caused by risk events\n",
    "\n",
    "    #Mean duration deviation (in months) and partial \n",
    "    DUR_delta = np.mean(df['DUR_AC']-df['DUR_BL'])\n",
    "    DUR_delta_comp = [DUR_delta/DE_factor, DUR_delta/DR_factor]\n",
    "    \n",
    "    #Portion of the duration deviation caused by the uncertainty and by the risks\n",
    "    DUR_delta_comp\n",
    "    \n",
    "    return [num_pro_tot, DEV_median]\n",
    "\n"
   ]
  },
  {
   "cell_type": "markdown",
   "id": "e18ec728",
   "metadata": {},
   "source": [
    "#### Interactive widgets"
   ]
  },
  {
   "cell_type": "code",
   "execution_count": 85,
   "id": "a9fd9967",
   "metadata": {},
   "outputs": [],
   "source": [
    "#Options for filters\n",
    "opt_country = ['ALL'] + df['COUNTRY'].unique().tolist()\n",
    "opt_lob = ['ALL'] + df['LOB'].unique().tolist()\n",
    "opt_site = ['ALL'] + df['SITE'].unique().tolist()\n",
    "opt_prsize = ['ALL'] + df['PR_SIZE'].unique().tolist()\n",
    "opt_csize = ['ALL'] + df['MC_SIZE'].unique().tolist()\n",
    "\n",
    "#Widgets:\n",
    "elements_width = '40%'\n",
    "elements_height = '25px'\n",
    "\n",
    "select_country = widgets.Dropdown(\n",
    "    options=opt_country,\n",
    "    value='ALL',\n",
    "    #value=['ARG'],\n",
    "    #rows=len(options),\n",
    "    description='Country',\n",
    "    disabled=False,\n",
    "    layout=Layout(width=elements_width, height=elements_height),\n",
    "    tooltip=\"Filter by Country\"\n",
    ")\n",
    "\n",
    "\n",
    "select_lob = widgets.Dropdown(\n",
    "    options=opt_lob,\n",
    "    value='ALL',\n",
    "    description='LOB',\n",
    "    layout=Layout(width=elements_width, height=elements_height),\n",
    "    disabled=False,\n",
    "    tooltip=\"Filter by Line of Business\"\n",
    ")\n",
    "\n",
    "select_site = widgets.Dropdown(\n",
    "    options=opt_site,\n",
    "    value='ALL',\n",
    "    description='Site',\n",
    "    layout=Layout(width=elements_width, height=elements_height),\n",
    "    disabled=False,\n",
    "    tooltip=\"Filter by site conditions\"\n",
    ")\n",
    "\n",
    "select_prsize = widgets.Dropdown(\n",
    "    options=opt_prsize,\n",
    "    value='ALL',\n",
    "    description='Project size',\n",
    "    layout=Layout(width=elements_width, height=elements_height),\n",
    "    disabled=False,\n",
    "    tooltip=\"Filter by Projects' size\"\n",
    ")\n",
    "\n",
    "select_csize = widgets.Dropdown(\n",
    "    options=opt_csize,\n",
    "    value='ALL',\n",
    "    description='Contractor size',\n",
    "    layout=Layout(width=elements_width, height=elements_height),\n",
    "    disabled=False,\n",
    "    tooltip=\"Filter by Main Contractor's size\"\n",
    ")\n",
    "\n",
    "#select_distrib = widgets.SelectMultiple(\n",
    "#    options=opt_distrib,\n",
    "#    value=['Total'],\n",
    "#    rows=len(opt_distrib),\n",
    "#    description='Distribution',\n",
    "#    disabled=False\n",
    "#)\n",
    "\n",
    "#apply_filter = widgets.Button(\n",
    "#    description='APPLY',\n",
    "#    disabled=False,\n",
    "#    button_style='', # 'success', 'info', 'warning', 'danger' or ''\n",
    "#    tooltip='Apply selected filters',\n",
    "#    icon='check'\n",
    "#)\n",
    "\n",
    "stat_selection = widgets.HTML(\n",
    "    value = \"<h4>Distribution's statistics</h4>\"+\n",
    "    \"Quantity of projects considered = \"+str(df_stats(df)[0])+\".<br>\"+\n",
    "    \"The average (mean) delay (%) of the selected projects is \"+ str(df_stats(df)[1][2])+\".<br>\",\n",
    "    placeholder = '', \n",
    "    description = ''\n",
    ")"
   ]
  },
  {
   "cell_type": "markdown",
   "id": "b5a033f5",
   "metadata": {},
   "source": [
    "#### Traces"
   ]
  },
  {
   "cell_type": "code",
   "execution_count": 86,
   "id": "59a31454",
   "metadata": {},
   "outputs": [],
   "source": [
    "hist_xbins_size = 0.01\n",
    "\n",
    "figh1 = go.Histogram(x=df['DEV_TOT'], opacity=0.7, name='Total deviation',xbins={\"size\": hist_xbins_size})\n",
    "figh2 = go.Histogram(x=df['DEV_RAN'], opacity=0.5, name='Uncertainty',xbins={\"size\": hist_xbins_size/2})\n",
    "figh3 = go.Histogram(x=df['DEV_EVE'], opacity=0.5, name='Risk events',xbins={\"size\": hist_xbins_size/2})\n",
    "\n",
    "partial_imp = go.Bar(x=partials(df)['Factor'],y=partials(df)['Impact'])\n",
    "\n"
   ]
  },
  {
   "cell_type": "markdown",
   "id": "b6bfa778",
   "metadata": {},
   "source": [
    "#### Figure widget and layout formating"
   ]
  },
  {
   "cell_type": "code",
   "execution_count": 87,
   "id": "a9284481",
   "metadata": {},
   "outputs": [],
   "source": [
    "# Deviation histogram graph\n",
    "g_dev_hist1 = go.FigureWidget(data=[figh1],\n",
    "                              layout=go.Layout(\n",
    "                                  title=dict(text='Deviation distribution'),\n",
    "                                  barmode='overlay',\n",
    "                                  paper_bgcolor='whitesmoke',\n",
    "                                  #plot_bgcolor='slategray'\n",
    "                                  bargap = 0.01,\n",
    "                                  xaxis=dict(tickformat=\".1%\")\n",
    "                              ))\n",
    "g_dev_hist2 = go.FigureWidget(data=[figh2, figh3],\n",
    "                              layout=go.Layout(\n",
    "                                  title=dict(text=\"Uncertainty and risk's impact distribution\"#, x = 0.5\n",
    "                                            ),\n",
    "                                  barmode='overlay',\n",
    "                                  paper_bgcolor='whitesmoke',\n",
    "                                  bargap = 0.01,\n",
    "                                  xaxis=dict(tickformat=\".1%\")\n",
    "                              ))\n",
    "\n",
    "g_dev_bar1 = go.FigureWidget(data=[partial_imp],\n",
    "                              layout=go.Layout(\n",
    "                                  title=dict(text=\"Uncertainty and risk's distribution <br>(selection)\"#, x = 0.5\n",
    "                                            ),\n",
    "                                  barmode='relative',\n",
    "                                  boxmode='group',\n",
    "                                  #colorway=pc.sequential.Viridis,\n",
    "                                  \n",
    "                                  paper_bgcolor='whitesmoke',\n",
    "                                  bargap = 0.5,\n",
    "                                  bargroupgap=0.01,\n",
    "                                  yaxis=dict(tickformat=\".1%\")\n",
    "                              ))\n",
    "#g_dev_bar1"
   ]
  },
  {
   "cell_type": "code",
   "execution_count": 88,
   "id": "f46f8061",
   "metadata": {},
   "outputs": [],
   "source": [
    "dev_comp_bar = px.bar(partials(df),x='Factor',y='Impact', color = 'Variable',)\n",
    "dev_comp_bar.update_layout({'paper_bgcolor': 'whitesmoke'},yaxis=dict(tickformat=\".1%\"), paper_bgcolor='whitesmoke',title=\"General uncertainty and risk's composition\")\n",
    "\n",
    "g_dev_bar2= go.FigureWidget(dev_comp_bar,\n",
    "                           layout=go.Layout(\n",
    "                                  title=dict(text=\"General uncertainty and risk's composition\"#, x = 0.5\n",
    "                                            ),\n",
    "                                  barmode='relative',\n",
    "                                  boxmode='group',\n",
    "                                  #colorway=pc.sequential.Viridis,\n",
    "                                  \n",
    "                                  paper_bgcolor='whitesmoke',\n",
    "                                  bargap = 0.5,\n",
    "                                  bargroupgap=0.01,\n",
    "                                  yaxis=dict(tickformat=\".1%\")\n",
    "                              ))\n",
    "#g_dev_bar2"
   ]
  },
  {
   "cell_type": "markdown",
   "id": "61946ba0",
   "metadata": {},
   "source": [
    "#### Interaction functions"
   ]
  },
  {
   "cell_type": "code",
   "execution_count": 89,
   "id": "fffba73e",
   "metadata": {},
   "outputs": [],
   "source": [
    "def response(change):\n",
    "    filter_list = [i and j and k and l and m for i, j, k, l, m in \n",
    "                  zip((df['COUNTRY'] == select_country.value)^(select_country.value== 'ALL'),\n",
    "                      (df['LOB'] == select_lob.value)^(select_lob.value == 'ALL'),\n",
    "                      (df['SITE'] == select_site.value)^(select_site.value == 'ALL'),\n",
    "                      (df['PR_SIZE'] == select_prsize.value)^(select_prsize.value == 'ALL'),\n",
    "                      (df['MC_SIZE'] == select_csize.value)^(select_csize.value == 'ALL'))]\n",
    "    \n",
    "    temp_df = df[filter_list]\n",
    "    x1 = temp_df['DEV_TOT']\n",
    "    x2 = temp_df['DEV_RAN']\n",
    "    x3 = temp_df['DEV_EVE']\n",
    "    y1 = np.asarray(partials(temp_df)['Impact'])\n",
    "    \n",
    "    with g_dev_hist1.batch_update():\n",
    "        g_dev_hist1.data[0].x = x1\n",
    "    with g_dev_hist2.batch_update():\n",
    "        g_dev_hist2.data[0].x = x2\n",
    "        g_dev_hist2.data[1].x = x3\n",
    "    with g_dev_bar1.batch_update():\n",
    "        g_dev_bar1.data[0].y = y1\n",
    "\n",
    "    return temp_df\n",
    "\n",
    "\n",
    "    DEV_median_temp = [np.round(np.median(df['DEV_RAN']),decimals), np.round(np.median(df['DEV_EVE']),decimals), np.round(np.median(df['DEV_TOT']),decimals)]\n",
    "\n",
    "    median1 = np.round(np.median(x1),decimals)\n",
    "    num_pro_temp = len(x1)\n",
    "\n",
    "def selection_stats(change, df):\n",
    "    filter_list = [i and j and k and l and m for i, j, k, l, m in \n",
    "                  zip((df['COUNTRY'] == select_country.value)^(select_country.value== 'ALL'),\n",
    "                      (df['LOB'] == select_lob.value)^(select_lob.value == 'ALL'),\n",
    "                      (df['SITE'] == select_site.value)^(select_site.value == 'ALL'),\n",
    "                      (df['PR_SIZE'] == select_prsize.value)^(select_prsize.value == 'ALL'),\n",
    "                      (df['MC_SIZE'] == select_csize.value)^(select_csize.value == 'ALL'))]\n",
    "    \n",
    "    temp_df = df[filter_list]\n",
    "    x1 = temp_df['DEV_TOT']\n",
    "    x2 = temp_df['DEV_RAN']\n",
    "    x3 = temp_df['DEV_EVE']\n",
    "    \n",
    "    with g_dev_hist1.batch_update():\n",
    "        g_dev_hist1.data[0].x = x1\n",
    "    with g_dev_hist2.batch_update():\n",
    "        g_dev_hist2.data[0].x = x2\n",
    "        g_dev_hist2.data[1].x = x3\n",
    "\n",
    "    return df_stats(temp_df)\n",
    "\n",
    "\n",
    "    #DEV_median_temp = [np.round(np.median(df['DEV_RAN']),decimals), np.round(np.median(df['DEV_EVE']),decimals), np.round(np.median(df['DEV_TOT']),decimals)]\n",
    "\n",
    "    #median1 = np.round(np.median(x1),decimals)\n",
    "    #num_pro_temp = len(x1)\n",
    "\n",
    "#response(1)    "
   ]
  },
  {
   "cell_type": "markdown",
   "id": "1c234585",
   "metadata": {},
   "source": [
    "### Results"
   ]
  },
  {
   "cell_type": "code",
   "execution_count": 90,
   "id": "83e8f759",
   "metadata": {},
   "outputs": [],
   "source": [
    "#Instruction to observe and execute filter changes\n",
    "select_country.observe(response, names='value')\n",
    "select_lob.observe(response, names='value')\n",
    "select_site.observe(response, names='value')\n",
    "select_prsize.observe(response, names='value')\n",
    "select_csize.observe(response, names='value')\n",
    "stat_selection.observe(response, names='value')"
   ]
  },
  {
   "cell_type": "code",
   "execution_count": 91,
   "id": "4b2194ea",
   "metadata": {
    "scrolled": false
   },
   "outputs": [
    {
     "data": {
      "application/vnd.jupyter.widget-view+json": {
       "model_id": "b009e19fc455422caad44675ec24a882",
       "version_major": 2,
       "version_minor": 0
      },
      "text/plain": [
       "VBox(children=(VBox(children=(VBox(children=(VBox(children=(Dropdown(description='Country', layout=Layout(heig…"
      ]
     },
     "metadata": {},
     "output_type": "display_data"
    }
   ],
   "source": [
    "#Layout for the histogram\n",
    "container1 = widgets.VBox([select_country, select_lob, select_site, select_prsize, select_csize])\n",
    "container2 = widgets.VBox([container1, g_dev_hist1])\n",
    "container3 = widgets.HBox([g_dev_bar2, g_dev_bar1])\n",
    "\n",
    "container_main1 = widgets.VBox([container2, g_dev_hist2])\n",
    "container_main2 = widgets.VBox([container_main1, container3])\n",
    "\n",
    "\n",
    "container_main2"
   ]
  },
  {
   "cell_type": "markdown",
   "id": "f3540715",
   "metadata": {},
   "source": [
    "## 1.2 Descriptive analytics (\"My company\")"
   ]
  },
  {
   "cell_type": "code",
   "execution_count": 93,
   "id": "e982d75c",
   "metadata": {},
   "outputs": [],
   "source": [
    "#Layout for the histogram\n",
    "container = widgets.HBox([select_country, select_lob])\n",
    "container2 = widgets.HBox([select_site, select_prsize, select_csize])\n",
    "#container3 = widgets.HBox([response(1), g_dev_hist2])\n",
    "#container4 = widgets.HBox([g_dev_hist2, g_dev_hist4])\n",
    "widgets.VBox([container, container2, g_dev_hist1, g_dev_bar1])\n",
    "\n",
    "df_c1 = df[(df['COUNTRY']=='Argentina')&(df['LOB']=='O&G - Downstream')&(df['MC_SIZE']=='Small')]\n",
    "\n",
    "figh_c1_1 = go.Histogram(x=df_c1['DEV_TOT'], opacity=0.7, name='Total deviation',xbins={\"size\": hist_xbins_size})\n",
    "figh_c1_2 = go.Histogram(x=df_c1['DEV_RAN'], opacity=0.5, name='Uncertainty',xbins={\"size\": hist_xbins_size/2})\n",
    "figh_c1_3 = go.Histogram(x=df_c1['DEV_EVE'], opacity=0.5, name='Risk events',xbins={\"size\": hist_xbins_size/2})\n",
    "\n",
    "dev_comp_c1_bar = px.bar(partials(df_c1),x='Factor',y='Impact', color = 'Variable',)\n",
    "dev_comp_c1_bar.update_layout({'paper_bgcolor': 'whitesmoke'},yaxis=dict(tickformat=\".1%\"), height=130,paper_bgcolor='whitesmoke',title=\"General uncertainty and risk's composition\")\n",
    "\n",
    "g_dev_c1_bar= go.FigureWidget(dev_comp_c1_bar,\n",
    "                           layout=go.Layout(\n",
    "                                  title=dict(text=\"General uncertainty and risk's composition\"#, x = 0.5\n",
    "                                            ),\n",
    "                                  barmode='relative',\n",
    "                                  boxmode='group',\n",
    "                                  #colorway=pc.sequential.Viridis,\n",
    "                                  \n",
    "                                  paper_bgcolor='whitesmoke',\n",
    "                                  bargap = 0.5,\n",
    "                                  bargroupgap=0.01,\n",
    "                                  yaxis=dict(tickformat=\".1%\")\n",
    "                              ))\n",
    "\n",
    "g_dev_c1_hist1 = go.FigureWidget(data=[figh_c1_1],\n",
    "                              layout=go.Layout(\n",
    "                                  title=dict(text='Deviation distribution'),\n",
    "                                  barmode='overlay',\n",
    "                                  paper_bgcolor='whitesmoke',\n",
    "                                  #plot_bgcolor='slategray'\n",
    "                                  bargap = 0.01,\n",
    "                                  xaxis=dict(tickformat=\".1%\")\n",
    "                              ))\n",
    "g_dev_c1_hist2 = go.FigureWidget(data=[figh_c1_2, figh_c1_3],\n",
    "                              layout=go.Layout(\n",
    "                                  title=dict(text=\"Uncertainty and risk's impact distribution\", x = 0.5\n",
    "                                            ),\n",
    "                                  barmode='overlay',\n",
    "                                  paper_bgcolor='whitesmoke',\n",
    "                                  bargap = 0.01,\n",
    "                                  xaxis=dict(tickformat=\".0%\")\n",
    "                              ))\n",
    "\n"
   ]
  },
  {
   "cell_type": "code",
   "execution_count": 94,
   "id": "f2226ed4",
   "metadata": {},
   "outputs": [
    {
     "data": {
      "application/vnd.jupyter.widget-view+json": {
       "model_id": "6aa29e5b495f46e19af13beb1461222e",
       "version_major": 2,
       "version_minor": 0
      },
      "text/plain": [
       "VBox(children=(VBox(children=(FigureWidget({\n",
       "    'data': [{'name': 'Total deviation',\n",
       "              'opacity':…"
      ]
     },
     "metadata": {},
     "output_type": "display_data"
    }
   ],
   "source": [
    "\n",
    "container21 = widgets.VBox([g_dev_c1_hist1])\n",
    "container22 = widgets.HBox([g_dev_c1_hist2,g_dev_c1_bar])\n",
    "\n",
    "container_main21 = widgets.VBox([container21, container22])\n",
    "\n",
    "container_main21"
   ]
  },
  {
   "cell_type": "markdown",
   "id": "fa019318",
   "metadata": {},
   "source": [
    "## 2. Predictive analytics (on \"my project\")"
   ]
  },
  {
   "cell_type": "markdown",
   "id": "7aaa58dc",
   "metadata": {},
   "source": [
    "#### 2.1 Projec's parameters - Size, contractors, site conditions, etc."
   ]
  },
  {
   "cell_type": "code",
   "execution_count": 95,
   "id": "95473a2b",
   "metadata": {},
   "outputs": [],
   "source": [
    "# Selection and text widgets to characterize the project to evaluate\n",
    "select_prsize_ev = widgets.Dropdown(\n",
    "    options=opt_prsize,\n",
    "    value='ALL',\n",
    "    description='Project size',\n",
    "    layout=Layout(width=elements_width, height=elements_height),\n",
    "    disabled=False,\n",
    "    tooltip=\"Filter by Projects' size\"\n",
    ")\n",
    "\n",
    "median1 = 0.23\n",
    "duration = 24\n",
    "\n",
    "stat_myproject_ev = widgets.HTML(\n",
    "            value = \"<h4>Statistics</h4>\"+\n",
    "            \"Quantity of projects considered = \"+str(2)+\".<br>\"+\n",
    "            \"The distribution based on your project's parameters has a median delay of \"+ str(median1*100)+\"%.<br>\"+\n",
    "            \"The P50 duration according to the analysis is of \"+str(duration*(1+median1))+\".<br>\", \n",
    "            placeholder = '', \n",
    "            description = ''\n",
    "        )\n",
    "\n",
    "container_21 = widgets.HBox([select_prsize_ev]) #incluir los containers que correspondan\n"
   ]
  },
  {
   "cell_type": "markdown",
   "id": "cc77ea60",
   "metadata": {},
   "source": [
    "#### 2.2 Historical delays distribution and statistics according to parameters"
   ]
  },
  {
   "cell_type": "code",
   "execution_count": 96,
   "id": "a261f2ed",
   "metadata": {},
   "outputs": [
    {
     "data": {
      "text/plain": [
       "((0.003993674980380654, -22.04267743678075, 22.442541873266762),\n",
       " 0.5151528235853426)"
      ]
     },
     "execution_count": 96,
     "metadata": {},
     "output_type": "execute_result"
    }
   ],
   "source": [
    "main_param_c1 = sp.stats.lognorm.fit(df_c1['DEV_TOT'])\n",
    "x = np.linspace(0,1,int(1/hist_xbins_size))\n",
    "gen_pdf_c1 = sp.stats.lognorm.pdf(x,main_param_c1[0],main_param_c1[1], main_param_c1[2])\n",
    "gen_cdf_c1 = sp.stats.lognorm.cdf(x,main_param_c1[0],main_param_c1[1], main_param_c1[2])\n",
    "scale = len(df_c1['DEV_TOT'])/(gen_pdf_c1.sum())\n",
    "main_pdf_c1 = (gen_pdf_c1)\n",
    "main_cdf_c1 = (gen_cdf_c1)\n",
    "\n",
    "main_param_c1, scale\n"
   ]
  },
  {
   "cell_type": "code",
   "execution_count": null,
   "id": "716b7338",
   "metadata": {},
   "outputs": [],
   "source": []
  },
  {
   "cell_type": "code",
   "execution_count": 97,
   "id": "9c60db9e",
   "metadata": {},
   "outputs": [
    {
     "data": {
      "application/vnd.jupyter.widget-view+json": {
       "model_id": "219495c7d76f4d17a27d2622b79d0732",
       "version_major": 2,
       "version_minor": 0
      },
      "text/plain": [
       "FigureWidget({\n",
       "    'data': [{'name': 'Total deviation',\n",
       "              'opacity': 0.7,\n",
       "              'type': 'h…"
      ]
     },
     "metadata": {},
     "output_type": "display_data"
    }
   ],
   "source": [
    "g_dev_hist4 = go.FigureWidget(data=[figh_c1_1],\n",
    "                              layout=go.Layout(\n",
    "                                  title=dict(text='Deviation distribution and Lognormal fit'),\n",
    "                                  barmode='overlay',\n",
    "                                  paper_bgcolor='whitesmoke',\n",
    "                                  #plot_bgcolor='slategray'\n",
    "                                  bargap = 0.01,\n",
    "                                  xaxis=dict(tickformat=\".1%\")\n",
    "                              ))\n",
    "g_dev_hist4.add_scatter(y = main_pdf_c1, x = x, name = 'Lognormal fit pdf')\n"
   ]
  },
  {
   "cell_type": "markdown",
   "id": "3b340ec2",
   "metadata": {},
   "source": [
    "#### Probability and cummulative distribution functions"
   ]
  },
  {
   "cell_type": "code",
   "execution_count": 98,
   "id": "05fd232e",
   "metadata": {},
   "outputs": [
    {
     "data": {
      "application/vnd.jupyter.widget-view+json": {
       "model_id": "6a3c9eb50b2b404dac0b174063398347",
       "version_major": 2,
       "version_minor": 0
      },
      "text/plain": [
       "VBox(children=(FigureWidget({\n",
       "    'data': [{'name': 'Lognormal fit pdf<br>(100% = mode)',\n",
       "              'type'…"
      ]
     },
     "metadata": {},
     "output_type": "display_data"
    }
   ],
   "source": [
    "#create an empty histogram to superpose pdf and cdf\n",
    "granularity = 1000\n",
    "hist_dumb = go.Histogram(x=np.zeros(len(df_c1['DEV_TOT'])), opacity=0.0, name='',xbins={\"size\": 1/granularity})\n",
    "\n",
    "#x = np.linspace(0,1,granularity)\n",
    "#gen_pdf_c1 = sp.stats.lognorm.pdf(x,main_param_c1[0],main_param_c1[1], main_param_c1[2])\n",
    "#gen_cdf_c1 = sp.stats.lognorm.cdf(x,main_param_c1[0],main_param_c1[1], main_param_c1[2])\n",
    "\n",
    "#scale = len(df['DEV_TOT'])/(gen_pdf.sum())\n",
    "#main_pdf = (gen_pdf)*scale\n",
    "#main_cdf = (gen_cdf)*scale\n",
    "\n",
    "g_dev_fit_c1 = go.FigureWidget(data=[hist_dumb]*0,\n",
    "                              layout=go.Layout(\n",
    "                                  title=dict(text='Deviation distribution and Lognormal fit'),\n",
    "                                  barmode='overlay',\n",
    "                                  paper_bgcolor='whitesmoke',\n",
    "                                  #plot_bgcolor= 'ghostwhite',#'slategray'\n",
    "                                  bargap = 0.01,\n",
    "                                  xaxis=dict(tickformat=\".1%\"),\n",
    "                                  yaxis=dict(tickformat=\".0%\")\n",
    "                              ))\n",
    "g_dev_fit_c1.add_scatter(y = main_pdf_c1/np.max(main_pdf_c1), x = x, name = 'Lognormal fit pdf<br>(100% = mode)')\n",
    "g_dev_fit_c1.add_scatter(y = gen_cdf_c1, x = x, name = 'Lognormal fit cdf')\n",
    "\n",
    "#container_22 = widgets.HBox([stat_myproject_ev])\n",
    "container_23 = widgets.VBox([g_dev_fit_c1])\n",
    "container_23"
   ]
  },
  {
   "cell_type": "markdown",
   "id": "2d34386f",
   "metadata": {},
   "source": [
    "## 3. Prescriptive analytics I (posible risks to mitigate and ranges to adjust for a required P50 / P80)"
   ]
  },
  {
   "cell_type": "markdown",
   "id": "54d4090a",
   "metadata": {},
   "source": [
    "## 4. Prescriptive analytics II (monthly follow-up and mitigation measures revision)"
   ]
  }
 ],
 "metadata": {
  "kernelspec": {
   "display_name": "Python 3",
   "language": "python",
   "name": "python3"
  },
  "language_info": {
   "codemirror_mode": {
    "name": "ipython",
    "version": 3
   },
   "file_extension": ".py",
   "mimetype": "text/x-python",
   "name": "python",
   "nbconvert_exporter": "python",
   "pygments_lexer": "ipython3",
   "version": "3.8.10"
  },
  "widgets": {
   "application/vnd.jupyter.widget-state+json": {
    "state": {
     "007713142986462cb3db75ef33ec8f87": {
      "model_module": "plotlywidget",
      "model_module_version": "^1.3.0",
      "model_name": "FigureModel",
      "state": {
       "_config": {
        "plotlyServerURL": "https://plotly.com"
       },
       "_data": [
        {
         "type": "bar",
         "uid": "b3a94f0a-8aec-42e3-920e-29b1b7f9e8be",
         "x": [
          "Uncertainty",
          "Uncertainty",
          "Uncertainty",
          "Uncertainty",
          "Uncertainty",
          "Risk",
          "Risk",
          "Risk",
          "Risk",
          "Risk"
         ],
         "y": [
          0.008653081391375012,
          0.0024850749303249988,
          0.050849884673799924,
          0.06434513214359996,
          0.042223610052300145,
          0.06018079578300002,
          0.020847653763125005,
          0.02187113600749998,
          0.04945040077770011,
          0.016138351174000032
         ]
        }
       ],
       "_js2py_restyle": {},
       "_js2py_update": {},
       "_last_layout_edit_id": 5,
       "_last_trace_edit_id": 4,
       "_layout": {
        "autosize": true,
        "bargap": 0.5,
        "bargroupgap": 0.01,
        "barmode": "relative",
        "boxmode": "group",
        "paper_bgcolor": "whitesmoke",
        "template": {
         "data": {
          "bar": [
           {
            "error_x": {
             "color": "#2a3f5f"
            },
            "error_y": {
             "color": "#2a3f5f"
            },
            "marker": {
             "line": {
              "color": "#E5ECF6",
              "width": 0.5
             }
            },
            "type": "bar"
           }
          ],
          "barpolar": [
           {
            "marker": {
             "line": {
              "color": "#E5ECF6",
              "width": 0.5
             }
            },
            "type": "barpolar"
           }
          ],
          "carpet": [
           {
            "aaxis": {
             "endlinecolor": "#2a3f5f",
             "gridcolor": "white",
             "linecolor": "white",
             "minorgridcolor": "white",
             "startlinecolor": "#2a3f5f"
            },
            "baxis": {
             "endlinecolor": "#2a3f5f",
             "gridcolor": "white",
             "linecolor": "white",
             "minorgridcolor": "white",
             "startlinecolor": "#2a3f5f"
            },
            "type": "carpet"
           }
          ],
          "choropleth": [
           {
            "colorbar": {
             "outlinewidth": 0,
             "ticks": ""
            },
            "type": "choropleth"
           }
          ],
          "contour": [
           {
            "colorbar": {
             "outlinewidth": 0,
             "ticks": ""
            },
            "colorscale": [
             [
              0,
              "#0d0887"
             ],
             [
              0.1111111111111111,
              "#46039f"
             ],
             [
              0.2222222222222222,
              "#7201a8"
             ],
             [
              0.3333333333333333,
              "#9c179e"
             ],
             [
              0.4444444444444444,
              "#bd3786"
             ],
             [
              0.5555555555555556,
              "#d8576b"
             ],
             [
              0.6666666666666666,
              "#ed7953"
             ],
             [
              0.7777777777777778,
              "#fb9f3a"
             ],
             [
              0.8888888888888888,
              "#fdca26"
             ],
             [
              1,
              "#f0f921"
             ]
            ],
            "type": "contour"
           }
          ],
          "contourcarpet": [
           {
            "colorbar": {
             "outlinewidth": 0,
             "ticks": ""
            },
            "type": "contourcarpet"
           }
          ],
          "heatmap": [
           {
            "colorbar": {
             "outlinewidth": 0,
             "ticks": ""
            },
            "colorscale": [
             [
              0,
              "#0d0887"
             ],
             [
              0.1111111111111111,
              "#46039f"
             ],
             [
              0.2222222222222222,
              "#7201a8"
             ],
             [
              0.3333333333333333,
              "#9c179e"
             ],
             [
              0.4444444444444444,
              "#bd3786"
             ],
             [
              0.5555555555555556,
              "#d8576b"
             ],
             [
              0.6666666666666666,
              "#ed7953"
             ],
             [
              0.7777777777777778,
              "#fb9f3a"
             ],
             [
              0.8888888888888888,
              "#fdca26"
             ],
             [
              1,
              "#f0f921"
             ]
            ],
            "type": "heatmap"
           }
          ],
          "heatmapgl": [
           {
            "colorbar": {
             "outlinewidth": 0,
             "ticks": ""
            },
            "colorscale": [
             [
              0,
              "#0d0887"
             ],
             [
              0.1111111111111111,
              "#46039f"
             ],
             [
              0.2222222222222222,
              "#7201a8"
             ],
             [
              0.3333333333333333,
              "#9c179e"
             ],
             [
              0.4444444444444444,
              "#bd3786"
             ],
             [
              0.5555555555555556,
              "#d8576b"
             ],
             [
              0.6666666666666666,
              "#ed7953"
             ],
             [
              0.7777777777777778,
              "#fb9f3a"
             ],
             [
              0.8888888888888888,
              "#fdca26"
             ],
             [
              1,
              "#f0f921"
             ]
            ],
            "type": "heatmapgl"
           }
          ],
          "histogram": [
           {
            "marker": {
             "colorbar": {
              "outlinewidth": 0,
              "ticks": ""
             }
            },
            "type": "histogram"
           }
          ],
          "histogram2d": [
           {
            "colorbar": {
             "outlinewidth": 0,
             "ticks": ""
            },
            "colorscale": [
             [
              0,
              "#0d0887"
             ],
             [
              0.1111111111111111,
              "#46039f"
             ],
             [
              0.2222222222222222,
              "#7201a8"
             ],
             [
              0.3333333333333333,
              "#9c179e"
             ],
             [
              0.4444444444444444,
              "#bd3786"
             ],
             [
              0.5555555555555556,
              "#d8576b"
             ],
             [
              0.6666666666666666,
              "#ed7953"
             ],
             [
              0.7777777777777778,
              "#fb9f3a"
             ],
             [
              0.8888888888888888,
              "#fdca26"
             ],
             [
              1,
              "#f0f921"
             ]
            ],
            "type": "histogram2d"
           }
          ],
          "histogram2dcontour": [
           {
            "colorbar": {
             "outlinewidth": 0,
             "ticks": ""
            },
            "colorscale": [
             [
              0,
              "#0d0887"
             ],
             [
              0.1111111111111111,
              "#46039f"
             ],
             [
              0.2222222222222222,
              "#7201a8"
             ],
             [
              0.3333333333333333,
              "#9c179e"
             ],
             [
              0.4444444444444444,
              "#bd3786"
             ],
             [
              0.5555555555555556,
              "#d8576b"
             ],
             [
              0.6666666666666666,
              "#ed7953"
             ],
             [
              0.7777777777777778,
              "#fb9f3a"
             ],
             [
              0.8888888888888888,
              "#fdca26"
             ],
             [
              1,
              "#f0f921"
             ]
            ],
            "type": "histogram2dcontour"
           }
          ],
          "mesh3d": [
           {
            "colorbar": {
             "outlinewidth": 0,
             "ticks": ""
            },
            "type": "mesh3d"
           }
          ],
          "parcoords": [
           {
            "line": {
             "colorbar": {
              "outlinewidth": 0,
              "ticks": ""
             }
            },
            "type": "parcoords"
           }
          ],
          "pie": [
           {
            "automargin": true,
            "type": "pie"
           }
          ],
          "scatter": [
           {
            "marker": {
             "colorbar": {
              "outlinewidth": 0,
              "ticks": ""
             }
            },
            "type": "scatter"
           }
          ],
          "scatter3d": [
           {
            "line": {
             "colorbar": {
              "outlinewidth": 0,
              "ticks": ""
             }
            },
            "marker": {
             "colorbar": {
              "outlinewidth": 0,
              "ticks": ""
             }
            },
            "type": "scatter3d"
           }
          ],
          "scattercarpet": [
           {
            "marker": {
             "colorbar": {
              "outlinewidth": 0,
              "ticks": ""
             }
            },
            "type": "scattercarpet"
           }
          ],
          "scattergeo": [
           {
            "marker": {
             "colorbar": {
              "outlinewidth": 0,
              "ticks": ""
             }
            },
            "type": "scattergeo"
           }
          ],
          "scattergl": [
           {
            "marker": {
             "colorbar": {
              "outlinewidth": 0,
              "ticks": ""
             }
            },
            "type": "scattergl"
           }
          ],
          "scattermapbox": [
           {
            "marker": {
             "colorbar": {
              "outlinewidth": 0,
              "ticks": ""
             }
            },
            "type": "scattermapbox"
           }
          ],
          "scatterpolar": [
           {
            "marker": {
             "colorbar": {
              "outlinewidth": 0,
              "ticks": ""
             }
            },
            "type": "scatterpolar"
           }
          ],
          "scatterpolargl": [
           {
            "marker": {
             "colorbar": {
              "outlinewidth": 0,
              "ticks": ""
             }
            },
            "type": "scatterpolargl"
           }
          ],
          "scatterternary": [
           {
            "marker": {
             "colorbar": {
              "outlinewidth": 0,
              "ticks": ""
             }
            },
            "type": "scatterternary"
           }
          ],
          "surface": [
           {
            "colorbar": {
             "outlinewidth": 0,
             "ticks": ""
            },
            "colorscale": [
             [
              0,
              "#0d0887"
             ],
             [
              0.1111111111111111,
              "#46039f"
             ],
             [
              0.2222222222222222,
              "#7201a8"
             ],
             [
              0.3333333333333333,
              "#9c179e"
             ],
             [
              0.4444444444444444,
              "#bd3786"
             ],
             [
              0.5555555555555556,
              "#d8576b"
             ],
             [
              0.6666666666666666,
              "#ed7953"
             ],
             [
              0.7777777777777778,
              "#fb9f3a"
             ],
             [
              0.8888888888888888,
              "#fdca26"
             ],
             [
              1,
              "#f0f921"
             ]
            ],
            "type": "surface"
           }
          ],
          "table": [
           {
            "cells": {
             "fill": {
              "color": "#EBF0F8"
             },
             "line": {
              "color": "white"
             }
            },
            "header": {
             "fill": {
              "color": "#C8D4E3"
             },
             "line": {
              "color": "white"
             }
            },
            "type": "table"
           }
          ]
         },
         "layout": {
          "annotationdefaults": {
           "arrowcolor": "#2a3f5f",
           "arrowhead": 0,
           "arrowwidth": 1
          },
          "coloraxis": {
           "colorbar": {
            "outlinewidth": 0,
            "ticks": ""
           }
          },
          "colorscale": {
           "diverging": [
            [
             0,
             "#8e0152"
            ],
            [
             0.1,
             "#c51b7d"
            ],
            [
             0.2,
             "#de77ae"
            ],
            [
             0.3,
             "#f1b6da"
            ],
            [
             0.4,
             "#fde0ef"
            ],
            [
             0.5,
             "#f7f7f7"
            ],
            [
             0.6,
             "#e6f5d0"
            ],
            [
             0.7,
             "#b8e186"
            ],
            [
             0.8,
             "#7fbc41"
            ],
            [
             0.9,
             "#4d9221"
            ],
            [
             1,
             "#276419"
            ]
           ],
           "sequential": [
            [
             0,
             "#0d0887"
            ],
            [
             0.1111111111111111,
             "#46039f"
            ],
            [
             0.2222222222222222,
             "#7201a8"
            ],
            [
             0.3333333333333333,
             "#9c179e"
            ],
            [
             0.4444444444444444,
             "#bd3786"
            ],
            [
             0.5555555555555556,
             "#d8576b"
            ],
            [
             0.6666666666666666,
             "#ed7953"
            ],
            [
             0.7777777777777778,
             "#fb9f3a"
            ],
            [
             0.8888888888888888,
             "#fdca26"
            ],
            [
             1,
             "#f0f921"
            ]
           ],
           "sequentialminus": [
            [
             0,
             "#0d0887"
            ],
            [
             0.1111111111111111,
             "#46039f"
            ],
            [
             0.2222222222222222,
             "#7201a8"
            ],
            [
             0.3333333333333333,
             "#9c179e"
            ],
            [
             0.4444444444444444,
             "#bd3786"
            ],
            [
             0.5555555555555556,
             "#d8576b"
            ],
            [
             0.6666666666666666,
             "#ed7953"
            ],
            [
             0.7777777777777778,
             "#fb9f3a"
            ],
            [
             0.8888888888888888,
             "#fdca26"
            ],
            [
             1,
             "#f0f921"
            ]
           ]
          },
          "colorway": [
           "#636efa",
           "#EF553B",
           "#00cc96",
           "#ab63fa",
           "#FFA15A",
           "#19d3f3",
           "#FF6692",
           "#B6E880",
           "#FF97FF",
           "#FECB52"
          ],
          "font": {
           "color": "#2a3f5f"
          },
          "geo": {
           "bgcolor": "white",
           "lakecolor": "white",
           "landcolor": "#E5ECF6",
           "showlakes": true,
           "showland": true,
           "subunitcolor": "white"
          },
          "hoverlabel": {
           "align": "left"
          },
          "hovermode": "closest",
          "mapbox": {
           "style": "light"
          },
          "paper_bgcolor": "white",
          "plot_bgcolor": "#E5ECF6",
          "polar": {
           "angularaxis": {
            "gridcolor": "white",
            "linecolor": "white",
            "ticks": ""
           },
           "bgcolor": "#E5ECF6",
           "radialaxis": {
            "gridcolor": "white",
            "linecolor": "white",
            "ticks": ""
           }
          },
          "scene": {
           "xaxis": {
            "backgroundcolor": "#E5ECF6",
            "gridcolor": "white",
            "gridwidth": 2,
            "linecolor": "white",
            "showbackground": true,
            "ticks": "",
            "zerolinecolor": "white"
           },
           "yaxis": {
            "backgroundcolor": "#E5ECF6",
            "gridcolor": "white",
            "gridwidth": 2,
            "linecolor": "white",
            "showbackground": true,
            "ticks": "",
            "zerolinecolor": "white"
           },
           "zaxis": {
            "backgroundcolor": "#E5ECF6",
            "gridcolor": "white",
            "gridwidth": 2,
            "linecolor": "white",
            "showbackground": true,
            "ticks": "",
            "zerolinecolor": "white"
           }
          },
          "shapedefaults": {
           "line": {
            "color": "#2a3f5f"
           }
          },
          "ternary": {
           "aaxis": {
            "gridcolor": "white",
            "linecolor": "white",
            "ticks": ""
           },
           "baxis": {
            "gridcolor": "white",
            "linecolor": "white",
            "ticks": ""
           },
           "bgcolor": "#E5ECF6",
           "caxis": {
            "gridcolor": "white",
            "linecolor": "white",
            "ticks": ""
           }
          },
          "title": {
           "x": 0.05
          },
          "xaxis": {
           "automargin": true,
           "gridcolor": "white",
           "linecolor": "white",
           "ticks": "",
           "title": {
            "standoff": 15
           },
           "zerolinecolor": "white",
           "zerolinewidth": 2
          },
          "yaxis": {
           "automargin": true,
           "gridcolor": "white",
           "linecolor": "white",
           "ticks": "",
           "title": {
            "standoff": 15
           },
           "zerolinecolor": "white",
           "zerolinewidth": 2
          }
         }
        },
        "title": {
         "text": "Uncertainty and risk's distribution <br>(selection)"
        },
        "yaxis": {
         "tickformat": ".1%"
        }
       },
       "_py2js_addTraces": {},
       "_py2js_animate": {},
       "_py2js_deleteTraces": {},
       "_py2js_moveTraces": {},
       "_py2js_removeLayoutProps": {},
       "_py2js_removeTraceProps": {},
       "_py2js_restyle": {},
       "_view_count": 1
      }
     },
     "00b60f08bd1d4d82b0e2179593d43c65": {
      "buffers": [
       {
        "data": "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",
        "encoding": "base64",
        "path": [
         "_data",
         0,
         "x",
         "value"
        ]
       },
       {
        "data": "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",
        "encoding": "base64",
        "path": [
         "_data",
         1,
         "x",
         "value"
        ]
       }
      ],
      "model_module": "plotlywidget",
      "model_module_version": "^1.3.0",
      "model_name": "FigureModel",
      "state": {
       "_config": {
        "plotlyServerURL": "https://plotly.com"
       },
       "_data": [
        {
         "name": "Uncertainty",
         "opacity": 0.5,
         "type": "histogram",
         "uid": "d5e5916a-0518-4933-8862-3aed99b535e2",
         "x": {
          "dtype": "float64",
          "shape": [
           2000
          ],
          "value": {}
         },
         "xbins": {
          "size": 0.005
         }
        },
        {
         "name": "Risk events",
         "opacity": 0.5,
         "type": "histogram",
         "uid": "d89fbd24-c0d9-42ea-8ae5-953217c7956f",
         "x": {
          "dtype": "float64",
          "shape": [
           2000
          ],
          "value": {}
         },
         "xbins": {
          "size": 0.005
         }
        }
       ],
       "_js2py_restyle": {},
       "_js2py_update": {},
       "_last_layout_edit_id": 5,
       "_last_trace_edit_id": 4,
       "_layout": {
        "autosize": true,
        "bargap": 0.01,
        "barmode": "overlay",
        "paper_bgcolor": "whitesmoke",
        "template": {
         "data": {
          "bar": [
           {
            "error_x": {
             "color": "#2a3f5f"
            },
            "error_y": {
             "color": "#2a3f5f"
            },
            "marker": {
             "line": {
              "color": "#E5ECF6",
              "width": 0.5
             }
            },
            "type": "bar"
           }
          ],
          "barpolar": [
           {
            "marker": {
             "line": {
              "color": "#E5ECF6",
              "width": 0.5
             }
            },
            "type": "barpolar"
           }
          ],
          "carpet": [
           {
            "aaxis": {
             "endlinecolor": "#2a3f5f",
             "gridcolor": "white",
             "linecolor": "white",
             "minorgridcolor": "white",
             "startlinecolor": "#2a3f5f"
            },
            "baxis": {
             "endlinecolor": "#2a3f5f",
             "gridcolor": "white",
             "linecolor": "white",
             "minorgridcolor": "white",
             "startlinecolor": "#2a3f5f"
            },
            "type": "carpet"
           }
          ],
          "choropleth": [
           {
            "colorbar": {
             "outlinewidth": 0,
             "ticks": ""
            },
            "type": "choropleth"
           }
          ],
          "contour": [
           {
            "colorbar": {
             "outlinewidth": 0,
             "ticks": ""
            },
            "colorscale": [
             [
              0,
              "#0d0887"
             ],
             [
              0.1111111111111111,
              "#46039f"
             ],
             [
              0.2222222222222222,
              "#7201a8"
             ],
             [
              0.3333333333333333,
              "#9c179e"
             ],
             [
              0.4444444444444444,
              "#bd3786"
             ],
             [
              0.5555555555555556,
              "#d8576b"
             ],
             [
              0.6666666666666666,
              "#ed7953"
             ],
             [
              0.7777777777777778,
              "#fb9f3a"
             ],
             [
              0.8888888888888888,
              "#fdca26"
             ],
             [
              1,
              "#f0f921"
             ]
            ],
            "type": "contour"
           }
          ],
          "contourcarpet": [
           {
            "colorbar": {
             "outlinewidth": 0,
             "ticks": ""
            },
            "type": "contourcarpet"
           }
          ],
          "heatmap": [
           {
            "colorbar": {
             "outlinewidth": 0,
             "ticks": ""
            },
            "colorscale": [
             [
              0,
              "#0d0887"
             ],
             [
              0.1111111111111111,
              "#46039f"
             ],
             [
              0.2222222222222222,
              "#7201a8"
             ],
             [
              0.3333333333333333,
              "#9c179e"
             ],
             [
              0.4444444444444444,
              "#bd3786"
             ],
             [
              0.5555555555555556,
              "#d8576b"
             ],
             [
              0.6666666666666666,
              "#ed7953"
             ],
             [
              0.7777777777777778,
              "#fb9f3a"
             ],
             [
              0.8888888888888888,
              "#fdca26"
             ],
             [
              1,
              "#f0f921"
             ]
            ],
            "type": "heatmap"
           }
          ],
          "heatmapgl": [
           {
            "colorbar": {
             "outlinewidth": 0,
             "ticks": ""
            },
            "colorscale": [
             [
              0,
              "#0d0887"
             ],
             [
              0.1111111111111111,
              "#46039f"
             ],
             [
              0.2222222222222222,
              "#7201a8"
             ],
             [
              0.3333333333333333,
              "#9c179e"
             ],
             [
              0.4444444444444444,
              "#bd3786"
             ],
             [
              0.5555555555555556,
              "#d8576b"
             ],
             [
              0.6666666666666666,
              "#ed7953"
             ],
             [
              0.7777777777777778,
              "#fb9f3a"
             ],
             [
              0.8888888888888888,
              "#fdca26"
             ],
             [
              1,
              "#f0f921"
             ]
            ],
            "type": "heatmapgl"
           }
          ],
          "histogram": [
           {
            "marker": {
             "colorbar": {
              "outlinewidth": 0,
              "ticks": ""
             }
            },
            "type": "histogram"
           }
          ],
          "histogram2d": [
           {
            "colorbar": {
             "outlinewidth": 0,
             "ticks": ""
            },
            "colorscale": [
             [
              0,
              "#0d0887"
             ],
             [
              0.1111111111111111,
              "#46039f"
             ],
             [
              0.2222222222222222,
              "#7201a8"
             ],
             [
              0.3333333333333333,
              "#9c179e"
             ],
             [
              0.4444444444444444,
              "#bd3786"
             ],
             [
              0.5555555555555556,
              "#d8576b"
             ],
             [
              0.6666666666666666,
              "#ed7953"
             ],
             [
              0.7777777777777778,
              "#fb9f3a"
             ],
             [
              0.8888888888888888,
              "#fdca26"
             ],
             [
              1,
              "#f0f921"
             ]
            ],
            "type": "histogram2d"
           }
          ],
          "histogram2dcontour": [
           {
            "colorbar": {
             "outlinewidth": 0,
             "ticks": ""
            },
            "colorscale": [
             [
              0,
              "#0d0887"
             ],
             [
              0.1111111111111111,
              "#46039f"
             ],
             [
              0.2222222222222222,
              "#7201a8"
             ],
             [
              0.3333333333333333,
              "#9c179e"
             ],
             [
              0.4444444444444444,
              "#bd3786"
             ],
             [
              0.5555555555555556,
              "#d8576b"
             ],
             [
              0.6666666666666666,
              "#ed7953"
             ],
             [
              0.7777777777777778,
              "#fb9f3a"
             ],
             [
              0.8888888888888888,
              "#fdca26"
             ],
             [
              1,
              "#f0f921"
             ]
            ],
            "type": "histogram2dcontour"
           }
          ],
          "mesh3d": [
           {
            "colorbar": {
             "outlinewidth": 0,
             "ticks": ""
            },
            "type": "mesh3d"
           }
          ],
          "parcoords": [
           {
            "line": {
             "colorbar": {
              "outlinewidth": 0,
              "ticks": ""
             }
            },
            "type": "parcoords"
           }
          ],
          "pie": [
           {
            "automargin": true,
            "type": "pie"
           }
          ],
          "scatter": [
           {
            "marker": {
             "colorbar": {
              "outlinewidth": 0,
              "ticks": ""
             }
            },
            "type": "scatter"
           }
          ],
          "scatter3d": [
           {
            "line": {
             "colorbar": {
              "outlinewidth": 0,
              "ticks": ""
             }
            },
            "marker": {
             "colorbar": {
              "outlinewidth": 0,
              "ticks": ""
             }
            },
            "type": "scatter3d"
           }
          ],
          "scattercarpet": [
           {
            "marker": {
             "colorbar": {
              "outlinewidth": 0,
              "ticks": ""
             }
            },
            "type": "scattercarpet"
           }
          ],
          "scattergeo": [
           {
            "marker": {
             "colorbar": {
              "outlinewidth": 0,
              "ticks": ""
             }
            },
            "type": "scattergeo"
           }
          ],
          "scattergl": [
           {
            "marker": {
             "colorbar": {
              "outlinewidth": 0,
              "ticks": ""
             }
            },
            "type": "scattergl"
           }
          ],
          "scattermapbox": [
           {
            "marker": {
             "colorbar": {
              "outlinewidth": 0,
              "ticks": ""
             }
            },
            "type": "scattermapbox"
           }
          ],
          "scatterpolar": [
           {
            "marker": {
             "colorbar": {
              "outlinewidth": 0,
              "ticks": ""
             }
            },
            "type": "scatterpolar"
           }
          ],
          "scatterpolargl": [
           {
            "marker": {
             "colorbar": {
              "outlinewidth": 0,
              "ticks": ""
             }
            },
            "type": "scatterpolargl"
           }
          ],
          "scatterternary": [
           {
            "marker": {
             "colorbar": {
              "outlinewidth": 0,
              "ticks": ""
             }
            },
            "type": "scatterternary"
           }
          ],
          "surface": [
           {
            "colorbar": {
             "outlinewidth": 0,
             "ticks": ""
            },
            "colorscale": [
             [
              0,
              "#0d0887"
             ],
             [
              0.1111111111111111,
              "#46039f"
             ],
             [
              0.2222222222222222,
              "#7201a8"
             ],
             [
              0.3333333333333333,
              "#9c179e"
             ],
             [
              0.4444444444444444,
              "#bd3786"
             ],
             [
              0.5555555555555556,
              "#d8576b"
             ],
             [
              0.6666666666666666,
              "#ed7953"
             ],
             [
              0.7777777777777778,
              "#fb9f3a"
             ],
             [
              0.8888888888888888,
              "#fdca26"
             ],
             [
              1,
              "#f0f921"
             ]
            ],
            "type": "surface"
           }
          ],
          "table": [
           {
            "cells": {
             "fill": {
              "color": "#EBF0F8"
             },
             "line": {
              "color": "white"
             }
            },
            "header": {
             "fill": {
              "color": "#C8D4E3"
             },
             "line": {
              "color": "white"
             }
            },
            "type": "table"
           }
          ]
         },
         "layout": {
          "annotationdefaults": {
           "arrowcolor": "#2a3f5f",
           "arrowhead": 0,
           "arrowwidth": 1
          },
          "coloraxis": {
           "colorbar": {
            "outlinewidth": 0,
            "ticks": ""
           }
          },
          "colorscale": {
           "diverging": [
            [
             0,
             "#8e0152"
            ],
            [
             0.1,
             "#c51b7d"
            ],
            [
             0.2,
             "#de77ae"
            ],
            [
             0.3,
             "#f1b6da"
            ],
            [
             0.4,
             "#fde0ef"
            ],
            [
             0.5,
             "#f7f7f7"
            ],
            [
             0.6,
             "#e6f5d0"
            ],
            [
             0.7,
             "#b8e186"
            ],
            [
             0.8,
             "#7fbc41"
            ],
            [
             0.9,
             "#4d9221"
            ],
            [
             1,
             "#276419"
            ]
           ],
           "sequential": [
            [
             0,
             "#0d0887"
            ],
            [
             0.1111111111111111,
             "#46039f"
            ],
            [
             0.2222222222222222,
             "#7201a8"
            ],
            [
             0.3333333333333333,
             "#9c179e"
            ],
            [
             0.4444444444444444,
             "#bd3786"
            ],
            [
             0.5555555555555556,
             "#d8576b"
            ],
            [
             0.6666666666666666,
             "#ed7953"
            ],
            [
             0.7777777777777778,
             "#fb9f3a"
            ],
            [
             0.8888888888888888,
             "#fdca26"
            ],
            [
             1,
             "#f0f921"
            ]
           ],
           "sequentialminus": [
            [
             0,
             "#0d0887"
            ],
            [
             0.1111111111111111,
             "#46039f"
            ],
            [
             0.2222222222222222,
             "#7201a8"
            ],
            [
             0.3333333333333333,
             "#9c179e"
            ],
            [
             0.4444444444444444,
             "#bd3786"
            ],
            [
             0.5555555555555556,
             "#d8576b"
            ],
            [
             0.6666666666666666,
             "#ed7953"
            ],
            [
             0.7777777777777778,
             "#fb9f3a"
            ],
            [
             0.8888888888888888,
             "#fdca26"
            ],
            [
             1,
             "#f0f921"
            ]
           ]
          },
          "colorway": [
           "#636efa",
           "#EF553B",
           "#00cc96",
           "#ab63fa",
           "#FFA15A",
           "#19d3f3",
           "#FF6692",
           "#B6E880",
           "#FF97FF",
           "#FECB52"
          ],
          "font": {
           "color": "#2a3f5f"
          },
          "geo": {
           "bgcolor": "white",
           "lakecolor": "white",
           "landcolor": "#E5ECF6",
           "showlakes": true,
           "showland": true,
           "subunitcolor": "white"
          },
          "hoverlabel": {
           "align": "left"
          },
          "hovermode": "closest",
          "mapbox": {
           "style": "light"
          },
          "paper_bgcolor": "white",
          "plot_bgcolor": "#E5ECF6",
          "polar": {
           "angularaxis": {
            "gridcolor": "white",
            "linecolor": "white",
            "ticks": ""
           },
           "bgcolor": "#E5ECF6",
           "radialaxis": {
            "gridcolor": "white",
            "linecolor": "white",
            "ticks": ""
           }
          },
          "scene": {
           "xaxis": {
            "backgroundcolor": "#E5ECF6",
            "gridcolor": "white",
            "gridwidth": 2,
            "linecolor": "white",
            "showbackground": true,
            "ticks": "",
            "zerolinecolor": "white"
           },
           "yaxis": {
            "backgroundcolor": "#E5ECF6",
            "gridcolor": "white",
            "gridwidth": 2,
            "linecolor": "white",
            "showbackground": true,
            "ticks": "",
            "zerolinecolor": "white"
           },
           "zaxis": {
            "backgroundcolor": "#E5ECF6",
            "gridcolor": "white",
            "gridwidth": 2,
            "linecolor": "white",
            "showbackground": true,
            "ticks": "",
            "zerolinecolor": "white"
           }
          },
          "shapedefaults": {
           "line": {
            "color": "#2a3f5f"
           }
          },
          "ternary": {
           "aaxis": {
            "gridcolor": "white",
            "linecolor": "white",
            "ticks": ""
           },
           "baxis": {
            "gridcolor": "white",
            "linecolor": "white",
            "ticks": ""
           },
           "bgcolor": "#E5ECF6",
           "caxis": {
            "gridcolor": "white",
            "linecolor": "white",
            "ticks": ""
           }
          },
          "title": {
           "x": 0.05
          },
          "xaxis": {
           "automargin": true,
           "gridcolor": "white",
           "linecolor": "white",
           "ticks": "",
           "title": {
            "standoff": 15
           },
           "zerolinecolor": "white",
           "zerolinewidth": 2
          },
          "yaxis": {
           "automargin": true,
           "gridcolor": "white",
           "linecolor": "white",
           "ticks": "",
           "title": {
            "standoff": 15
           },
           "zerolinecolor": "white",
           "zerolinewidth": 2
          }
         }
        },
        "title": {
         "text": "Uncertainty and risk's impact distribution"
        },
        "xaxis": {
         "tickformat": ".1%"
        }
       },
       "_py2js_addTraces": {},
       "_py2js_animate": {},
       "_py2js_deleteTraces": {},
       "_py2js_moveTraces": {},
       "_py2js_removeLayoutProps": {},
       "_py2js_removeTraceProps": {},
       "_py2js_restyle": {},
       "_view_count": 1
      }
     },
     "030ecb4b859f42a2a49d71617b115b25": {
      "model_module": "@jupyter-widgets/controls",
      "model_module_version": "1.5.0",
      "model_name": "VBoxModel",
      "state": {
       "children": [
        "IPY_MODEL_b1eceae41baa48f88e5c522b746e8961",
        "IPY_MODEL_61f01ed1f7f64bf7a18a494f40114768"
       ],
       "layout": "IPY_MODEL_85d8272a9962415f9b04b984affb0cc8"
      }
     },
     "033ee5892ae7455080a667917ead19b7": {
      "model_module": "@jupyter-widgets/controls",
      "model_module_version": "1.5.0",
      "model_name": "DescriptionStyleModel",
      "state": {
       "description_width": ""
      }
     },
     "03f49ba7cd8c4510a8f3c3cb3d483294": {
      "model_module": "plotlywidget",
      "model_module_version": "^1.3.0",
      "model_name": "FigureModel",
      "state": {
       "_config": {
        "plotlyServerURL": "https://plotly.com"
       },
       "_data": [
        {
         "alignmentgroup": "True",
         "hoverlabel": {
          "namelength": 0
         },
         "hovertemplate": "Variable=Country<br>Factor=%{x}<br>Impact=%{y}",
         "legendgroup": "Variable=Country",
         "marker": {
          "color": "#636efa"
         },
         "name": "Variable=Country",
         "offsetgroup": "Variable=Country",
         "orientation": "v",
         "showlegend": true,
         "textposition": "auto",
         "type": "bar",
         "uid": "35b0bcd6-59e4-4d01-927c-3686154af146",
         "x": [
          "Uncertainty"
         ],
         "xaxis": "x",
         "y": [
          0.008290348406862744
         ],
         "yaxis": "y"
        },
        {
         "alignmentgroup": "True",
         "hoverlabel": {
          "namelength": 0
         },
         "hovertemplate": "Variable=LOB<br>Factor=%{x}<br>Impact=%{y}",
         "legendgroup": "Variable=LOB",
         "marker": {
          "color": "#EF553B"
         },
         "name": "Variable=LOB",
         "offsetgroup": "Variable=LOB",
         "orientation": "v",
         "showlegend": true,
         "textposition": "auto",
         "type": "bar",
         "uid": "65eb22b3-d967-459d-8ee8-94784c1841f6",
         "x": [
          "Uncertainty"
         ],
         "xaxis": "x",
         "y": [
          0.0038506858166666665
         ],
         "yaxis": "y"
        },
        {
         "alignmentgroup": "True",
         "hoverlabel": {
          "namelength": 0
         },
         "hovertemplate": "Variable=Site<br>Factor=%{x}<br>Impact=%{y}",
         "legendgroup": "Variable=Site",
         "marker": {
          "color": "#00cc96"
         },
         "name": "Variable=Site",
         "offsetgroup": "Variable=Site",
         "orientation": "v",
         "showlegend": true,
         "textposition": "auto",
         "type": "bar",
         "uid": "743e1d75-9b71-4842-98ed-f61dde9a7aee",
         "x": [
          "Uncertainty"
         ],
         "xaxis": "x",
         "y": [
          0.04802473106666667
         ],
         "yaxis": "y"
        },
        {
         "alignmentgroup": "True",
         "hoverlabel": {
          "namelength": 0
         },
         "hovertemplate": "Variable=Project Size<br>Factor=%{x}<br>Impact=%{y}",
         "legendgroup": "Variable=Project Size",
         "marker": {
          "color": "#ab63fa"
         },
         "name": "Variable=Project Size",
         "offsetgroup": "Variable=Project Size",
         "orientation": "v",
         "showlegend": true,
         "textposition": "auto",
         "type": "bar",
         "uid": "e13920a8-dd5c-478c-b403-74bbbb999080",
         "x": [
          "Uncertainty"
         ],
         "xaxis": "x",
         "y": [
          0.0639900158529412
         ],
         "yaxis": "y"
        },
        {
         "alignmentgroup": "True",
         "hoverlabel": {
          "namelength": 0
         },
         "hovertemplate": "Variable=Contractor<br>Factor=%{x}<br>Impact=%{y}",
         "legendgroup": "Variable=Contractor",
         "marker": {
          "color": "#FFA15A"
         },
         "name": "Variable=Contractor",
         "offsetgroup": "Variable=Contractor",
         "orientation": "v",
         "showlegend": true,
         "textposition": "auto",
         "type": "bar",
         "uid": "cd89ccf0-7a94-4a0e-b65b-1781e4bbd036",
         "x": [
          "Uncertainty"
         ],
         "xaxis": "x",
         "y": [
          0.047983274474509806
         ],
         "yaxis": "y"
        },
        {
         "alignmentgroup": "True",
         "hoverlabel": {
          "namelength": 0
         },
         "hovertemplate": "Variable=Social<br>Factor=%{x}<br>Impact=%{y}",
         "legendgroup": "Variable=Social",
         "marker": {
          "color": "#19d3f3"
         },
         "name": "Variable=Social",
         "offsetgroup": "Variable=Social",
         "orientation": "v",
         "showlegend": true,
         "textposition": "auto",
         "type": "bar",
         "uid": "6f89fd6c-c2e9-4ce8-a60f-db88fd4232fd",
         "x": [
          "Risk"
         ],
         "xaxis": "x",
         "y": [
          0.05059308134117647
         ],
         "yaxis": "y"
        },
        {
         "alignmentgroup": "True",
         "hoverlabel": {
          "namelength": 0
         },
         "hovertemplate": "Variable=Procurement<br>Factor=%{x}<br>Impact=%{y}",
         "legendgroup": "Variable=Procurement",
         "marker": {
          "color": "#FF6692"
         },
         "name": "Variable=Procurement",
         "offsetgroup": "Variable=Procurement",
         "orientation": "v",
         "showlegend": true,
         "textposition": "auto",
         "type": "bar",
         "uid": "c4f835fa-7853-462c-b402-f207a4910fba",
         "x": [
          "Risk"
         ],
         "xaxis": "x",
         "y": [
          0.01820253354019608
         ],
         "yaxis": "y"
        },
        {
         "alignmentgroup": "True",
         "hoverlabel": {
          "namelength": 0
         },
         "hovertemplate": "Variable=Engineering<br>Factor=%{x}<br>Impact=%{y}",
         "legendgroup": "Variable=Engineering",
         "marker": {
          "color": "#B6E880"
         },
         "name": "Variable=Engineering",
         "offsetgroup": "Variable=Engineering",
         "orientation": "v",
         "showlegend": true,
         "textposition": "auto",
         "type": "bar",
         "uid": "32cdf29a-4233-432b-906c-f5a8707f57e8",
         "x": [
          "Risk"
         ],
         "xaxis": "x",
         "y": [
          0.023593037382352952
         ],
         "yaxis": "y"
        },
        {
         "alignmentgroup": "True",
         "hoverlabel": {
          "namelength": 0
         },
         "hovertemplate": "Variable=Weather<br>Factor=%{x}<br>Impact=%{y}",
         "legendgroup": "Variable=Weather",
         "marker": {
          "color": "#FF97FF"
         },
         "name": "Variable=Weather",
         "offsetgroup": "Variable=Weather",
         "orientation": "v",
         "showlegend": true,
         "textposition": "auto",
         "type": "bar",
         "uid": "92b57f21-812d-4d9a-b26c-c92b2f5920ce",
         "x": [
          "Risk"
         ],
         "xaxis": "x",
         "y": [
          0.05059652854117648
         ],
         "yaxis": "y"
        },
        {
         "alignmentgroup": "True",
         "hoverlabel": {
          "namelength": 0
         },
         "hovertemplate": "Variable=Management<br>Factor=%{x}<br>Impact=%{y}",
         "legendgroup": "Variable=Management",
         "marker": {
          "color": "#FECB52"
         },
         "name": "Variable=Management",
         "offsetgroup": "Variable=Management",
         "orientation": "v",
         "showlegend": true,
         "textposition": "auto",
         "type": "bar",
         "uid": "ae10cd97-4e06-419b-b088-ce423afac0e0",
         "x": [
          "Risk"
         ],
         "xaxis": "x",
         "y": [
          0.015714417945098043
         ],
         "yaxis": "y"
        }
       ],
       "_js2py_pointsCallback": {},
       "_js2py_restyle": {},
       "_js2py_update": {},
       "_last_layout_edit_id": 1,
       "_layout": {
        "autosize": true,
        "barmode": "relative",
        "legend": {
         "tracegroupgap": 0
        },
        "margin": {
         "t": 60
        },
        "paper_bgcolor": "whitesmoke",
        "template": {
         "data": {
          "bar": [
           {
            "error_x": {
             "color": "#2a3f5f"
            },
            "error_y": {
             "color": "#2a3f5f"
            },
            "marker": {
             "line": {
              "color": "#E5ECF6",
              "width": 0.5
             }
            },
            "type": "bar"
           }
          ],
          "barpolar": [
           {
            "marker": {
             "line": {
              "color": "#E5ECF6",
              "width": 0.5
             }
            },
            "type": "barpolar"
           }
          ],
          "carpet": [
           {
            "aaxis": {
             "endlinecolor": "#2a3f5f",
             "gridcolor": "white",
             "linecolor": "white",
             "minorgridcolor": "white",
             "startlinecolor": "#2a3f5f"
            },
            "baxis": {
             "endlinecolor": "#2a3f5f",
             "gridcolor": "white",
             "linecolor": "white",
             "minorgridcolor": "white",
             "startlinecolor": "#2a3f5f"
            },
            "type": "carpet"
           }
          ],
          "choropleth": [
           {
            "colorbar": {
             "outlinewidth": 0,
             "ticks": ""
            },
            "type": "choropleth"
           }
          ],
          "contour": [
           {
            "colorbar": {
             "outlinewidth": 0,
             "ticks": ""
            },
            "colorscale": [
             [
              0,
              "#0d0887"
             ],
             [
              0.1111111111111111,
              "#46039f"
             ],
             [
              0.2222222222222222,
              "#7201a8"
             ],
             [
              0.3333333333333333,
              "#9c179e"
             ],
             [
              0.4444444444444444,
              "#bd3786"
             ],
             [
              0.5555555555555556,
              "#d8576b"
             ],
             [
              0.6666666666666666,
              "#ed7953"
             ],
             [
              0.7777777777777778,
              "#fb9f3a"
             ],
             [
              0.8888888888888888,
              "#fdca26"
             ],
             [
              1,
              "#f0f921"
             ]
            ],
            "type": "contour"
           }
          ],
          "contourcarpet": [
           {
            "colorbar": {
             "outlinewidth": 0,
             "ticks": ""
            },
            "type": "contourcarpet"
           }
          ],
          "heatmap": [
           {
            "colorbar": {
             "outlinewidth": 0,
             "ticks": ""
            },
            "colorscale": [
             [
              0,
              "#0d0887"
             ],
             [
              0.1111111111111111,
              "#46039f"
             ],
             [
              0.2222222222222222,
              "#7201a8"
             ],
             [
              0.3333333333333333,
              "#9c179e"
             ],
             [
              0.4444444444444444,
              "#bd3786"
             ],
             [
              0.5555555555555556,
              "#d8576b"
             ],
             [
              0.6666666666666666,
              "#ed7953"
             ],
             [
              0.7777777777777778,
              "#fb9f3a"
             ],
             [
              0.8888888888888888,
              "#fdca26"
             ],
             [
              1,
              "#f0f921"
             ]
            ],
            "type": "heatmap"
           }
          ],
          "heatmapgl": [
           {
            "colorbar": {
             "outlinewidth": 0,
             "ticks": ""
            },
            "colorscale": [
             [
              0,
              "#0d0887"
             ],
             [
              0.1111111111111111,
              "#46039f"
             ],
             [
              0.2222222222222222,
              "#7201a8"
             ],
             [
              0.3333333333333333,
              "#9c179e"
             ],
             [
              0.4444444444444444,
              "#bd3786"
             ],
             [
              0.5555555555555556,
              "#d8576b"
             ],
             [
              0.6666666666666666,
              "#ed7953"
             ],
             [
              0.7777777777777778,
              "#fb9f3a"
             ],
             [
              0.8888888888888888,
              "#fdca26"
             ],
             [
              1,
              "#f0f921"
             ]
            ],
            "type": "heatmapgl"
           }
          ],
          "histogram": [
           {
            "marker": {
             "colorbar": {
              "outlinewidth": 0,
              "ticks": ""
             }
            },
            "type": "histogram"
           }
          ],
          "histogram2d": [
           {
            "colorbar": {
             "outlinewidth": 0,
             "ticks": ""
            },
            "colorscale": [
             [
              0,
              "#0d0887"
             ],
             [
              0.1111111111111111,
              "#46039f"
             ],
             [
              0.2222222222222222,
              "#7201a8"
             ],
             [
              0.3333333333333333,
              "#9c179e"
             ],
             [
              0.4444444444444444,
              "#bd3786"
             ],
             [
              0.5555555555555556,
              "#d8576b"
             ],
             [
              0.6666666666666666,
              "#ed7953"
             ],
             [
              0.7777777777777778,
              "#fb9f3a"
             ],
             [
              0.8888888888888888,
              "#fdca26"
             ],
             [
              1,
              "#f0f921"
             ]
            ],
            "type": "histogram2d"
           }
          ],
          "histogram2dcontour": [
           {
            "colorbar": {
             "outlinewidth": 0,
             "ticks": ""
            },
            "colorscale": [
             [
              0,
              "#0d0887"
             ],
             [
              0.1111111111111111,
              "#46039f"
             ],
             [
              0.2222222222222222,
              "#7201a8"
             ],
             [
              0.3333333333333333,
              "#9c179e"
             ],
             [
              0.4444444444444444,
              "#bd3786"
             ],
             [
              0.5555555555555556,
              "#d8576b"
             ],
             [
              0.6666666666666666,
              "#ed7953"
             ],
             [
              0.7777777777777778,
              "#fb9f3a"
             ],
             [
              0.8888888888888888,
              "#fdca26"
             ],
             [
              1,
              "#f0f921"
             ]
            ],
            "type": "histogram2dcontour"
           }
          ],
          "mesh3d": [
           {
            "colorbar": {
             "outlinewidth": 0,
             "ticks": ""
            },
            "type": "mesh3d"
           }
          ],
          "parcoords": [
           {
            "line": {
             "colorbar": {
              "outlinewidth": 0,
              "ticks": ""
             }
            },
            "type": "parcoords"
           }
          ],
          "pie": [
           {
            "automargin": true,
            "type": "pie"
           }
          ],
          "scatter": [
           {
            "marker": {
             "colorbar": {
              "outlinewidth": 0,
              "ticks": ""
             }
            },
            "type": "scatter"
           }
          ],
          "scatter3d": [
           {
            "line": {
             "colorbar": {
              "outlinewidth": 0,
              "ticks": ""
             }
            },
            "marker": {
             "colorbar": {
              "outlinewidth": 0,
              "ticks": ""
             }
            },
            "type": "scatter3d"
           }
          ],
          "scattercarpet": [
           {
            "marker": {
             "colorbar": {
              "outlinewidth": 0,
              "ticks": ""
             }
            },
            "type": "scattercarpet"
           }
          ],
          "scattergeo": [
           {
            "marker": {
             "colorbar": {
              "outlinewidth": 0,
              "ticks": ""
             }
            },
            "type": "scattergeo"
           }
          ],
          "scattergl": [
           {
            "marker": {
             "colorbar": {
              "outlinewidth": 0,
              "ticks": ""
             }
            },
            "type": "scattergl"
           }
          ],
          "scattermapbox": [
           {
            "marker": {
             "colorbar": {
              "outlinewidth": 0,
              "ticks": ""
             }
            },
            "type": "scattermapbox"
           }
          ],
          "scatterpolar": [
           {
            "marker": {
             "colorbar": {
              "outlinewidth": 0,
              "ticks": ""
             }
            },
            "type": "scatterpolar"
           }
          ],
          "scatterpolargl": [
           {
            "marker": {
             "colorbar": {
              "outlinewidth": 0,
              "ticks": ""
             }
            },
            "type": "scatterpolargl"
           }
          ],
          "scatterternary": [
           {
            "marker": {
             "colorbar": {
              "outlinewidth": 0,
              "ticks": ""
             }
            },
            "type": "scatterternary"
           }
          ],
          "surface": [
           {
            "colorbar": {
             "outlinewidth": 0,
             "ticks": ""
            },
            "colorscale": [
             [
              0,
              "#0d0887"
             ],
             [
              0.1111111111111111,
              "#46039f"
             ],
             [
              0.2222222222222222,
              "#7201a8"
             ],
             [
              0.3333333333333333,
              "#9c179e"
             ],
             [
              0.4444444444444444,
              "#bd3786"
             ],
             [
              0.5555555555555556,
              "#d8576b"
             ],
             [
              0.6666666666666666,
              "#ed7953"
             ],
             [
              0.7777777777777778,
              "#fb9f3a"
             ],
             [
              0.8888888888888888,
              "#fdca26"
             ],
             [
              1,
              "#f0f921"
             ]
            ],
            "type": "surface"
           }
          ],
          "table": [
           {
            "cells": {
             "fill": {
              "color": "#EBF0F8"
             },
             "line": {
              "color": "white"
             }
            },
            "header": {
             "fill": {
              "color": "#C8D4E3"
             },
             "line": {
              "color": "white"
             }
            },
            "type": "table"
           }
          ]
         },
         "layout": {
          "annotationdefaults": {
           "arrowcolor": "#2a3f5f",
           "arrowhead": 0,
           "arrowwidth": 1
          },
          "coloraxis": {
           "colorbar": {
            "outlinewidth": 0,
            "ticks": ""
           }
          },
          "colorscale": {
           "diverging": [
            [
             0,
             "#8e0152"
            ],
            [
             0.1,
             "#c51b7d"
            ],
            [
             0.2,
             "#de77ae"
            ],
            [
             0.3,
             "#f1b6da"
            ],
            [
             0.4,
             "#fde0ef"
            ],
            [
             0.5,
             "#f7f7f7"
            ],
            [
             0.6,
             "#e6f5d0"
            ],
            [
             0.7,
             "#b8e186"
            ],
            [
             0.8,
             "#7fbc41"
            ],
            [
             0.9,
             "#4d9221"
            ],
            [
             1,
             "#276419"
            ]
           ],
           "sequential": [
            [
             0,
             "#0d0887"
            ],
            [
             0.1111111111111111,
             "#46039f"
            ],
            [
             0.2222222222222222,
             "#7201a8"
            ],
            [
             0.3333333333333333,
             "#9c179e"
            ],
            [
             0.4444444444444444,
             "#bd3786"
            ],
            [
             0.5555555555555556,
             "#d8576b"
            ],
            [
             0.6666666666666666,
             "#ed7953"
            ],
            [
             0.7777777777777778,
             "#fb9f3a"
            ],
            [
             0.8888888888888888,
             "#fdca26"
            ],
            [
             1,
             "#f0f921"
            ]
           ],
           "sequentialminus": [
            [
             0,
             "#0d0887"
            ],
            [
             0.1111111111111111,
             "#46039f"
            ],
            [
             0.2222222222222222,
             "#7201a8"
            ],
            [
             0.3333333333333333,
             "#9c179e"
            ],
            [
             0.4444444444444444,
             "#bd3786"
            ],
            [
             0.5555555555555556,
             "#d8576b"
            ],
            [
             0.6666666666666666,
             "#ed7953"
            ],
            [
             0.7777777777777778,
             "#fb9f3a"
            ],
            [
             0.8888888888888888,
             "#fdca26"
            ],
            [
             1,
             "#f0f921"
            ]
           ]
          },
          "colorway": [
           "#636efa",
           "#EF553B",
           "#00cc96",
           "#ab63fa",
           "#FFA15A",
           "#19d3f3",
           "#FF6692",
           "#B6E880",
           "#FF97FF",
           "#FECB52"
          ],
          "font": {
           "color": "#2a3f5f"
          },
          "geo": {
           "bgcolor": "white",
           "lakecolor": "white",
           "landcolor": "#E5ECF6",
           "showlakes": true,
           "showland": true,
           "subunitcolor": "white"
          },
          "hoverlabel": {
           "align": "left"
          },
          "hovermode": "closest",
          "mapbox": {
           "style": "light"
          },
          "paper_bgcolor": "white",
          "plot_bgcolor": "#E5ECF6",
          "polar": {
           "angularaxis": {
            "gridcolor": "white",
            "linecolor": "white",
            "ticks": ""
           },
           "bgcolor": "#E5ECF6",
           "radialaxis": {
            "gridcolor": "white",
            "linecolor": "white",
            "ticks": ""
           }
          },
          "scene": {
           "xaxis": {
            "backgroundcolor": "#E5ECF6",
            "gridcolor": "white",
            "gridwidth": 2,
            "linecolor": "white",
            "showbackground": true,
            "ticks": "",
            "zerolinecolor": "white"
           },
           "yaxis": {
            "backgroundcolor": "#E5ECF6",
            "gridcolor": "white",
            "gridwidth": 2,
            "linecolor": "white",
            "showbackground": true,
            "ticks": "",
            "zerolinecolor": "white"
           },
           "zaxis": {
            "backgroundcolor": "#E5ECF6",
            "gridcolor": "white",
            "gridwidth": 2,
            "linecolor": "white",
            "showbackground": true,
            "ticks": "",
            "zerolinecolor": "white"
           }
          },
          "shapedefaults": {
           "line": {
            "color": "#2a3f5f"
           }
          },
          "ternary": {
           "aaxis": {
            "gridcolor": "white",
            "linecolor": "white",
            "ticks": ""
           },
           "baxis": {
            "gridcolor": "white",
            "linecolor": "white",
            "ticks": ""
           },
           "bgcolor": "#E5ECF6",
           "caxis": {
            "gridcolor": "white",
            "linecolor": "white",
            "ticks": ""
           }
          },
          "title": {
           "x": 0.05
          },
          "xaxis": {
           "automargin": true,
           "gridcolor": "white",
           "linecolor": "white",
           "ticks": "",
           "title": {
            "standoff": 15
           },
           "zerolinecolor": "white",
           "zerolinewidth": 2
          },
          "yaxis": {
           "automargin": true,
           "gridcolor": "white",
           "linecolor": "white",
           "ticks": "",
           "title": {
            "standoff": 15
           },
           "zerolinecolor": "white",
           "zerolinewidth": 2
          }
         }
        },
        "title": {
         "text": "General uncertainty and risk's composition"
        },
        "xaxis": {
         "anchor": "y",
         "domain": [
          0,
          1
         ],
         "title": {
          "text": "Factor"
         }
        },
        "yaxis": {
         "anchor": "x",
         "domain": [
          0,
          1
         ],
         "tickformat": ".1%",
         "title": {
          "text": "Impact"
         }
        }
       },
       "_py2js_addTraces": {},
       "_py2js_animate": {},
       "_py2js_deleteTraces": {},
       "_py2js_moveTraces": {},
       "_py2js_removeTraceProps": {},
       "_py2js_restyle": {},
       "_py2js_update": {},
       "_view_count": 1
      }
     },
     "165f71598b394a36be324fd4e01011c3": {
      "model_module": "@jupyter-widgets/controls",
      "model_module_version": "1.5.0",
      "model_name": "HBoxModel",
      "state": {
       "children": [
        "IPY_MODEL_72256fe74b3e4000be9688e93a5d5223",
        "IPY_MODEL_5e11526a55fd4768a7f3bd98f957248a",
        "IPY_MODEL_d458b8821aee440bb9d4cd8ceb2a5337"
       ],
       "layout": "IPY_MODEL_b30513d9d4d2403aa61850b3199a28d6"
      }
     },
     "21691fb6f4c34c3f9cafb28513f69fc3": {
      "model_module": "@jupyter-widgets/controls",
      "model_module_version": "1.5.0",
      "model_name": "DescriptionStyleModel",
      "state": {
       "description_width": ""
      }
     },
     "24044142cfeb4829bb42525f06987b16": {
      "model_module": "@jupyter-widgets/base",
      "model_module_version": "1.2.0",
      "model_name": "LayoutModel",
      "state": {}
     },
     "28421d3963b44fdc879ea1ef2079b596": {
      "model_module": "@jupyter-widgets/base",
      "model_module_version": "1.2.0",
      "model_name": "LayoutModel",
      "state": {}
     },
     "32c1b2dc5c514114951a61df154322bf": {
      "model_module": "@jupyter-widgets/controls",
      "model_module_version": "1.5.0",
      "model_name": "DescriptionStyleModel",
      "state": {
       "description_width": ""
      }
     },
     "33398e959a8d43fdb340c09985ee331b": {
      "model_module": "@jupyter-widgets/controls",
      "model_module_version": "1.5.0",
      "model_name": "HBoxModel",
      "state": {
       "children": [
        "IPY_MODEL_c669c6a3e8bb45a499b1aeafca8b642f",
        "IPY_MODEL_007713142986462cb3db75ef33ec8f87"
       ],
       "layout": "IPY_MODEL_c438af4e6c4d4efab91ec47a9f0d30f2"
      }
     },
     "3ee8749edf47441688017a7296150a87": {
      "model_module": "@jupyter-widgets/base",
      "model_module_version": "1.2.0",
      "model_name": "LayoutModel",
      "state": {}
     },
     "40a2432658534c468a2a8811884784b0": {
      "buffers": [
       {
        "data": "K10GC0M+2j9egaF0DSbdP59Igx33NN4/47grcoo50z/fRNYVkZPTPzrUpTW8b9w/LltBjD3/2D/hzjkDGV3cP7iA84kMsN8/ibsmFouO1T905bb0nVzbP0l62fVZRck/kRE+/kxp1j8FpcsPGgndP6hALr1yJ9Y/V8M+NAWo2D98VLcLsSDZPxVARZZLcd4/3/YRs+8O3j/ZzrB+VzfZP0JSL+sKJdQ/odBu0SIr2z8IkoGA2EnhP38mB1sIbN8/2dsASHqMwz+7jgvjezrePwYGoaA69Nw/HLo+Sw4a2T+ARFr97T/dP+IFDPCvrtY/CYP9mlbR1T8p1pzIO8PSPwhc9KFNNuE/vyQ6cHNP2D9JlZMWT5nSP2UWuHSA69k/1Fk1IRDc1z/7Tx38253ZP+9CcOW3a9E/WfDsPDta4D9QbNrM7tfcP77k2qvqwN4/9kVHFIiO0j+YY6ePKIPfPzJg7GRAO+M/yZFAFrEu2D8McpuZLj7eP+8oM30tCuA/XPmAzhHK0D92K2qBVALTP3oz0qG/79U/",
        "encoding": "base64",
        "path": [
         "_data",
         0,
         "x",
         "value"
        ]
       },
       {
        "data": "AAAAAAAAAABbv1Kg1q+EP1u/UqDWr5Q/CB988MEHnz9bv1Kg1q+kPzJvZ0jM26k/CB988MEHrz9wZ0jM2xmyP1u/UqDWr7Q/RhdddNFFtz8yb2dIzNu5Px3HcRzHcbw/CB988MEHvz96O0Ni3s7AP3BnSMzbGcI/ZZNNNtlkwz9bv1Kg1q/EP1HrVwrU+sU/RhdddNFFxz88Q2LezpDIPzJvZ0jM28k/J5tssskmyz8dx3Ecx3HMPxPzdobEvM0/CB988MEHzz9/pUCtXynQP3o7Q2LeztA/ddFFF1100T9wZ0jM2xnSP2r9SoFav9I/ZZNNNtlk0z9gKVDrVwrUP1u/UqDWr9Q/VlVVVVVV1T9R61cK1PrVP0yBWr9SoNY/RhdddNFF1z9BrV8pUOvXPzxDYt7OkNg/N9lkk0022T8yb2dIzNvZPy0Fav1Kgdo/J5tssskm2z8iMW9nSMzbPx3HcRzHcdw/GF100UUX3T8T83aGxLzdPw6JeTtDYt4/CB988MEH3z8DtX6lQK3fP3+lQK1fKeA/ffDBBx984D96O0Ni3s7gP3eGxLydIeE/ddFFF1104T9yHMdxHMfhP3BnSMzbGeI/bbLJJpts4j9q/UqBWr/iP2hIzNsZEuM/ZZNNNtlk4z9j3s6QmLfjP2ApUOtXCuQ/XnTRRRdd5D9bv1Kg1q/kP1gK1PqVAuU/VlVVVVVV5T9ToNavFKjlP1HrVwrU+uU/TjbZZJNN5j9MgVq/UqDmP0nM2xkS8+Y/RhdddNFF5z9EYt7OkJjnP0GtXylQ6+c/P/jggw8+6D88Q2LezpDoPzmO4ziO4+g/N9lkk0026T80JObtDInpPzJvZ0jM2+k/L7rooosu6j8tBWr9SoHqPypQ61cK1Oo/J5tssskm6z8l5u0MiXnrPyIxb2dIzOs/IHzwwQcf7D8dx3Ecx3HsPxsS83aGxOw/GF100UUX7T8VqPUrBWrtPxPzdobEvO0/ED744IMP7j8OiXk7Q2LuPwvU+pUCte4/CB988MEH7z8Gav1KgVrvPwO1fqVAre8/AAAAAAAA8D8=",
        "encoding": "base64",
        "path": [
         "_data",
         1,
         "x",
         "value"
        ]
       },
       {
        "data": "4VhDNfmgJz+ggYlyfKkzPxx2w1HKJEA/Bey2I20oSj+BevUeO+lUP2Hm4FfLfmA/D/K9IQyuaT+r7K1FqrlzP2zSHmk1530/OdvD5ipehj9hO2Mu5YKQP5pVf7BjDpg/rpm9rWZLoT/57fYxh4qoP6ymLOctL7E/UieGoFjAtz/S13JELDPAP96jZXeOz8U/uU1Cy6H7zD/T7qEIsAHTP/jg4nnkmtg/g/7Y4pdw3z+EiktBn9PjP1SjAPHfrug/fG8KxyJV7j+V/A+wt2XyP2lt1+eNB/Y/yfG4zCsK+j9r7u56h2L+P9aTHrgTgAFAeqKgXJPmA0BVXR8UTFcGQFOkdzenwghABdDXIoMXC0AA5/sj80MNQB4tz3AfNg9AYVKKLJtuEEBD5eSOLhURQG7UAtjGiBFA/EmOpifFEUBTTp5BHcgRQJ5367OekRFABJ7fH80jEUDCdyN30IIQQGlVPYYpaQ9AGL8iotuADUBZnKwmUl0LQE3ksF8tEAlAYIg62CWrBkDYGjbzMD8EQH9wIGnF2wFAiCEar5Mc/z/cJ60OZsP6P07g0f6lvPY/7iy0vqsT8z/QvrTTmJ3vP3n6Wg/B3+k/3555aerp5D/1cFz8KLLgPxE8YLtMVNo/Eewj8lSB1D/SVkWN7YvPP7ElM8AW+Mc/I98J8hj9wT+L/YwCpqu6P3Jary+bh7M/WGwG17BArD+RJ6a82y+kPxkhVdQpf5w/cBvut4Pekz9aM66sBV+LPzYJsTPXn4I/zwCYgukJeT9nWqiZr6BwP4GTD6hP0WU/oz27MExIXD9hJF5tWBxSP53dHTVp6kY/YZSe5LSlPD9GPGakCbExP4250OD2liU/4XTdVB4IGj8kpphHRwMPPwT+AKjQQAI/AB9w5Ag79T6KeWcUZGboPkj53cyWtds+oShmth8Yzz54Qa0+Vz3BPlzNHibi47I+W04HUUR0pD6Ha3Qh5OKVPpNABLWHJIc+BjXQauYueD71F8mbNPloPnEawy6ffFk+jVnqj620ST4n7Qtggp85PtMU8sH1PSk+DO/WQYeTGD4=",
        "encoding": "base64",
        "path": [
         "_data",
         1,
         "y",
         "value"
        ]
       }
      ],
      "model_module": "plotlywidget",
      "model_module_version": "^1.3.0",
      "model_name": "FigureModel",
      "state": {
       "_config": {
        "plotlyServerURL": "https://plotly.com"
       },
       "_data": [
        {
         "name": "Total deviation",
         "opacity": 0.7,
         "type": "histogram",
         "uid": "e9c53b82-1e60-43cb-aa88-a5501a9aecb0",
         "x": {
          "dtype": "float64",
          "shape": [
           51
          ],
          "value": {}
         },
         "xbins": {
          "size": 0.01
         }
        },
        {
         "name": "Lognormal fit pdf",
         "type": "scatter",
         "uid": "4a57f9d4-883f-4abb-861c-e028d79d00b1",
         "x": {
          "dtype": "float64",
          "shape": [
           100
          ],
          "value": {}
         },
         "y": {
          "dtype": "float64",
          "shape": [
           100
          ],
          "value": {}
         }
        }
       ],
       "_js2py_pointsCallback": {},
       "_js2py_relayout": {},
       "_js2py_restyle": {},
       "_js2py_update": {},
       "_last_layout_edit_id": 1,
       "_last_trace_edit_id": 1,
       "_layout": {
        "bargap": 0.01,
        "barmode": "overlay",
        "paper_bgcolor": "whitesmoke",
        "template": {
         "data": {
          "bar": [
           {
            "error_x": {
             "color": "#2a3f5f"
            },
            "error_y": {
             "color": "#2a3f5f"
            },
            "marker": {
             "line": {
              "color": "#E5ECF6",
              "width": 0.5
             }
            },
            "type": "bar"
           }
          ],
          "barpolar": [
           {
            "marker": {
             "line": {
              "color": "#E5ECF6",
              "width": 0.5
             }
            },
            "type": "barpolar"
           }
          ],
          "carpet": [
           {
            "aaxis": {
             "endlinecolor": "#2a3f5f",
             "gridcolor": "white",
             "linecolor": "white",
             "minorgridcolor": "white",
             "startlinecolor": "#2a3f5f"
            },
            "baxis": {
             "endlinecolor": "#2a3f5f",
             "gridcolor": "white",
             "linecolor": "white",
             "minorgridcolor": "white",
             "startlinecolor": "#2a3f5f"
            },
            "type": "carpet"
           }
          ],
          "choropleth": [
           {
            "colorbar": {
             "outlinewidth": 0,
             "ticks": ""
            },
            "type": "choropleth"
           }
          ],
          "contour": [
           {
            "colorbar": {
             "outlinewidth": 0,
             "ticks": ""
            },
            "colorscale": [
             [
              0,
              "#0d0887"
             ],
             [
              0.1111111111111111,
              "#46039f"
             ],
             [
              0.2222222222222222,
              "#7201a8"
             ],
             [
              0.3333333333333333,
              "#9c179e"
             ],
             [
              0.4444444444444444,
              "#bd3786"
             ],
             [
              0.5555555555555556,
              "#d8576b"
             ],
             [
              0.6666666666666666,
              "#ed7953"
             ],
             [
              0.7777777777777778,
              "#fb9f3a"
             ],
             [
              0.8888888888888888,
              "#fdca26"
             ],
             [
              1,
              "#f0f921"
             ]
            ],
            "type": "contour"
           }
          ],
          "contourcarpet": [
           {
            "colorbar": {
             "outlinewidth": 0,
             "ticks": ""
            },
            "type": "contourcarpet"
           }
          ],
          "heatmap": [
           {
            "colorbar": {
             "outlinewidth": 0,
             "ticks": ""
            },
            "colorscale": [
             [
              0,
              "#0d0887"
             ],
             [
              0.1111111111111111,
              "#46039f"
             ],
             [
              0.2222222222222222,
              "#7201a8"
             ],
             [
              0.3333333333333333,
              "#9c179e"
             ],
             [
              0.4444444444444444,
              "#bd3786"
             ],
             [
              0.5555555555555556,
              "#d8576b"
             ],
             [
              0.6666666666666666,
              "#ed7953"
             ],
             [
              0.7777777777777778,
              "#fb9f3a"
             ],
             [
              0.8888888888888888,
              "#fdca26"
             ],
             [
              1,
              "#f0f921"
             ]
            ],
            "type": "heatmap"
           }
          ],
          "heatmapgl": [
           {
            "colorbar": {
             "outlinewidth": 0,
             "ticks": ""
            },
            "colorscale": [
             [
              0,
              "#0d0887"
             ],
             [
              0.1111111111111111,
              "#46039f"
             ],
             [
              0.2222222222222222,
              "#7201a8"
             ],
             [
              0.3333333333333333,
              "#9c179e"
             ],
             [
              0.4444444444444444,
              "#bd3786"
             ],
             [
              0.5555555555555556,
              "#d8576b"
             ],
             [
              0.6666666666666666,
              "#ed7953"
             ],
             [
              0.7777777777777778,
              "#fb9f3a"
             ],
             [
              0.8888888888888888,
              "#fdca26"
             ],
             [
              1,
              "#f0f921"
             ]
            ],
            "type": "heatmapgl"
           }
          ],
          "histogram": [
           {
            "marker": {
             "colorbar": {
              "outlinewidth": 0,
              "ticks": ""
             }
            },
            "type": "histogram"
           }
          ],
          "histogram2d": [
           {
            "colorbar": {
             "outlinewidth": 0,
             "ticks": ""
            },
            "colorscale": [
             [
              0,
              "#0d0887"
             ],
             [
              0.1111111111111111,
              "#46039f"
             ],
             [
              0.2222222222222222,
              "#7201a8"
             ],
             [
              0.3333333333333333,
              "#9c179e"
             ],
             [
              0.4444444444444444,
              "#bd3786"
             ],
             [
              0.5555555555555556,
              "#d8576b"
             ],
             [
              0.6666666666666666,
              "#ed7953"
             ],
             [
              0.7777777777777778,
              "#fb9f3a"
             ],
             [
              0.8888888888888888,
              "#fdca26"
             ],
             [
              1,
              "#f0f921"
             ]
            ],
            "type": "histogram2d"
           }
          ],
          "histogram2dcontour": [
           {
            "colorbar": {
             "outlinewidth": 0,
             "ticks": ""
            },
            "colorscale": [
             [
              0,
              "#0d0887"
             ],
             [
              0.1111111111111111,
              "#46039f"
             ],
             [
              0.2222222222222222,
              "#7201a8"
             ],
             [
              0.3333333333333333,
              "#9c179e"
             ],
             [
              0.4444444444444444,
              "#bd3786"
             ],
             [
              0.5555555555555556,
              "#d8576b"
             ],
             [
              0.6666666666666666,
              "#ed7953"
             ],
             [
              0.7777777777777778,
              "#fb9f3a"
             ],
             [
              0.8888888888888888,
              "#fdca26"
             ],
             [
              1,
              "#f0f921"
             ]
            ],
            "type": "histogram2dcontour"
           }
          ],
          "mesh3d": [
           {
            "colorbar": {
             "outlinewidth": 0,
             "ticks": ""
            },
            "type": "mesh3d"
           }
          ],
          "parcoords": [
           {
            "line": {
             "colorbar": {
              "outlinewidth": 0,
              "ticks": ""
             }
            },
            "type": "parcoords"
           }
          ],
          "pie": [
           {
            "automargin": true,
            "type": "pie"
           }
          ],
          "scatter": [
           {
            "marker": {
             "colorbar": {
              "outlinewidth": 0,
              "ticks": ""
             }
            },
            "type": "scatter"
           }
          ],
          "scatter3d": [
           {
            "line": {
             "colorbar": {
              "outlinewidth": 0,
              "ticks": ""
             }
            },
            "marker": {
             "colorbar": {
              "outlinewidth": 0,
              "ticks": ""
             }
            },
            "type": "scatter3d"
           }
          ],
          "scattercarpet": [
           {
            "marker": {
             "colorbar": {
              "outlinewidth": 0,
              "ticks": ""
             }
            },
            "type": "scattercarpet"
           }
          ],
          "scattergeo": [
           {
            "marker": {
             "colorbar": {
              "outlinewidth": 0,
              "ticks": ""
             }
            },
            "type": "scattergeo"
           }
          ],
          "scattergl": [
           {
            "marker": {
             "colorbar": {
              "outlinewidth": 0,
              "ticks": ""
             }
            },
            "type": "scattergl"
           }
          ],
          "scattermapbox": [
           {
            "marker": {
             "colorbar": {
              "outlinewidth": 0,
              "ticks": ""
             }
            },
            "type": "scattermapbox"
           }
          ],
          "scatterpolar": [
           {
            "marker": {
             "colorbar": {
              "outlinewidth": 0,
              "ticks": ""
             }
            },
            "type": "scatterpolar"
           }
          ],
          "scatterpolargl": [
           {
            "marker": {
             "colorbar": {
              "outlinewidth": 0,
              "ticks": ""
             }
            },
            "type": "scatterpolargl"
           }
          ],
          "scatterternary": [
           {
            "marker": {
             "colorbar": {
              "outlinewidth": 0,
              "ticks": ""
             }
            },
            "type": "scatterternary"
           }
          ],
          "surface": [
           {
            "colorbar": {
             "outlinewidth": 0,
             "ticks": ""
            },
            "colorscale": [
             [
              0,
              "#0d0887"
             ],
             [
              0.1111111111111111,
              "#46039f"
             ],
             [
              0.2222222222222222,
              "#7201a8"
             ],
             [
              0.3333333333333333,
              "#9c179e"
             ],
             [
              0.4444444444444444,
              "#bd3786"
             ],
             [
              0.5555555555555556,
              "#d8576b"
             ],
             [
              0.6666666666666666,
              "#ed7953"
             ],
             [
              0.7777777777777778,
              "#fb9f3a"
             ],
             [
              0.8888888888888888,
              "#fdca26"
             ],
             [
              1,
              "#f0f921"
             ]
            ],
            "type": "surface"
           }
          ],
          "table": [
           {
            "cells": {
             "fill": {
              "color": "#EBF0F8"
             },
             "line": {
              "color": "white"
             }
            },
            "header": {
             "fill": {
              "color": "#C8D4E3"
             },
             "line": {
              "color": "white"
             }
            },
            "type": "table"
           }
          ]
         },
         "layout": {
          "annotationdefaults": {
           "arrowcolor": "#2a3f5f",
           "arrowhead": 0,
           "arrowwidth": 1
          },
          "coloraxis": {
           "colorbar": {
            "outlinewidth": 0,
            "ticks": ""
           }
          },
          "colorscale": {
           "diverging": [
            [
             0,
             "#8e0152"
            ],
            [
             0.1,
             "#c51b7d"
            ],
            [
             0.2,
             "#de77ae"
            ],
            [
             0.3,
             "#f1b6da"
            ],
            [
             0.4,
             "#fde0ef"
            ],
            [
             0.5,
             "#f7f7f7"
            ],
            [
             0.6,
             "#e6f5d0"
            ],
            [
             0.7,
             "#b8e186"
            ],
            [
             0.8,
             "#7fbc41"
            ],
            [
             0.9,
             "#4d9221"
            ],
            [
             1,
             "#276419"
            ]
           ],
           "sequential": [
            [
             0,
             "#0d0887"
            ],
            [
             0.1111111111111111,
             "#46039f"
            ],
            [
             0.2222222222222222,
             "#7201a8"
            ],
            [
             0.3333333333333333,
             "#9c179e"
            ],
            [
             0.4444444444444444,
             "#bd3786"
            ],
            [
             0.5555555555555556,
             "#d8576b"
            ],
            [
             0.6666666666666666,
             "#ed7953"
            ],
            [
             0.7777777777777778,
             "#fb9f3a"
            ],
            [
             0.8888888888888888,
             "#fdca26"
            ],
            [
             1,
             "#f0f921"
            ]
           ],
           "sequentialminus": [
            [
             0,
             "#0d0887"
            ],
            [
             0.1111111111111111,
             "#46039f"
            ],
            [
             0.2222222222222222,
             "#7201a8"
            ],
            [
             0.3333333333333333,
             "#9c179e"
            ],
            [
             0.4444444444444444,
             "#bd3786"
            ],
            [
             0.5555555555555556,
             "#d8576b"
            ],
            [
             0.6666666666666666,
             "#ed7953"
            ],
            [
             0.7777777777777778,
             "#fb9f3a"
            ],
            [
             0.8888888888888888,
             "#fdca26"
            ],
            [
             1,
             "#f0f921"
            ]
           ]
          },
          "colorway": [
           "#636efa",
           "#EF553B",
           "#00cc96",
           "#ab63fa",
           "#FFA15A",
           "#19d3f3",
           "#FF6692",
           "#B6E880",
           "#FF97FF",
           "#FECB52"
          ],
          "font": {
           "color": "#2a3f5f"
          },
          "geo": {
           "bgcolor": "white",
           "lakecolor": "white",
           "landcolor": "#E5ECF6",
           "showlakes": true,
           "showland": true,
           "subunitcolor": "white"
          },
          "hoverlabel": {
           "align": "left"
          },
          "hovermode": "closest",
          "mapbox": {
           "style": "light"
          },
          "paper_bgcolor": "white",
          "plot_bgcolor": "#E5ECF6",
          "polar": {
           "angularaxis": {
            "gridcolor": "white",
            "linecolor": "white",
            "ticks": ""
           },
           "bgcolor": "#E5ECF6",
           "radialaxis": {
            "gridcolor": "white",
            "linecolor": "white",
            "ticks": ""
           }
          },
          "scene": {
           "xaxis": {
            "backgroundcolor": "#E5ECF6",
            "gridcolor": "white",
            "gridwidth": 2,
            "linecolor": "white",
            "showbackground": true,
            "ticks": "",
            "zerolinecolor": "white"
           },
           "yaxis": {
            "backgroundcolor": "#E5ECF6",
            "gridcolor": "white",
            "gridwidth": 2,
            "linecolor": "white",
            "showbackground": true,
            "ticks": "",
            "zerolinecolor": "white"
           },
           "zaxis": {
            "backgroundcolor": "#E5ECF6",
            "gridcolor": "white",
            "gridwidth": 2,
            "linecolor": "white",
            "showbackground": true,
            "ticks": "",
            "zerolinecolor": "white"
           }
          },
          "shapedefaults": {
           "line": {
            "color": "#2a3f5f"
           }
          },
          "ternary": {
           "aaxis": {
            "gridcolor": "white",
            "linecolor": "white",
            "ticks": ""
           },
           "baxis": {
            "gridcolor": "white",
            "linecolor": "white",
            "ticks": ""
           },
           "bgcolor": "#E5ECF6",
           "caxis": {
            "gridcolor": "white",
            "linecolor": "white",
            "ticks": ""
           }
          },
          "title": {
           "x": 0.05
          },
          "xaxis": {
           "automargin": true,
           "gridcolor": "white",
           "linecolor": "white",
           "ticks": "",
           "title": {
            "standoff": 15
           },
           "zerolinecolor": "white",
           "zerolinewidth": 2
          },
          "yaxis": {
           "automargin": true,
           "gridcolor": "white",
           "linecolor": "white",
           "ticks": "",
           "title": {
            "standoff": 15
           },
           "zerolinecolor": "white",
           "zerolinewidth": 2
          }
         }
        },
        "title": {
         "text": "Deviation distribution and Lognormal fit"
        },
        "xaxis": {
         "tickformat": ".1%"
        }
       },
       "_py2js_animate": {},
       "_py2js_deleteTraces": {},
       "_py2js_moveTraces": {},
       "_py2js_removeLayoutProps": {},
       "_py2js_removeTraceProps": {},
       "_py2js_restyle": {},
       "_py2js_update": {},
       "_view_count": 1
      }
     },
     "45b164a978214f2888ab2bbf56e59ec5": {
      "model_module": "@jupyter-widgets/base",
      "model_module_version": "1.2.0",
      "model_name": "LayoutModel",
      "state": {}
     },
     "49eac490ea944f3dbf6e2c47871a2d22": {
      "model_module": "@jupyter-widgets/controls",
      "model_module_version": "1.5.0",
      "model_name": "DescriptionStyleModel",
      "state": {
       "description_width": ""
      }
     },
     "4bb2d1c7a5004a32a2a12548c7f3bc27": {
      "model_module": "@jupyter-widgets/base",
      "model_module_version": "1.2.0",
      "model_name": "LayoutModel",
      "state": {}
     },
     "4c0d9159472641ab9141318319bcd32a": {
      "model_module": "@jupyter-widgets/controls",
      "model_module_version": "1.5.0",
      "model_name": "HBoxModel",
      "state": {
       "children": [
        "IPY_MODEL_ac71a4ae0db649778e197613baf1392b",
        "IPY_MODEL_03f49ba7cd8c4510a8f3c3cb3d483294"
       ],
       "layout": "IPY_MODEL_f4357e5b5c09424ababea19d2977b3c8"
      }
     },
     "5c71270245174ff29426f40e6461a5fc": {
      "model_module": "@jupyter-widgets/base",
      "model_module_version": "1.2.0",
      "model_name": "LayoutModel",
      "state": {}
     },
     "5e11526a55fd4768a7f3bd98f957248a": {
      "model_module": "@jupyter-widgets/controls",
      "model_module_version": "1.5.0",
      "model_name": "DropdownModel",
      "state": {
       "_options_labels": [
        "ALL",
        "<200MM",
        "<2MM",
        "<20MM"
       ],
       "description": "Project size",
       "index": 0,
       "layout": "IPY_MODEL_ae494f8474294b46aeeda4dd5b34d25d",
       "style": "IPY_MODEL_610467cea6c2419f9447b2bb19d3be97"
      }
     },
     "5f701143a53a475e9761fd9e5f079296": {
      "model_module": "@jupyter-widgets/controls",
      "model_module_version": "1.5.0",
      "model_name": "HTMLModel",
      "state": {
       "layout": "IPY_MODEL_74a53fc3e92e47f2b8f42ecb6e30c9b1",
       "placeholder": "",
       "style": "IPY_MODEL_033ee5892ae7455080a667917ead19b7",
       "value": "<h4>Statistics</h4>Quantity of projects considered = 2.<br>The distribution based on your project's parameters has a median delay of 23.0%.<br>The P50 duration according to the analysis is of 29.52.<br>"
      }
     },
     "610467cea6c2419f9447b2bb19d3be97": {
      "model_module": "@jupyter-widgets/controls",
      "model_module_version": "1.5.0",
      "model_name": "DescriptionStyleModel",
      "state": {
       "description_width": ""
      }
     },
     "61f01ed1f7f64bf7a18a494f40114768": {
      "buffers": [
       {
        "data": "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",
        "encoding": "base64",
        "path": [
         "_data",
         0,
         "x",
         "value"
        ]
       }
      ],
      "model_module": "plotlywidget",
      "model_module_version": "^1.3.0",
      "model_name": "FigureModel",
      "state": {
       "_config": {
        "plotlyServerURL": "https://plotly.com"
       },
       "_data": [
        {
         "name": "Total deviation",
         "opacity": 0.7,
         "type": "histogram",
         "uid": "7500384a-00b6-46f6-bfa1-4d9e97a62686",
         "x": {
          "dtype": "float64",
          "shape": [
           2000
          ],
          "value": {}
         },
         "xbins": {
          "size": 0.01
         }
        }
       ],
       "_js2py_restyle": {},
       "_js2py_update": {},
       "_last_layout_edit_id": 5,
       "_last_trace_edit_id": 4,
       "_layout": {
        "autosize": true,
        "bargap": 0.01,
        "barmode": "overlay",
        "paper_bgcolor": "whitesmoke",
        "template": {
         "data": {
          "bar": [
           {
            "error_x": {
             "color": "#2a3f5f"
            },
            "error_y": {
             "color": "#2a3f5f"
            },
            "marker": {
             "line": {
              "color": "#E5ECF6",
              "width": 0.5
             }
            },
            "type": "bar"
           }
          ],
          "barpolar": [
           {
            "marker": {
             "line": {
              "color": "#E5ECF6",
              "width": 0.5
             }
            },
            "type": "barpolar"
           }
          ],
          "carpet": [
           {
            "aaxis": {
             "endlinecolor": "#2a3f5f",
             "gridcolor": "white",
             "linecolor": "white",
             "minorgridcolor": "white",
             "startlinecolor": "#2a3f5f"
            },
            "baxis": {
             "endlinecolor": "#2a3f5f",
             "gridcolor": "white",
             "linecolor": "white",
             "minorgridcolor": "white",
             "startlinecolor": "#2a3f5f"
            },
            "type": "carpet"
           }
          ],
          "choropleth": [
           {
            "colorbar": {
             "outlinewidth": 0,
             "ticks": ""
            },
            "type": "choropleth"
           }
          ],
          "contour": [
           {
            "colorbar": {
             "outlinewidth": 0,
             "ticks": ""
            },
            "colorscale": [
             [
              0,
              "#0d0887"
             ],
             [
              0.1111111111111111,
              "#46039f"
             ],
             [
              0.2222222222222222,
              "#7201a8"
             ],
             [
              0.3333333333333333,
              "#9c179e"
             ],
             [
              0.4444444444444444,
              "#bd3786"
             ],
             [
              0.5555555555555556,
              "#d8576b"
             ],
             [
              0.6666666666666666,
              "#ed7953"
             ],
             [
              0.7777777777777778,
              "#fb9f3a"
             ],
             [
              0.8888888888888888,
              "#fdca26"
             ],
             [
              1,
              "#f0f921"
             ]
            ],
            "type": "contour"
           }
          ],
          "contourcarpet": [
           {
            "colorbar": {
             "outlinewidth": 0,
             "ticks": ""
            },
            "type": "contourcarpet"
           }
          ],
          "heatmap": [
           {
            "colorbar": {
             "outlinewidth": 0,
             "ticks": ""
            },
            "colorscale": [
             [
              0,
              "#0d0887"
             ],
             [
              0.1111111111111111,
              "#46039f"
             ],
             [
              0.2222222222222222,
              "#7201a8"
             ],
             [
              0.3333333333333333,
              "#9c179e"
             ],
             [
              0.4444444444444444,
              "#bd3786"
             ],
             [
              0.5555555555555556,
              "#d8576b"
             ],
             [
              0.6666666666666666,
              "#ed7953"
             ],
             [
              0.7777777777777778,
              "#fb9f3a"
             ],
             [
              0.8888888888888888,
              "#fdca26"
             ],
             [
              1,
              "#f0f921"
             ]
            ],
            "type": "heatmap"
           }
          ],
          "heatmapgl": [
           {
            "colorbar": {
             "outlinewidth": 0,
             "ticks": ""
            },
            "colorscale": [
             [
              0,
              "#0d0887"
             ],
             [
              0.1111111111111111,
              "#46039f"
             ],
             [
              0.2222222222222222,
              "#7201a8"
             ],
             [
              0.3333333333333333,
              "#9c179e"
             ],
             [
              0.4444444444444444,
              "#bd3786"
             ],
             [
              0.5555555555555556,
              "#d8576b"
             ],
             [
              0.6666666666666666,
              "#ed7953"
             ],
             [
              0.7777777777777778,
              "#fb9f3a"
             ],
             [
              0.8888888888888888,
              "#fdca26"
             ],
             [
              1,
              "#f0f921"
             ]
            ],
            "type": "heatmapgl"
           }
          ],
          "histogram": [
           {
            "marker": {
             "colorbar": {
              "outlinewidth": 0,
              "ticks": ""
             }
            },
            "type": "histogram"
           }
          ],
          "histogram2d": [
           {
            "colorbar": {
             "outlinewidth": 0,
             "ticks": ""
            },
            "colorscale": [
             [
              0,
              "#0d0887"
             ],
             [
              0.1111111111111111,
              "#46039f"
             ],
             [
              0.2222222222222222,
              "#7201a8"
             ],
             [
              0.3333333333333333,
              "#9c179e"
             ],
             [
              0.4444444444444444,
              "#bd3786"
             ],
             [
              0.5555555555555556,
              "#d8576b"
             ],
             [
              0.6666666666666666,
              "#ed7953"
             ],
             [
              0.7777777777777778,
              "#fb9f3a"
             ],
             [
              0.8888888888888888,
              "#fdca26"
             ],
             [
              1,
              "#f0f921"
             ]
            ],
            "type": "histogram2d"
           }
          ],
          "histogram2dcontour": [
           {
            "colorbar": {
             "outlinewidth": 0,
             "ticks": ""
            },
            "colorscale": [
             [
              0,
              "#0d0887"
             ],
             [
              0.1111111111111111,
              "#46039f"
             ],
             [
              0.2222222222222222,
              "#7201a8"
             ],
             [
              0.3333333333333333,
              "#9c179e"
             ],
             [
              0.4444444444444444,
              "#bd3786"
             ],
             [
              0.5555555555555556,
              "#d8576b"
             ],
             [
              0.6666666666666666,
              "#ed7953"
             ],
             [
              0.7777777777777778,
              "#fb9f3a"
             ],
             [
              0.8888888888888888,
              "#fdca26"
             ],
             [
              1,
              "#f0f921"
             ]
            ],
            "type": "histogram2dcontour"
           }
          ],
          "mesh3d": [
           {
            "colorbar": {
             "outlinewidth": 0,
             "ticks": ""
            },
            "type": "mesh3d"
           }
          ],
          "parcoords": [
           {
            "line": {
             "colorbar": {
              "outlinewidth": 0,
              "ticks": ""
             }
            },
            "type": "parcoords"
           }
          ],
          "pie": [
           {
            "automargin": true,
            "type": "pie"
           }
          ],
          "scatter": [
           {
            "marker": {
             "colorbar": {
              "outlinewidth": 0,
              "ticks": ""
             }
            },
            "type": "scatter"
           }
          ],
          "scatter3d": [
           {
            "line": {
             "colorbar": {
              "outlinewidth": 0,
              "ticks": ""
             }
            },
            "marker": {
             "colorbar": {
              "outlinewidth": 0,
              "ticks": ""
             }
            },
            "type": "scatter3d"
           }
          ],
          "scattercarpet": [
           {
            "marker": {
             "colorbar": {
              "outlinewidth": 0,
              "ticks": ""
             }
            },
            "type": "scattercarpet"
           }
          ],
          "scattergeo": [
           {
            "marker": {
             "colorbar": {
              "outlinewidth": 0,
              "ticks": ""
             }
            },
            "type": "scattergeo"
           }
          ],
          "scattergl": [
           {
            "marker": {
             "colorbar": {
              "outlinewidth": 0,
              "ticks": ""
             }
            },
            "type": "scattergl"
           }
          ],
          "scattermapbox": [
           {
            "marker": {
             "colorbar": {
              "outlinewidth": 0,
              "ticks": ""
             }
            },
            "type": "scattermapbox"
           }
          ],
          "scatterpolar": [
           {
            "marker": {
             "colorbar": {
              "outlinewidth": 0,
              "ticks": ""
             }
            },
            "type": "scatterpolar"
           }
          ],
          "scatterpolargl": [
           {
            "marker": {
             "colorbar": {
              "outlinewidth": 0,
              "ticks": ""
             }
            },
            "type": "scatterpolargl"
           }
          ],
          "scatterternary": [
           {
            "marker": {
             "colorbar": {
              "outlinewidth": 0,
              "ticks": ""
             }
            },
            "type": "scatterternary"
           }
          ],
          "surface": [
           {
            "colorbar": {
             "outlinewidth": 0,
             "ticks": ""
            },
            "colorscale": [
             [
              0,
              "#0d0887"
             ],
             [
              0.1111111111111111,
              "#46039f"
             ],
             [
              0.2222222222222222,
              "#7201a8"
             ],
             [
              0.3333333333333333,
              "#9c179e"
             ],
             [
              0.4444444444444444,
              "#bd3786"
             ],
             [
              0.5555555555555556,
              "#d8576b"
             ],
             [
              0.6666666666666666,
              "#ed7953"
             ],
             [
              0.7777777777777778,
              "#fb9f3a"
             ],
             [
              0.8888888888888888,
              "#fdca26"
             ],
             [
              1,
              "#f0f921"
             ]
            ],
            "type": "surface"
           }
          ],
          "table": [
           {
            "cells": {
             "fill": {
              "color": "#EBF0F8"
             },
             "line": {
              "color": "white"
             }
            },
            "header": {
             "fill": {
              "color": "#C8D4E3"
             },
             "line": {
              "color": "white"
             }
            },
            "type": "table"
           }
          ]
         },
         "layout": {
          "annotationdefaults": {
           "arrowcolor": "#2a3f5f",
           "arrowhead": 0,
           "arrowwidth": 1
          },
          "coloraxis": {
           "colorbar": {
            "outlinewidth": 0,
            "ticks": ""
           }
          },
          "colorscale": {
           "diverging": [
            [
             0,
             "#8e0152"
            ],
            [
             0.1,
             "#c51b7d"
            ],
            [
             0.2,
             "#de77ae"
            ],
            [
             0.3,
             "#f1b6da"
            ],
            [
             0.4,
             "#fde0ef"
            ],
            [
             0.5,
             "#f7f7f7"
            ],
            [
             0.6,
             "#e6f5d0"
            ],
            [
             0.7,
             "#b8e186"
            ],
            [
             0.8,
             "#7fbc41"
            ],
            [
             0.9,
             "#4d9221"
            ],
            [
             1,
             "#276419"
            ]
           ],
           "sequential": [
            [
             0,
             "#0d0887"
            ],
            [
             0.1111111111111111,
             "#46039f"
            ],
            [
             0.2222222222222222,
             "#7201a8"
            ],
            [
             0.3333333333333333,
             "#9c179e"
            ],
            [
             0.4444444444444444,
             "#bd3786"
            ],
            [
             0.5555555555555556,
             "#d8576b"
            ],
            [
             0.6666666666666666,
             "#ed7953"
            ],
            [
             0.7777777777777778,
             "#fb9f3a"
            ],
            [
             0.8888888888888888,
             "#fdca26"
            ],
            [
             1,
             "#f0f921"
            ]
           ],
           "sequentialminus": [
            [
             0,
             "#0d0887"
            ],
            [
             0.1111111111111111,
             "#46039f"
            ],
            [
             0.2222222222222222,
             "#7201a8"
            ],
            [
             0.3333333333333333,
             "#9c179e"
            ],
            [
             0.4444444444444444,
             "#bd3786"
            ],
            [
             0.5555555555555556,
             "#d8576b"
            ],
            [
             0.6666666666666666,
             "#ed7953"
            ],
            [
             0.7777777777777778,
             "#fb9f3a"
            ],
            [
             0.8888888888888888,
             "#fdca26"
            ],
            [
             1,
             "#f0f921"
            ]
           ]
          },
          "colorway": [
           "#636efa",
           "#EF553B",
           "#00cc96",
           "#ab63fa",
           "#FFA15A",
           "#19d3f3",
           "#FF6692",
           "#B6E880",
           "#FF97FF",
           "#FECB52"
          ],
          "font": {
           "color": "#2a3f5f"
          },
          "geo": {
           "bgcolor": "white",
           "lakecolor": "white",
           "landcolor": "#E5ECF6",
           "showlakes": true,
           "showland": true,
           "subunitcolor": "white"
          },
          "hoverlabel": {
           "align": "left"
          },
          "hovermode": "closest",
          "mapbox": {
           "style": "light"
          },
          "paper_bgcolor": "white",
          "plot_bgcolor": "#E5ECF6",
          "polar": {
           "angularaxis": {
            "gridcolor": "white",
            "linecolor": "white",
            "ticks": ""
           },
           "bgcolor": "#E5ECF6",
           "radialaxis": {
            "gridcolor": "white",
            "linecolor": "white",
            "ticks": ""
           }
          },
          "scene": {
           "xaxis": {
            "backgroundcolor": "#E5ECF6",
            "gridcolor": "white",
            "gridwidth": 2,
            "linecolor": "white",
            "showbackground": true,
            "ticks": "",
            "zerolinecolor": "white"
           },
           "yaxis": {
            "backgroundcolor": "#E5ECF6",
            "gridcolor": "white",
            "gridwidth": 2,
            "linecolor": "white",
            "showbackground": true,
            "ticks": "",
            "zerolinecolor": "white"
           },
           "zaxis": {
            "backgroundcolor": "#E5ECF6",
            "gridcolor": "white",
            "gridwidth": 2,
            "linecolor": "white",
            "showbackground": true,
            "ticks": "",
            "zerolinecolor": "white"
           }
          },
          "shapedefaults": {
           "line": {
            "color": "#2a3f5f"
           }
          },
          "ternary": {
           "aaxis": {
            "gridcolor": "white",
            "linecolor": "white",
            "ticks": ""
           },
           "baxis": {
            "gridcolor": "white",
            "linecolor": "white",
            "ticks": ""
           },
           "bgcolor": "#E5ECF6",
           "caxis": {
            "gridcolor": "white",
            "linecolor": "white",
            "ticks": ""
           }
          },
          "title": {
           "x": 0.05
          },
          "xaxis": {
           "automargin": true,
           "gridcolor": "white",
           "linecolor": "white",
           "ticks": "",
           "title": {
            "standoff": 15
           },
           "zerolinecolor": "white",
           "zerolinewidth": 2
          },
          "yaxis": {
           "automargin": true,
           "gridcolor": "white",
           "linecolor": "white",
           "ticks": "",
           "title": {
            "standoff": 15
           },
           "zerolinecolor": "white",
           "zerolinewidth": 2
          }
         }
        },
        "title": {
         "text": "Deviation distribution"
        },
        "xaxis": {
         "tickformat": ".1%"
        }
       },
       "_py2js_addTraces": {},
       "_py2js_animate": {},
       "_py2js_deleteTraces": {},
       "_py2js_moveTraces": {},
       "_py2js_removeLayoutProps": {},
       "_py2js_removeTraceProps": {},
       "_py2js_restyle": {},
       "_view_count": 1
      }
     },
     "6263e50234a4421a8e56d04794a7e744": {
      "model_module": "@jupyter-widgets/controls",
      "model_module_version": "1.5.0",
      "model_name": "VBoxModel",
      "state": {
       "children": [
        "IPY_MODEL_030ecb4b859f42a2a49d71617b115b25",
        "IPY_MODEL_00b60f08bd1d4d82b0e2179593d43c65"
       ],
       "layout": "IPY_MODEL_28421d3963b44fdc879ea1ef2079b596"
      }
     },
     "72256fe74b3e4000be9688e93a5d5223": {
      "model_module": "@jupyter-widgets/controls",
      "model_module_version": "1.5.0",
      "model_name": "DropdownModel",
      "state": {
       "_options_labels": [
        "ALL",
        "Harsh >50% of activity duration",
        "Fair >50% of activity duration",
        "Fair >80% of activity duration"
       ],
       "description": "Site",
       "index": 0,
       "layout": "IPY_MODEL_78d41a18a9fb4811a01ca34000151c2d",
       "style": "IPY_MODEL_21691fb6f4c34c3f9cafb28513f69fc3"
      }
     },
     "74a53fc3e92e47f2b8f42ecb6e30c9b1": {
      "model_module": "@jupyter-widgets/base",
      "model_module_version": "1.2.0",
      "model_name": "LayoutModel",
      "state": {}
     },
     "77523e72dab044049320c76e4e6b8da3": {
      "model_module": "@jupyter-widgets/controls",
      "model_module_version": "1.5.0",
      "model_name": "DropdownModel",
      "state": {
       "_options_labels": [
        "ALL",
        "<200MM",
        "<2MM",
        "<20MM"
       ],
       "description": "Project size",
       "index": 0,
       "layout": "IPY_MODEL_78b4e2daffe945e2ac2dac866257c830",
       "style": "IPY_MODEL_e05b1c1168834422a800a7fe137b29ef"
      }
     },
     "78b4e2daffe945e2ac2dac866257c830": {
      "model_module": "@jupyter-widgets/base",
      "model_module_version": "1.2.0",
      "model_name": "LayoutModel",
      "state": {
       "height": "25px",
       "width": "40%"
      }
     },
     "78d41a18a9fb4811a01ca34000151c2d": {
      "model_module": "@jupyter-widgets/base",
      "model_module_version": "1.2.0",
      "model_name": "LayoutModel",
      "state": {
       "height": "25px",
       "width": "40%"
      }
     },
     "7953d77448c44d329556880843b3ccab": {
      "model_module": "@jupyter-widgets/base",
      "model_module_version": "1.2.0",
      "model_name": "LayoutModel",
      "state": {}
     },
     "85d8272a9962415f9b04b984affb0cc8": {
      "model_module": "@jupyter-widgets/base",
      "model_module_version": "1.2.0",
      "model_name": "LayoutModel",
      "state": {}
     },
     "886c504fb2e34f7fa3946a8c7db1e691": {
      "model_module": "@jupyter-widgets/base",
      "model_module_version": "1.2.0",
      "model_name": "LayoutModel",
      "state": {
       "height": "25px",
       "width": "40%"
      }
     },
     "8958861c4cab41839f883e783ba7eed9": {
      "buffers": [
       {
        "data": "AAAAAAAAAABbv1Kg1q+EP1u/UqDWr5Q/CB988MEHnz9bv1Kg1q+kPzJvZ0jM26k/CB988MEHrz9wZ0jM2xmyP1u/UqDWr7Q/RhdddNFFtz8yb2dIzNu5Px3HcRzHcbw/CB988MEHvz96O0Ni3s7AP3BnSMzbGcI/ZZNNNtlkwz9bv1Kg1q/EP1HrVwrU+sU/RhdddNFFxz88Q2LezpDIPzJvZ0jM28k/J5tssskmyz8dx3Ecx3HMPxPzdobEvM0/CB988MEHzz9/pUCtXynQP3o7Q2LeztA/ddFFF1100T9wZ0jM2xnSP2r9SoFav9I/ZZNNNtlk0z9gKVDrVwrUP1u/UqDWr9Q/VlVVVVVV1T9R61cK1PrVP0yBWr9SoNY/RhdddNFF1z9BrV8pUOvXPzxDYt7OkNg/N9lkk0022T8yb2dIzNvZPy0Fav1Kgdo/J5tssskm2z8iMW9nSMzbPx3HcRzHcdw/GF100UUX3T8T83aGxLzdPw6JeTtDYt4/CB988MEH3z8DtX6lQK3fP3+lQK1fKeA/ffDBBx984D96O0Ni3s7gP3eGxLydIeE/ddFFF1104T9yHMdxHMfhP3BnSMzbGeI/bbLJJpts4j9q/UqBWr/iP2hIzNsZEuM/ZZNNNtlk4z9j3s6QmLfjP2ApUOtXCuQ/XnTRRRdd5D9bv1Kg1q/kP1gK1PqVAuU/VlVVVVVV5T9ToNavFKjlP1HrVwrU+uU/TjbZZJNN5j9MgVq/UqDmP0nM2xkS8+Y/RhdddNFF5z9EYt7OkJjnP0GtXylQ6+c/P/jggw8+6D88Q2LezpDoPzmO4ziO4+g/N9lkk0026T80JObtDInpPzJvZ0jM2+k/L7rooosu6j8tBWr9SoHqPypQ61cK1Oo/J5tssskm6z8l5u0MiXnrPyIxb2dIzOs/IHzwwQcf7D8dx3Ecx3HsPxsS83aGxOw/GF100UUX7T8VqPUrBWrtPxPzdobEvO0/ED744IMP7j8OiXk7Q2LuPwvU+pUCte4/CB988MEH7z8Gav1KgVrvPwO1fqVAre8/AAAAAAAA8D8=",
        "encoding": "base64",
        "path": [
         "_data",
         0,
         "x",
         "value"
        ]
       },
       {
        "data": "NkHAWuBCBT+CJ3GhI7ERP//BZxhiDR0/aYNpnnSJJz/KWRqa2NAyP7sBbcxarz0/n0a/uVYbRz9kUJJzsr9RP/I5mWEr6Fo/+1bPRGogZD/76yEXvLZtPz2XcjtUpXU/4IUf05Affz/I5/t7BxWGP9mxKxjH7I4/tkzlCRtflT+NLyQkRCedP8Q0EusXoKM/4c3NfDIUqj/a8s9gJxqxPx//mgHBI7Y/RQc/PCNKvD+4HDueDdfBP5BaE+m7NcY/3b6qBxVLyz+lRDzJz43QP2L9Zfh60tM/LUpiWTtu1z+xGq4uIlfbPyaZaoxcft8/endEjRvo4T8OsVWtOxrkP3wCnNqHR+Y/oh1V4JVg6D9NZNrTRFXqPxPIbJqGFew/N1kN8DiS7T+Bnxsd/r3uP054Qn0Eju8/PaU4nKz67z8AAAAAAADwPw54monune8/OjOeP03Y7j/USGPPlrbtP2SusHxzQ+w/1KV9+hKM6j+Uj8o+Zp/oP6vliHVJjeY/PnLrm65l5D8/W/IU2DfiP8Nj2vCvEeA/sFeKHor+2z9ukU9g5hTYP0LMLNttddQ/xz0gzlUq0T/v5AzMoXLMPzliGaMQSMc/XGdEVHbRwj+Tdl3wygu+P8LNB9PusLc/uU8ShVtzsj/2BiC/u2KsP5T02FFDkaU/zV9KoawvoD8AthuKh/+XPzVQdGqnkpE/M+d/uPxriT9rDCQrDCqCP4oVPj0zpHk/MreertrgcT8Pjkgh7qBoP+nFzWUcwmA/yEvITKaHVj+nv5CeWOxNPwlFqRmsoUM/Fuso89RyOT9S3beTykswP9qxNTmbniQ/VPe0o+HGGT8rAFGjeNYPP7t5WPYrbQM/cE8xiGJs9z6qCtKjxufrPv6E2VSbbOA+otbtCnQa0z7W+rJQg/TFPmE0b7/S7rg+rC/9Xoj6qz5jr4ZFQwafPs75wP5V/5A+ztZKBJpngj7gM2iifbFzPnDKEuzm0mQ+cstZCZXCVT682s/vnXhGPmjwtZTd7jY+XnCEE04hJz7uuv3hQQ4XPnBz3np7tgY+8l3iriAd9j0=",
        "encoding": "base64",
        "path": [
         "_data",
         0,
         "y",
         "value"
        ]
       },
       {
        "data": "AAAAAAAAAABbv1Kg1q+EP1u/UqDWr5Q/CB988MEHnz9bv1Kg1q+kPzJvZ0jM26k/CB988MEHrz9wZ0jM2xmyP1u/UqDWr7Q/RhdddNFFtz8yb2dIzNu5Px3HcRzHcbw/CB988MEHvz96O0Ni3s7AP3BnSMzbGcI/ZZNNNtlkwz9bv1Kg1q/EP1HrVwrU+sU/RhdddNFFxz88Q2LezpDIPzJvZ0jM28k/J5tssskmyz8dx3Ecx3HMPxPzdobEvM0/CB988MEHzz9/pUCtXynQP3o7Q2LeztA/ddFFF1100T9wZ0jM2xnSP2r9SoFav9I/ZZNNNtlk0z9gKVDrVwrUP1u/UqDWr9Q/VlVVVVVV1T9R61cK1PrVP0yBWr9SoNY/RhdddNFF1z9BrV8pUOvXPzxDYt7OkNg/N9lkk0022T8yb2dIzNvZPy0Fav1Kgdo/J5tssskm2z8iMW9nSMzbPx3HcRzHcdw/GF100UUX3T8T83aGxLzdPw6JeTtDYt4/CB988MEH3z8DtX6lQK3fP3+lQK1fKeA/ffDBBx984D96O0Ni3s7gP3eGxLydIeE/ddFFF1104T9yHMdxHMfhP3BnSMzbGeI/bbLJJpts4j9q/UqBWr/iP2hIzNsZEuM/ZZNNNtlk4z9j3s6QmLfjP2ApUOtXCuQ/XnTRRRdd5D9bv1Kg1q/kP1gK1PqVAuU/VlVVVVVV5T9ToNavFKjlP1HrVwrU+uU/TjbZZJNN5j9MgVq/UqDmP0nM2xkS8+Y/RhdddNFF5z9EYt7OkJjnP0GtXylQ6+c/P/jggw8+6D88Q2LezpDoPzmO4ziO4+g/N9lkk0026T80JObtDInpPzJvZ0jM2+k/L7rooosu6j8tBWr9SoHqPypQ61cK1Oo/J5tssskm6z8l5u0MiXnrPyIxb2dIzOs/IHzwwQcf7D8dx3Ecx3HsPxsS83aGxOw/GF100UUX7T8VqPUrBWrtPxPzdobEvO0/ED744IMP7j8OiXk7Q2LuPwvU+pUCte4/CB988MEH7z8Gav1KgVrvPwO1fqVAre8/AAAAAAAA8D8=",
        "encoding": "base64",
        "path": [
         "_data",
         1,
         "x",
         "value"
        ]
       },
       {
        "data": "FLZGcQlKzD7r884wjx3YPn9TBX11S+Q+S7eEz5zc8D5xqakfwqn7Pqfivh+SZwY/8Wwpgq/qET8LDujjqEscP0IBMkNCECY/+kWs0U79MD8nmTlx9dY5P8HCGs4yaEM/9+Z71uPKTD/lRYUDxRhVP4ljHtvyiV4/B/1YWtfVZT9trMyvDdluP76Bqztih3U/DG4hbSSxfT938yaIkzuEP72aDbzyP4s/9+kvTtkikj+8QXtKkNyXP1LFsPfACJ8/ZsQ3mbHzoz/s1qeEil2pP8YYPahw468/FxMgOuHSsz/Um0YmEmG4P5Ah2ankqL0/HEcR9+vZwT8wEDOTu0PFP9zM2RVMEsk/gnj/OmFDzT9wLEJb8+jQPy40epLwWtM/CUrYZULy1T9iyFLGOajYP2AtDj4Qdds/ykzUQypQ3j+etII4M5jgPyq7w246BuI/rjEQmpht4z+axpDs/MnkPyQdlmF/F+Y/xKDpsMFS5z/4vloFCHnoP/KgC2JIiOk/ndZtXzB/6j/zgmihIV3rP5zGcQomIuw/vuXgLd3O7D9Ab87VZGTtP9S7cpM+5O0/DIphRjRQ7j+p4fpVParuPxgSvApm9O4/D+8gFrow7z+XhNvyMmHvP4SzaWaqh+8/6ERnGNGl7z8DfabwKL3vP+qDmL0Cz+8//7roiH7c7z9zQ3T2jebvP5Yeug747e8/JaGW5V3z7z9AE5akP/fvP5YhwpkB+u8/xSiHBfH77z/Bhvd5SP3vP1866LEz/u8/rBx41tL+7z90RHM1Pf/vPw83AnOD/+8/8trERbH/7z+qcY3Ozv/vP2fXG53h/+8/Y98fcu3/7z/nqfLM9P/vP+73SlH5/+8/ZDn6Dvz/7z8SUa+z/f/vPwF366z+/+8/6iTQPv//7z+NvjKT///vP8NdbcP//+8/5y+q3v//7z8Ie93t///vP+tjP/b//+8/ic3Q+v//7z8fjkb9///vP5Gxlf7//+8/gfJF////7z9VjaH////vP3Sa0P///+8/t3zo////7z8QePT////vP+Fo+v///+8/G1L9////7z8=",
        "encoding": "base64",
        "path": [
         "_data",
         1,
         "y",
         "value"
        ]
       }
      ],
      "model_module": "plotlywidget",
      "model_module_version": "^1.3.0",
      "model_name": "FigureModel",
      "state": {
       "_config": {
        "plotlyServerURL": "https://plotly.com"
       },
       "_data": [
        {
         "name": "Lognormal fit pdf<br>(100% = mode)",
         "type": "scatter",
         "uid": "95fbd5a1-0b8e-4470-9ade-825c55db020d",
         "x": {
          "dtype": "float64",
          "shape": [
           100
          ],
          "value": {}
         },
         "y": {
          "dtype": "float64",
          "shape": [
           100
          ],
          "value": {}
         }
        },
        {
         "name": "Lognormal fit cdf",
         "type": "scatter",
         "uid": "cb4fa947-1399-4799-b29d-24a78cf054dc",
         "x": {
          "dtype": "float64",
          "shape": [
           100
          ],
          "value": {}
         },
         "y": {
          "dtype": "float64",
          "shape": [
           100
          ],
          "value": {}
         }
        }
       ],
       "_js2py_pointsCallback": {},
       "_js2py_restyle": {},
       "_js2py_update": {},
       "_last_layout_edit_id": 3,
       "_last_trace_edit_id": 2,
       "_layout": {
        "autosize": true,
        "bargap": 0.01,
        "barmode": "overlay",
        "paper_bgcolor": "whitesmoke",
        "template": {
         "data": {
          "bar": [
           {
            "error_x": {
             "color": "#2a3f5f"
            },
            "error_y": {
             "color": "#2a3f5f"
            },
            "marker": {
             "line": {
              "color": "#E5ECF6",
              "width": 0.5
             }
            },
            "type": "bar"
           }
          ],
          "barpolar": [
           {
            "marker": {
             "line": {
              "color": "#E5ECF6",
              "width": 0.5
             }
            },
            "type": "barpolar"
           }
          ],
          "carpet": [
           {
            "aaxis": {
             "endlinecolor": "#2a3f5f",
             "gridcolor": "white",
             "linecolor": "white",
             "minorgridcolor": "white",
             "startlinecolor": "#2a3f5f"
            },
            "baxis": {
             "endlinecolor": "#2a3f5f",
             "gridcolor": "white",
             "linecolor": "white",
             "minorgridcolor": "white",
             "startlinecolor": "#2a3f5f"
            },
            "type": "carpet"
           }
          ],
          "choropleth": [
           {
            "colorbar": {
             "outlinewidth": 0,
             "ticks": ""
            },
            "type": "choropleth"
           }
          ],
          "contour": [
           {
            "colorbar": {
             "outlinewidth": 0,
             "ticks": ""
            },
            "colorscale": [
             [
              0,
              "#0d0887"
             ],
             [
              0.1111111111111111,
              "#46039f"
             ],
             [
              0.2222222222222222,
              "#7201a8"
             ],
             [
              0.3333333333333333,
              "#9c179e"
             ],
             [
              0.4444444444444444,
              "#bd3786"
             ],
             [
              0.5555555555555556,
              "#d8576b"
             ],
             [
              0.6666666666666666,
              "#ed7953"
             ],
             [
              0.7777777777777778,
              "#fb9f3a"
             ],
             [
              0.8888888888888888,
              "#fdca26"
             ],
             [
              1,
              "#f0f921"
             ]
            ],
            "type": "contour"
           }
          ],
          "contourcarpet": [
           {
            "colorbar": {
             "outlinewidth": 0,
             "ticks": ""
            },
            "type": "contourcarpet"
           }
          ],
          "heatmap": [
           {
            "colorbar": {
             "outlinewidth": 0,
             "ticks": ""
            },
            "colorscale": [
             [
              0,
              "#0d0887"
             ],
             [
              0.1111111111111111,
              "#46039f"
             ],
             [
              0.2222222222222222,
              "#7201a8"
             ],
             [
              0.3333333333333333,
              "#9c179e"
             ],
             [
              0.4444444444444444,
              "#bd3786"
             ],
             [
              0.5555555555555556,
              "#d8576b"
             ],
             [
              0.6666666666666666,
              "#ed7953"
             ],
             [
              0.7777777777777778,
              "#fb9f3a"
             ],
             [
              0.8888888888888888,
              "#fdca26"
             ],
             [
              1,
              "#f0f921"
             ]
            ],
            "type": "heatmap"
           }
          ],
          "heatmapgl": [
           {
            "colorbar": {
             "outlinewidth": 0,
             "ticks": ""
            },
            "colorscale": [
             [
              0,
              "#0d0887"
             ],
             [
              0.1111111111111111,
              "#46039f"
             ],
             [
              0.2222222222222222,
              "#7201a8"
             ],
             [
              0.3333333333333333,
              "#9c179e"
             ],
             [
              0.4444444444444444,
              "#bd3786"
             ],
             [
              0.5555555555555556,
              "#d8576b"
             ],
             [
              0.6666666666666666,
              "#ed7953"
             ],
             [
              0.7777777777777778,
              "#fb9f3a"
             ],
             [
              0.8888888888888888,
              "#fdca26"
             ],
             [
              1,
              "#f0f921"
             ]
            ],
            "type": "heatmapgl"
           }
          ],
          "histogram": [
           {
            "marker": {
             "colorbar": {
              "outlinewidth": 0,
              "ticks": ""
             }
            },
            "type": "histogram"
           }
          ],
          "histogram2d": [
           {
            "colorbar": {
             "outlinewidth": 0,
             "ticks": ""
            },
            "colorscale": [
             [
              0,
              "#0d0887"
             ],
             [
              0.1111111111111111,
              "#46039f"
             ],
             [
              0.2222222222222222,
              "#7201a8"
             ],
             [
              0.3333333333333333,
              "#9c179e"
             ],
             [
              0.4444444444444444,
              "#bd3786"
             ],
             [
              0.5555555555555556,
              "#d8576b"
             ],
             [
              0.6666666666666666,
              "#ed7953"
             ],
             [
              0.7777777777777778,
              "#fb9f3a"
             ],
             [
              0.8888888888888888,
              "#fdca26"
             ],
             [
              1,
              "#f0f921"
             ]
            ],
            "type": "histogram2d"
           }
          ],
          "histogram2dcontour": [
           {
            "colorbar": {
             "outlinewidth": 0,
             "ticks": ""
            },
            "colorscale": [
             [
              0,
              "#0d0887"
             ],
             [
              0.1111111111111111,
              "#46039f"
             ],
             [
              0.2222222222222222,
              "#7201a8"
             ],
             [
              0.3333333333333333,
              "#9c179e"
             ],
             [
              0.4444444444444444,
              "#bd3786"
             ],
             [
              0.5555555555555556,
              "#d8576b"
             ],
             [
              0.6666666666666666,
              "#ed7953"
             ],
             [
              0.7777777777777778,
              "#fb9f3a"
             ],
             [
              0.8888888888888888,
              "#fdca26"
             ],
             [
              1,
              "#f0f921"
             ]
            ],
            "type": "histogram2dcontour"
           }
          ],
          "mesh3d": [
           {
            "colorbar": {
             "outlinewidth": 0,
             "ticks": ""
            },
            "type": "mesh3d"
           }
          ],
          "parcoords": [
           {
            "line": {
             "colorbar": {
              "outlinewidth": 0,
              "ticks": ""
             }
            },
            "type": "parcoords"
           }
          ],
          "pie": [
           {
            "automargin": true,
            "type": "pie"
           }
          ],
          "scatter": [
           {
            "marker": {
             "colorbar": {
              "outlinewidth": 0,
              "ticks": ""
             }
            },
            "type": "scatter"
           }
          ],
          "scatter3d": [
           {
            "line": {
             "colorbar": {
              "outlinewidth": 0,
              "ticks": ""
             }
            },
            "marker": {
             "colorbar": {
              "outlinewidth": 0,
              "ticks": ""
             }
            },
            "type": "scatter3d"
           }
          ],
          "scattercarpet": [
           {
            "marker": {
             "colorbar": {
              "outlinewidth": 0,
              "ticks": ""
             }
            },
            "type": "scattercarpet"
           }
          ],
          "scattergeo": [
           {
            "marker": {
             "colorbar": {
              "outlinewidth": 0,
              "ticks": ""
             }
            },
            "type": "scattergeo"
           }
          ],
          "scattergl": [
           {
            "marker": {
             "colorbar": {
              "outlinewidth": 0,
              "ticks": ""
             }
            },
            "type": "scattergl"
           }
          ],
          "scattermapbox": [
           {
            "marker": {
             "colorbar": {
              "outlinewidth": 0,
              "ticks": ""
             }
            },
            "type": "scattermapbox"
           }
          ],
          "scatterpolar": [
           {
            "marker": {
             "colorbar": {
              "outlinewidth": 0,
              "ticks": ""
             }
            },
            "type": "scatterpolar"
           }
          ],
          "scatterpolargl": [
           {
            "marker": {
             "colorbar": {
              "outlinewidth": 0,
              "ticks": ""
             }
            },
            "type": "scatterpolargl"
           }
          ],
          "scatterternary": [
           {
            "marker": {
             "colorbar": {
              "outlinewidth": 0,
              "ticks": ""
             }
            },
            "type": "scatterternary"
           }
          ],
          "surface": [
           {
            "colorbar": {
             "outlinewidth": 0,
             "ticks": ""
            },
            "colorscale": [
             [
              0,
              "#0d0887"
             ],
             [
              0.1111111111111111,
              "#46039f"
             ],
             [
              0.2222222222222222,
              "#7201a8"
             ],
             [
              0.3333333333333333,
              "#9c179e"
             ],
             [
              0.4444444444444444,
              "#bd3786"
             ],
             [
              0.5555555555555556,
              "#d8576b"
             ],
             [
              0.6666666666666666,
              "#ed7953"
             ],
             [
              0.7777777777777778,
              "#fb9f3a"
             ],
             [
              0.8888888888888888,
              "#fdca26"
             ],
             [
              1,
              "#f0f921"
             ]
            ],
            "type": "surface"
           }
          ],
          "table": [
           {
            "cells": {
             "fill": {
              "color": "#EBF0F8"
             },
             "line": {
              "color": "white"
             }
            },
            "header": {
             "fill": {
              "color": "#C8D4E3"
             },
             "line": {
              "color": "white"
             }
            },
            "type": "table"
           }
          ]
         },
         "layout": {
          "annotationdefaults": {
           "arrowcolor": "#2a3f5f",
           "arrowhead": 0,
           "arrowwidth": 1
          },
          "coloraxis": {
           "colorbar": {
            "outlinewidth": 0,
            "ticks": ""
           }
          },
          "colorscale": {
           "diverging": [
            [
             0,
             "#8e0152"
            ],
            [
             0.1,
             "#c51b7d"
            ],
            [
             0.2,
             "#de77ae"
            ],
            [
             0.3,
             "#f1b6da"
            ],
            [
             0.4,
             "#fde0ef"
            ],
            [
             0.5,
             "#f7f7f7"
            ],
            [
             0.6,
             "#e6f5d0"
            ],
            [
             0.7,
             "#b8e186"
            ],
            [
             0.8,
             "#7fbc41"
            ],
            [
             0.9,
             "#4d9221"
            ],
            [
             1,
             "#276419"
            ]
           ],
           "sequential": [
            [
             0,
             "#0d0887"
            ],
            [
             0.1111111111111111,
             "#46039f"
            ],
            [
             0.2222222222222222,
             "#7201a8"
            ],
            [
             0.3333333333333333,
             "#9c179e"
            ],
            [
             0.4444444444444444,
             "#bd3786"
            ],
            [
             0.5555555555555556,
             "#d8576b"
            ],
            [
             0.6666666666666666,
             "#ed7953"
            ],
            [
             0.7777777777777778,
             "#fb9f3a"
            ],
            [
             0.8888888888888888,
             "#fdca26"
            ],
            [
             1,
             "#f0f921"
            ]
           ],
           "sequentialminus": [
            [
             0,
             "#0d0887"
            ],
            [
             0.1111111111111111,
             "#46039f"
            ],
            [
             0.2222222222222222,
             "#7201a8"
            ],
            [
             0.3333333333333333,
             "#9c179e"
            ],
            [
             0.4444444444444444,
             "#bd3786"
            ],
            [
             0.5555555555555556,
             "#d8576b"
            ],
            [
             0.6666666666666666,
             "#ed7953"
            ],
            [
             0.7777777777777778,
             "#fb9f3a"
            ],
            [
             0.8888888888888888,
             "#fdca26"
            ],
            [
             1,
             "#f0f921"
            ]
           ]
          },
          "colorway": [
           "#636efa",
           "#EF553B",
           "#00cc96",
           "#ab63fa",
           "#FFA15A",
           "#19d3f3",
           "#FF6692",
           "#B6E880",
           "#FF97FF",
           "#FECB52"
          ],
          "font": {
           "color": "#2a3f5f"
          },
          "geo": {
           "bgcolor": "white",
           "lakecolor": "white",
           "landcolor": "#E5ECF6",
           "showlakes": true,
           "showland": true,
           "subunitcolor": "white"
          },
          "hoverlabel": {
           "align": "left"
          },
          "hovermode": "closest",
          "mapbox": {
           "style": "light"
          },
          "paper_bgcolor": "white",
          "plot_bgcolor": "#E5ECF6",
          "polar": {
           "angularaxis": {
            "gridcolor": "white",
            "linecolor": "white",
            "ticks": ""
           },
           "bgcolor": "#E5ECF6",
           "radialaxis": {
            "gridcolor": "white",
            "linecolor": "white",
            "ticks": ""
           }
          },
          "scene": {
           "xaxis": {
            "backgroundcolor": "#E5ECF6",
            "gridcolor": "white",
            "gridwidth": 2,
            "linecolor": "white",
            "showbackground": true,
            "ticks": "",
            "zerolinecolor": "white"
           },
           "yaxis": {
            "backgroundcolor": "#E5ECF6",
            "gridcolor": "white",
            "gridwidth": 2,
            "linecolor": "white",
            "showbackground": true,
            "ticks": "",
            "zerolinecolor": "white"
           },
           "zaxis": {
            "backgroundcolor": "#E5ECF6",
            "gridcolor": "white",
            "gridwidth": 2,
            "linecolor": "white",
            "showbackground": true,
            "ticks": "",
            "zerolinecolor": "white"
           }
          },
          "shapedefaults": {
           "line": {
            "color": "#2a3f5f"
           }
          },
          "ternary": {
           "aaxis": {
            "gridcolor": "white",
            "linecolor": "white",
            "ticks": ""
           },
           "baxis": {
            "gridcolor": "white",
            "linecolor": "white",
            "ticks": ""
           },
           "bgcolor": "#E5ECF6",
           "caxis": {
            "gridcolor": "white",
            "linecolor": "white",
            "ticks": ""
           }
          },
          "title": {
           "x": 0.05
          },
          "xaxis": {
           "automargin": true,
           "gridcolor": "white",
           "linecolor": "white",
           "ticks": "",
           "title": {
            "standoff": 15
           },
           "zerolinecolor": "white",
           "zerolinewidth": 2
          },
          "yaxis": {
           "automargin": true,
           "gridcolor": "white",
           "linecolor": "white",
           "ticks": "",
           "title": {
            "standoff": 15
           },
           "zerolinecolor": "white",
           "zerolinewidth": 2
          }
         }
        },
        "title": {
         "text": "Deviation distribution and Lognormal fit"
        },
        "xaxis": {
         "tickformat": ".1%"
        },
        "yaxis": {
         "tickformat": ".0%"
        }
       },
       "_py2js_animate": {},
       "_py2js_deleteTraces": {},
       "_py2js_moveTraces": {},
       "_py2js_removeLayoutProps": {},
       "_py2js_removeTraceProps": {},
       "_py2js_restyle": {},
       "_py2js_update": {},
       "_view_count": 1
      }
     },
     "8ff24aef6a4e4e31aa333d801f5af031": {
      "model_module": "@jupyter-widgets/base",
      "model_module_version": "1.2.0",
      "model_name": "LayoutModel",
      "state": {}
     },
     "95dd6c6844744817a37b2b32616683fc": {
      "model_module": "@jupyter-widgets/controls",
      "model_module_version": "1.5.0",
      "model_name": "DescriptionStyleModel",
      "state": {
       "description_width": ""
      }
     },
     "a1e49389e82741f0a830de18163a05d4": {
      "model_module": "@jupyter-widgets/controls",
      "model_module_version": "1.5.0",
      "model_name": "DropdownModel",
      "state": {
       "_options_labels": [
        "ALL",
        "O&G - Upstream",
        "O&G - Downstream",
        "Renewables - Wind",
        "Mining",
        "Renewables - Solar"
       ],
       "description": "LOB",
       "index": 0,
       "layout": "IPY_MODEL_886c504fb2e34f7fa3946a8c7db1e691",
       "style": "IPY_MODEL_49eac490ea944f3dbf6e2c47871a2d22"
      }
     },
     "a30ee3c76668455bb58bced64ba4883e": {
      "model_module": "@jupyter-widgets/base",
      "model_module_version": "1.2.0",
      "model_name": "LayoutModel",
      "state": {
       "height": "25px",
       "width": "40%"
      }
     },
     "a87b59a84b4944dcbfeab3c2d5396854": {
      "model_module": "@jupyter-widgets/base",
      "model_module_version": "1.2.0",
      "model_name": "LayoutModel",
      "state": {
       "height": "25px",
       "width": "40%"
      }
     },
     "aa1132b6371e4bbcabea9e568017846b": {
      "model_module": "@jupyter-widgets/controls",
      "model_module_version": "1.5.0",
      "model_name": "HTMLModel",
      "state": {
       "layout": "IPY_MODEL_24044142cfeb4829bb42525f06987b16",
       "placeholder": "",
       "style": "IPY_MODEL_32c1b2dc5c514114951a61df154322bf",
       "value": "<h4>Distribution's statistics</h4>Quantity of projects considered = 2000.<br>The average (mean) delay (%) of the selected projects is 0.391.<br>"
      }
     },
     "ac71a4ae0db649778e197613baf1392b": {
      "buffers": [
       {
        "data": "QSqDcvQbyD8Clf4ZNm7IPxTCTNYGucM/UunHKbFgxj92fW2dgvO7P8R8Zx46KcQ/58wYFD2YwT8vVlXhLyPFP1wHXXvMa8M/ngufhASSwj9kY2BIR2zMPyETVk5uIMQ/IAZfPZNixT/Hf7nKnjrCPyCoqx/By9E/j8V9fvTaxj/k00q+ZRDOPz2gDlkUHsc/6Dkabl39zj/RnvOc8j3LP+Xx+9FMhMM/9CcVgIt9xz8kLO1+XLXIP85kwNjJwMM//XrwoPqDwj/w2TV/HnPGPwkXiiX5kso/jHi6DGJUxD+XWNdwqljAP5yfXP8gJcg/HmSy6DhfvD+lVJTbjtq6P3rCA+T64NA//vcfGo+ywz8JhWHwy0HGP3IqRziV278/GbSkZLhIwj/GYqh+NtbFP4o8AuXaA8M/kJ2ohqyXxD8rklsFxDPDPwxnJjQjZcw/fSrmoWg+yj+sg7H1dATHP87njaemI8Q/GLtU12dvzT8f6T7G/YPBPzTTzzGmVNE/fOy3QbDUwD8fmqeqOKS9P2dy43ZlIMM/",
        "encoding": "base64",
        "path": [
         "_data",
         0,
         "x",
         "value"
        ]
       },
       {
        "data": "piG80yPhxz+GRs7HV3DMP2mF9qUPodE/u1mxL0Fcuz9Ys3+y6rLGP9tLmSJgt88/szQYbOh7zD8u5YFqsYvOP8nz9Yn3FNM/dibhAAJvxT/XJmTTiYXFP/b4C93vx6E/oD8ZVRkVxD8GmkmADHDRP8ci3h6qR6s/UDY2Uu5yxj9LMQr51VnAPyqTdZNz/c8/jIwsnhxzxz9fVfDt8x7DP181sAQ7BsI/M7Ztnj4Qyj/xZM9PhaDSP6MJu/hAqtI/YnTjV1jifD/j+Lhu/irQP34/Le1x8sk/OnAxs43HyT9zwEv8k7DSP+tLpnIp2sE/FTfyaeOCyj/7A5Rvfs/FP0ywckeDxMs/1TseK98QyT9bR5R3h3S5Py6XZE/I788/HYsu7o3ByT/eprnBwhzJP31drMYXj7s/FHM+rJ9N0z8MZmoXdbvQP+ps7AWrGcs/H0KKcWYKsj9GGdyca/TQP5nB5Z+DiNg/LeEDTeHHvj+bXeosIubSP4e98E1KNsc/m2MqEWmavT/9WZviS8rEP1VkOpWIh8U/",
        "encoding": "base64",
        "path": [
         "_data",
         1,
         "x",
         "value"
        ]
       }
      ],
      "model_module": "plotlywidget",
      "model_module_version": "^1.3.0",
      "model_name": "FigureModel",
      "state": {
       "_config": {
        "plotlyServerURL": "https://plotly.com"
       },
       "_data": [
        {
         "name": "Uncertainty",
         "opacity": 0.5,
         "type": "histogram",
         "uid": "34c3513f-b0c6-4ea2-be34-292d9fa1b2b6",
         "x": {
          "dtype": "float64",
          "shape": [
           51
          ],
          "value": {}
         },
         "xbins": {
          "size": 0.005
         }
        },
        {
         "name": "Risk events",
         "opacity": 0.5,
         "type": "histogram",
         "uid": "dc62312e-0110-4ffc-b321-39975f2044a5",
         "x": {
          "dtype": "float64",
          "shape": [
           51
          ],
          "value": {}
         },
         "xbins": {
          "size": 0.005
         }
        }
       ],
       "_js2py_pointsCallback": {},
       "_js2py_restyle": {},
       "_js2py_update": {},
       "_last_layout_edit_id": 1,
       "_layout": {
        "autosize": true,
        "bargap": 0.01,
        "barmode": "overlay",
        "paper_bgcolor": "whitesmoke",
        "template": {
         "data": {
          "bar": [
           {
            "error_x": {
             "color": "#2a3f5f"
            },
            "error_y": {
             "color": "#2a3f5f"
            },
            "marker": {
             "line": {
              "color": "#E5ECF6",
              "width": 0.5
             }
            },
            "type": "bar"
           }
          ],
          "barpolar": [
           {
            "marker": {
             "line": {
              "color": "#E5ECF6",
              "width": 0.5
             }
            },
            "type": "barpolar"
           }
          ],
          "carpet": [
           {
            "aaxis": {
             "endlinecolor": "#2a3f5f",
             "gridcolor": "white",
             "linecolor": "white",
             "minorgridcolor": "white",
             "startlinecolor": "#2a3f5f"
            },
            "baxis": {
             "endlinecolor": "#2a3f5f",
             "gridcolor": "white",
             "linecolor": "white",
             "minorgridcolor": "white",
             "startlinecolor": "#2a3f5f"
            },
            "type": "carpet"
           }
          ],
          "choropleth": [
           {
            "colorbar": {
             "outlinewidth": 0,
             "ticks": ""
            },
            "type": "choropleth"
           }
          ],
          "contour": [
           {
            "colorbar": {
             "outlinewidth": 0,
             "ticks": ""
            },
            "colorscale": [
             [
              0,
              "#0d0887"
             ],
             [
              0.1111111111111111,
              "#46039f"
             ],
             [
              0.2222222222222222,
              "#7201a8"
             ],
             [
              0.3333333333333333,
              "#9c179e"
             ],
             [
              0.4444444444444444,
              "#bd3786"
             ],
             [
              0.5555555555555556,
              "#d8576b"
             ],
             [
              0.6666666666666666,
              "#ed7953"
             ],
             [
              0.7777777777777778,
              "#fb9f3a"
             ],
             [
              0.8888888888888888,
              "#fdca26"
             ],
             [
              1,
              "#f0f921"
             ]
            ],
            "type": "contour"
           }
          ],
          "contourcarpet": [
           {
            "colorbar": {
             "outlinewidth": 0,
             "ticks": ""
            },
            "type": "contourcarpet"
           }
          ],
          "heatmap": [
           {
            "colorbar": {
             "outlinewidth": 0,
             "ticks": ""
            },
            "colorscale": [
             [
              0,
              "#0d0887"
             ],
             [
              0.1111111111111111,
              "#46039f"
             ],
             [
              0.2222222222222222,
              "#7201a8"
             ],
             [
              0.3333333333333333,
              "#9c179e"
             ],
             [
              0.4444444444444444,
              "#bd3786"
             ],
             [
              0.5555555555555556,
              "#d8576b"
             ],
             [
              0.6666666666666666,
              "#ed7953"
             ],
             [
              0.7777777777777778,
              "#fb9f3a"
             ],
             [
              0.8888888888888888,
              "#fdca26"
             ],
             [
              1,
              "#f0f921"
             ]
            ],
            "type": "heatmap"
           }
          ],
          "heatmapgl": [
           {
            "colorbar": {
             "outlinewidth": 0,
             "ticks": ""
            },
            "colorscale": [
             [
              0,
              "#0d0887"
             ],
             [
              0.1111111111111111,
              "#46039f"
             ],
             [
              0.2222222222222222,
              "#7201a8"
             ],
             [
              0.3333333333333333,
              "#9c179e"
             ],
             [
              0.4444444444444444,
              "#bd3786"
             ],
             [
              0.5555555555555556,
              "#d8576b"
             ],
             [
              0.6666666666666666,
              "#ed7953"
             ],
             [
              0.7777777777777778,
              "#fb9f3a"
             ],
             [
              0.8888888888888888,
              "#fdca26"
             ],
             [
              1,
              "#f0f921"
             ]
            ],
            "type": "heatmapgl"
           }
          ],
          "histogram": [
           {
            "marker": {
             "colorbar": {
              "outlinewidth": 0,
              "ticks": ""
             }
            },
            "type": "histogram"
           }
          ],
          "histogram2d": [
           {
            "colorbar": {
             "outlinewidth": 0,
             "ticks": ""
            },
            "colorscale": [
             [
              0,
              "#0d0887"
             ],
             [
              0.1111111111111111,
              "#46039f"
             ],
             [
              0.2222222222222222,
              "#7201a8"
             ],
             [
              0.3333333333333333,
              "#9c179e"
             ],
             [
              0.4444444444444444,
              "#bd3786"
             ],
             [
              0.5555555555555556,
              "#d8576b"
             ],
             [
              0.6666666666666666,
              "#ed7953"
             ],
             [
              0.7777777777777778,
              "#fb9f3a"
             ],
             [
              0.8888888888888888,
              "#fdca26"
             ],
             [
              1,
              "#f0f921"
             ]
            ],
            "type": "histogram2d"
           }
          ],
          "histogram2dcontour": [
           {
            "colorbar": {
             "outlinewidth": 0,
             "ticks": ""
            },
            "colorscale": [
             [
              0,
              "#0d0887"
             ],
             [
              0.1111111111111111,
              "#46039f"
             ],
             [
              0.2222222222222222,
              "#7201a8"
             ],
             [
              0.3333333333333333,
              "#9c179e"
             ],
             [
              0.4444444444444444,
              "#bd3786"
             ],
             [
              0.5555555555555556,
              "#d8576b"
             ],
             [
              0.6666666666666666,
              "#ed7953"
             ],
             [
              0.7777777777777778,
              "#fb9f3a"
             ],
             [
              0.8888888888888888,
              "#fdca26"
             ],
             [
              1,
              "#f0f921"
             ]
            ],
            "type": "histogram2dcontour"
           }
          ],
          "mesh3d": [
           {
            "colorbar": {
             "outlinewidth": 0,
             "ticks": ""
            },
            "type": "mesh3d"
           }
          ],
          "parcoords": [
           {
            "line": {
             "colorbar": {
              "outlinewidth": 0,
              "ticks": ""
             }
            },
            "type": "parcoords"
           }
          ],
          "pie": [
           {
            "automargin": true,
            "type": "pie"
           }
          ],
          "scatter": [
           {
            "marker": {
             "colorbar": {
              "outlinewidth": 0,
              "ticks": ""
             }
            },
            "type": "scatter"
           }
          ],
          "scatter3d": [
           {
            "line": {
             "colorbar": {
              "outlinewidth": 0,
              "ticks": ""
             }
            },
            "marker": {
             "colorbar": {
              "outlinewidth": 0,
              "ticks": ""
             }
            },
            "type": "scatter3d"
           }
          ],
          "scattercarpet": [
           {
            "marker": {
             "colorbar": {
              "outlinewidth": 0,
              "ticks": ""
             }
            },
            "type": "scattercarpet"
           }
          ],
          "scattergeo": [
           {
            "marker": {
             "colorbar": {
              "outlinewidth": 0,
              "ticks": ""
             }
            },
            "type": "scattergeo"
           }
          ],
          "scattergl": [
           {
            "marker": {
             "colorbar": {
              "outlinewidth": 0,
              "ticks": ""
             }
            },
            "type": "scattergl"
           }
          ],
          "scattermapbox": [
           {
            "marker": {
             "colorbar": {
              "outlinewidth": 0,
              "ticks": ""
             }
            },
            "type": "scattermapbox"
           }
          ],
          "scatterpolar": [
           {
            "marker": {
             "colorbar": {
              "outlinewidth": 0,
              "ticks": ""
             }
            },
            "type": "scatterpolar"
           }
          ],
          "scatterpolargl": [
           {
            "marker": {
             "colorbar": {
              "outlinewidth": 0,
              "ticks": ""
             }
            },
            "type": "scatterpolargl"
           }
          ],
          "scatterternary": [
           {
            "marker": {
             "colorbar": {
              "outlinewidth": 0,
              "ticks": ""
             }
            },
            "type": "scatterternary"
           }
          ],
          "surface": [
           {
            "colorbar": {
             "outlinewidth": 0,
             "ticks": ""
            },
            "colorscale": [
             [
              0,
              "#0d0887"
             ],
             [
              0.1111111111111111,
              "#46039f"
             ],
             [
              0.2222222222222222,
              "#7201a8"
             ],
             [
              0.3333333333333333,
              "#9c179e"
             ],
             [
              0.4444444444444444,
              "#bd3786"
             ],
             [
              0.5555555555555556,
              "#d8576b"
             ],
             [
              0.6666666666666666,
              "#ed7953"
             ],
             [
              0.7777777777777778,
              "#fb9f3a"
             ],
             [
              0.8888888888888888,
              "#fdca26"
             ],
             [
              1,
              "#f0f921"
             ]
            ],
            "type": "surface"
           }
          ],
          "table": [
           {
            "cells": {
             "fill": {
              "color": "#EBF0F8"
             },
             "line": {
              "color": "white"
             }
            },
            "header": {
             "fill": {
              "color": "#C8D4E3"
             },
             "line": {
              "color": "white"
             }
            },
            "type": "table"
           }
          ]
         },
         "layout": {
          "annotationdefaults": {
           "arrowcolor": "#2a3f5f",
           "arrowhead": 0,
           "arrowwidth": 1
          },
          "coloraxis": {
           "colorbar": {
            "outlinewidth": 0,
            "ticks": ""
           }
          },
          "colorscale": {
           "diverging": [
            [
             0,
             "#8e0152"
            ],
            [
             0.1,
             "#c51b7d"
            ],
            [
             0.2,
             "#de77ae"
            ],
            [
             0.3,
             "#f1b6da"
            ],
            [
             0.4,
             "#fde0ef"
            ],
            [
             0.5,
             "#f7f7f7"
            ],
            [
             0.6,
             "#e6f5d0"
            ],
            [
             0.7,
             "#b8e186"
            ],
            [
             0.8,
             "#7fbc41"
            ],
            [
             0.9,
             "#4d9221"
            ],
            [
             1,
             "#276419"
            ]
           ],
           "sequential": [
            [
             0,
             "#0d0887"
            ],
            [
             0.1111111111111111,
             "#46039f"
            ],
            [
             0.2222222222222222,
             "#7201a8"
            ],
            [
             0.3333333333333333,
             "#9c179e"
            ],
            [
             0.4444444444444444,
             "#bd3786"
            ],
            [
             0.5555555555555556,
             "#d8576b"
            ],
            [
             0.6666666666666666,
             "#ed7953"
            ],
            [
             0.7777777777777778,
             "#fb9f3a"
            ],
            [
             0.8888888888888888,
             "#fdca26"
            ],
            [
             1,
             "#f0f921"
            ]
           ],
           "sequentialminus": [
            [
             0,
             "#0d0887"
            ],
            [
             0.1111111111111111,
             "#46039f"
            ],
            [
             0.2222222222222222,
             "#7201a8"
            ],
            [
             0.3333333333333333,
             "#9c179e"
            ],
            [
             0.4444444444444444,
             "#bd3786"
            ],
            [
             0.5555555555555556,
             "#d8576b"
            ],
            [
             0.6666666666666666,
             "#ed7953"
            ],
            [
             0.7777777777777778,
             "#fb9f3a"
            ],
            [
             0.8888888888888888,
             "#fdca26"
            ],
            [
             1,
             "#f0f921"
            ]
           ]
          },
          "colorway": [
           "#636efa",
           "#EF553B",
           "#00cc96",
           "#ab63fa",
           "#FFA15A",
           "#19d3f3",
           "#FF6692",
           "#B6E880",
           "#FF97FF",
           "#FECB52"
          ],
          "font": {
           "color": "#2a3f5f"
          },
          "geo": {
           "bgcolor": "white",
           "lakecolor": "white",
           "landcolor": "#E5ECF6",
           "showlakes": true,
           "showland": true,
           "subunitcolor": "white"
          },
          "hoverlabel": {
           "align": "left"
          },
          "hovermode": "closest",
          "mapbox": {
           "style": "light"
          },
          "paper_bgcolor": "white",
          "plot_bgcolor": "#E5ECF6",
          "polar": {
           "angularaxis": {
            "gridcolor": "white",
            "linecolor": "white",
            "ticks": ""
           },
           "bgcolor": "#E5ECF6",
           "radialaxis": {
            "gridcolor": "white",
            "linecolor": "white",
            "ticks": ""
           }
          },
          "scene": {
           "xaxis": {
            "backgroundcolor": "#E5ECF6",
            "gridcolor": "white",
            "gridwidth": 2,
            "linecolor": "white",
            "showbackground": true,
            "ticks": "",
            "zerolinecolor": "white"
           },
           "yaxis": {
            "backgroundcolor": "#E5ECF6",
            "gridcolor": "white",
            "gridwidth": 2,
            "linecolor": "white",
            "showbackground": true,
            "ticks": "",
            "zerolinecolor": "white"
           },
           "zaxis": {
            "backgroundcolor": "#E5ECF6",
            "gridcolor": "white",
            "gridwidth": 2,
            "linecolor": "white",
            "showbackground": true,
            "ticks": "",
            "zerolinecolor": "white"
           }
          },
          "shapedefaults": {
           "line": {
            "color": "#2a3f5f"
           }
          },
          "ternary": {
           "aaxis": {
            "gridcolor": "white",
            "linecolor": "white",
            "ticks": ""
           },
           "baxis": {
            "gridcolor": "white",
            "linecolor": "white",
            "ticks": ""
           },
           "bgcolor": "#E5ECF6",
           "caxis": {
            "gridcolor": "white",
            "linecolor": "white",
            "ticks": ""
           }
          },
          "title": {
           "x": 0.05
          },
          "xaxis": {
           "automargin": true,
           "gridcolor": "white",
           "linecolor": "white",
           "ticks": "",
           "title": {
            "standoff": 15
           },
           "zerolinecolor": "white",
           "zerolinewidth": 2
          },
          "yaxis": {
           "automargin": true,
           "gridcolor": "white",
           "linecolor": "white",
           "ticks": "",
           "title": {
            "standoff": 15
           },
           "zerolinecolor": "white",
           "zerolinewidth": 2
          }
         }
        },
        "title": {
         "text": "Uncertainty and risk's impact distribution",
         "x": 0.5
        },
        "xaxis": {
         "tickformat": ".0%"
        }
       },
       "_py2js_addTraces": {},
       "_py2js_animate": {},
       "_py2js_deleteTraces": {},
       "_py2js_moveTraces": {},
       "_py2js_removeLayoutProps": {},
       "_py2js_removeTraceProps": {},
       "_py2js_restyle": {},
       "_py2js_update": {},
       "_view_count": 1
      }
     },
     "ae494f8474294b46aeeda4dd5b34d25d": {
      "model_module": "@jupyter-widgets/base",
      "model_module_version": "1.2.0",
      "model_name": "LayoutModel",
      "state": {
       "height": "25px",
       "width": "40%"
      }
     },
     "b1eceae41baa48f88e5c522b746e8961": {
      "model_module": "@jupyter-widgets/controls",
      "model_module_version": "1.5.0",
      "model_name": "VBoxModel",
      "state": {
       "children": [
        "IPY_MODEL_db9a8d2868e546d3950959110b2e7d6f",
        "IPY_MODEL_a1e49389e82741f0a830de18163a05d4",
        "IPY_MODEL_72256fe74b3e4000be9688e93a5d5223",
        "IPY_MODEL_5e11526a55fd4768a7f3bd98f957248a",
        "IPY_MODEL_d458b8821aee440bb9d4cd8ceb2a5337"
       ],
       "layout": "IPY_MODEL_d21e01345707442d9b291b1df09c69be"
      }
     },
     "b30513d9d4d2403aa61850b3199a28d6": {
      "model_module": "@jupyter-widgets/base",
      "model_module_version": "1.2.0",
      "model_name": "LayoutModel",
      "state": {}
     },
     "b3361b70754c4078a3d97675244ee44c": {
      "model_module": "@jupyter-widgets/controls",
      "model_module_version": "1.5.0",
      "model_name": "VBoxModel",
      "state": {
       "children": [
        "IPY_MODEL_6263e50234a4421a8e56d04794a7e744",
        "IPY_MODEL_33398e959a8d43fdb340c09985ee331b"
       ],
       "layout": "IPY_MODEL_4bb2d1c7a5004a32a2a12548c7f3bc27"
      }
     },
     "c438af4e6c4d4efab91ec47a9f0d30f2": {
      "model_module": "@jupyter-widgets/base",
      "model_module_version": "1.2.0",
      "model_name": "LayoutModel",
      "state": {}
     },
     "c62ccd8fb7554283b29254facc92dd81": {
      "model_module": "@jupyter-widgets/controls",
      "model_module_version": "1.5.0",
      "model_name": "HBoxModel",
      "state": {
       "children": [
        "IPY_MODEL_77523e72dab044049320c76e4e6b8da3"
       ],
       "layout": "IPY_MODEL_3ee8749edf47441688017a7296150a87"
      }
     },
     "c669c6a3e8bb45a499b1aeafca8b642f": {
      "model_module": "plotlywidget",
      "model_module_version": "^1.3.0",
      "model_name": "FigureModel",
      "state": {
       "_config": {
        "plotlyServerURL": "https://plotly.com"
       },
       "_data": [
        {
         "alignmentgroup": "True",
         "hoverlabel": {
          "namelength": 0
         },
         "hovertemplate": "Variable=Country<br>Factor=%{x}<br>Impact=%{y}",
         "legendgroup": "Variable=Country",
         "marker": {
          "color": "#636efa"
         },
         "name": "Variable=Country",
         "offsetgroup": "Variable=Country",
         "orientation": "v",
         "showlegend": true,
         "textposition": "auto",
         "type": "bar",
         "uid": "408ffb76-c5cb-4f13-95e5-85e35f51e4d7",
         "x": [
          "Uncertainty"
         ],
         "xaxis": "x",
         "y": [
          0.008653081391375012
         ],
         "yaxis": "y"
        },
        {
         "alignmentgroup": "True",
         "hoverlabel": {
          "namelength": 0
         },
         "hovertemplate": "Variable=LOB<br>Factor=%{x}<br>Impact=%{y}",
         "legendgroup": "Variable=LOB",
         "marker": {
          "color": "#EF553B"
         },
         "name": "Variable=LOB",
         "offsetgroup": "Variable=LOB",
         "orientation": "v",
         "showlegend": true,
         "textposition": "auto",
         "type": "bar",
         "uid": "320ea1b8-913f-4ee9-84ea-45778e5c9810",
         "x": [
          "Uncertainty"
         ],
         "xaxis": "x",
         "y": [
          0.0024850749303249988
         ],
         "yaxis": "y"
        },
        {
         "alignmentgroup": "True",
         "hoverlabel": {
          "namelength": 0
         },
         "hovertemplate": "Variable=Site<br>Factor=%{x}<br>Impact=%{y}",
         "legendgroup": "Variable=Site",
         "marker": {
          "color": "#00cc96"
         },
         "name": "Variable=Site",
         "offsetgroup": "Variable=Site",
         "orientation": "v",
         "showlegend": true,
         "textposition": "auto",
         "type": "bar",
         "uid": "52e7fd5e-42da-4a48-bc87-4d97a4a3aae6",
         "x": [
          "Uncertainty"
         ],
         "xaxis": "x",
         "y": [
          0.050849884673799924
         ],
         "yaxis": "y"
        },
        {
         "alignmentgroup": "True",
         "hoverlabel": {
          "namelength": 0
         },
         "hovertemplate": "Variable=Project Size<br>Factor=%{x}<br>Impact=%{y}",
         "legendgroup": "Variable=Project Size",
         "marker": {
          "color": "#ab63fa"
         },
         "name": "Variable=Project Size",
         "offsetgroup": "Variable=Project Size",
         "orientation": "v",
         "showlegend": true,
         "textposition": "auto",
         "type": "bar",
         "uid": "7c650f5b-b55c-4b80-b2e0-fe580698de95",
         "x": [
          "Uncertainty"
         ],
         "xaxis": "x",
         "y": [
          0.06434513214359996
         ],
         "yaxis": "y"
        },
        {
         "alignmentgroup": "True",
         "hoverlabel": {
          "namelength": 0
         },
         "hovertemplate": "Variable=Contractor<br>Factor=%{x}<br>Impact=%{y}",
         "legendgroup": "Variable=Contractor",
         "marker": {
          "color": "#FFA15A"
         },
         "name": "Variable=Contractor",
         "offsetgroup": "Variable=Contractor",
         "orientation": "v",
         "showlegend": true,
         "textposition": "auto",
         "type": "bar",
         "uid": "1d34c8f8-9f98-41d7-81d8-10bc7b134e64",
         "x": [
          "Uncertainty"
         ],
         "xaxis": "x",
         "y": [
          0.042223610052300145
         ],
         "yaxis": "y"
        },
        {
         "alignmentgroup": "True",
         "hoverlabel": {
          "namelength": 0
         },
         "hovertemplate": "Variable=Social<br>Factor=%{x}<br>Impact=%{y}",
         "legendgroup": "Variable=Social",
         "marker": {
          "color": "#19d3f3"
         },
         "name": "Variable=Social",
         "offsetgroup": "Variable=Social",
         "orientation": "v",
         "showlegend": true,
         "textposition": "auto",
         "type": "bar",
         "uid": "8138ea03-7132-498c-a661-537ec9719637",
         "x": [
          "Risk"
         ],
         "xaxis": "x",
         "y": [
          0.06018079578300002
         ],
         "yaxis": "y"
        },
        {
         "alignmentgroup": "True",
         "hoverlabel": {
          "namelength": 0
         },
         "hovertemplate": "Variable=Procurement<br>Factor=%{x}<br>Impact=%{y}",
         "legendgroup": "Variable=Procurement",
         "marker": {
          "color": "#FF6692"
         },
         "name": "Variable=Procurement",
         "offsetgroup": "Variable=Procurement",
         "orientation": "v",
         "showlegend": true,
         "textposition": "auto",
         "type": "bar",
         "uid": "11d46085-c6bd-43a3-9b5b-f72435ff89f0",
         "x": [
          "Risk"
         ],
         "xaxis": "x",
         "y": [
          0.020847653763125005
         ],
         "yaxis": "y"
        },
        {
         "alignmentgroup": "True",
         "hoverlabel": {
          "namelength": 0
         },
         "hovertemplate": "Variable=Engineering<br>Factor=%{x}<br>Impact=%{y}",
         "legendgroup": "Variable=Engineering",
         "marker": {
          "color": "#B6E880"
         },
         "name": "Variable=Engineering",
         "offsetgroup": "Variable=Engineering",
         "orientation": "v",
         "showlegend": true,
         "textposition": "auto",
         "type": "bar",
         "uid": "64f324a2-18f8-42c7-aa0b-43634958f6c6",
         "x": [
          "Risk"
         ],
         "xaxis": "x",
         "y": [
          0.02187113600749998
         ],
         "yaxis": "y"
        },
        {
         "alignmentgroup": "True",
         "hoverlabel": {
          "namelength": 0
         },
         "hovertemplate": "Variable=Weather<br>Factor=%{x}<br>Impact=%{y}",
         "legendgroup": "Variable=Weather",
         "marker": {
          "color": "#FF97FF"
         },
         "name": "Variable=Weather",
         "offsetgroup": "Variable=Weather",
         "orientation": "v",
         "showlegend": true,
         "textposition": "auto",
         "type": "bar",
         "uid": "3bf25c83-84e1-4077-9435-bfb06925257d",
         "x": [
          "Risk"
         ],
         "xaxis": "x",
         "y": [
          0.04945040077770011
         ],
         "yaxis": "y"
        },
        {
         "alignmentgroup": "True",
         "hoverlabel": {
          "namelength": 0
         },
         "hovertemplate": "Variable=Management<br>Factor=%{x}<br>Impact=%{y}",
         "legendgroup": "Variable=Management",
         "marker": {
          "color": "#FECB52"
         },
         "name": "Variable=Management",
         "offsetgroup": "Variable=Management",
         "orientation": "v",
         "showlegend": true,
         "textposition": "auto",
         "type": "bar",
         "uid": "6e6e71b9-9838-4a86-89de-7e9a48e10864",
         "x": [
          "Risk"
         ],
         "xaxis": "x",
         "y": [
          0.016138351174000032
         ],
         "yaxis": "y"
        }
       ],
       "_js2py_pointsCallback": {},
       "_js2py_restyle": {},
       "_js2py_update": {},
       "_last_layout_edit_id": 1,
       "_layout": {
        "autosize": true,
        "barmode": "relative",
        "height": 600,
        "legend": {
         "tracegroupgap": 0
        },
        "margin": {
         "t": 60
        },
        "paper_bgcolor": "whitesmoke",
        "template": {
         "data": {
          "bar": [
           {
            "error_x": {
             "color": "#2a3f5f"
            },
            "error_y": {
             "color": "#2a3f5f"
            },
            "marker": {
             "line": {
              "color": "#E5ECF6",
              "width": 0.5
             }
            },
            "type": "bar"
           }
          ],
          "barpolar": [
           {
            "marker": {
             "line": {
              "color": "#E5ECF6",
              "width": 0.5
             }
            },
            "type": "barpolar"
           }
          ],
          "carpet": [
           {
            "aaxis": {
             "endlinecolor": "#2a3f5f",
             "gridcolor": "white",
             "linecolor": "white",
             "minorgridcolor": "white",
             "startlinecolor": "#2a3f5f"
            },
            "baxis": {
             "endlinecolor": "#2a3f5f",
             "gridcolor": "white",
             "linecolor": "white",
             "minorgridcolor": "white",
             "startlinecolor": "#2a3f5f"
            },
            "type": "carpet"
           }
          ],
          "choropleth": [
           {
            "colorbar": {
             "outlinewidth": 0,
             "ticks": ""
            },
            "type": "choropleth"
           }
          ],
          "contour": [
           {
            "colorbar": {
             "outlinewidth": 0,
             "ticks": ""
            },
            "colorscale": [
             [
              0,
              "#0d0887"
             ],
             [
              0.1111111111111111,
              "#46039f"
             ],
             [
              0.2222222222222222,
              "#7201a8"
             ],
             [
              0.3333333333333333,
              "#9c179e"
             ],
             [
              0.4444444444444444,
              "#bd3786"
             ],
             [
              0.5555555555555556,
              "#d8576b"
             ],
             [
              0.6666666666666666,
              "#ed7953"
             ],
             [
              0.7777777777777778,
              "#fb9f3a"
             ],
             [
              0.8888888888888888,
              "#fdca26"
             ],
             [
              1,
              "#f0f921"
             ]
            ],
            "type": "contour"
           }
          ],
          "contourcarpet": [
           {
            "colorbar": {
             "outlinewidth": 0,
             "ticks": ""
            },
            "type": "contourcarpet"
           }
          ],
          "heatmap": [
           {
            "colorbar": {
             "outlinewidth": 0,
             "ticks": ""
            },
            "colorscale": [
             [
              0,
              "#0d0887"
             ],
             [
              0.1111111111111111,
              "#46039f"
             ],
             [
              0.2222222222222222,
              "#7201a8"
             ],
             [
              0.3333333333333333,
              "#9c179e"
             ],
             [
              0.4444444444444444,
              "#bd3786"
             ],
             [
              0.5555555555555556,
              "#d8576b"
             ],
             [
              0.6666666666666666,
              "#ed7953"
             ],
             [
              0.7777777777777778,
              "#fb9f3a"
             ],
             [
              0.8888888888888888,
              "#fdca26"
             ],
             [
              1,
              "#f0f921"
             ]
            ],
            "type": "heatmap"
           }
          ],
          "heatmapgl": [
           {
            "colorbar": {
             "outlinewidth": 0,
             "ticks": ""
            },
            "colorscale": [
             [
              0,
              "#0d0887"
             ],
             [
              0.1111111111111111,
              "#46039f"
             ],
             [
              0.2222222222222222,
              "#7201a8"
             ],
             [
              0.3333333333333333,
              "#9c179e"
             ],
             [
              0.4444444444444444,
              "#bd3786"
             ],
             [
              0.5555555555555556,
              "#d8576b"
             ],
             [
              0.6666666666666666,
              "#ed7953"
             ],
             [
              0.7777777777777778,
              "#fb9f3a"
             ],
             [
              0.8888888888888888,
              "#fdca26"
             ],
             [
              1,
              "#f0f921"
             ]
            ],
            "type": "heatmapgl"
           }
          ],
          "histogram": [
           {
            "marker": {
             "colorbar": {
              "outlinewidth": 0,
              "ticks": ""
             }
            },
            "type": "histogram"
           }
          ],
          "histogram2d": [
           {
            "colorbar": {
             "outlinewidth": 0,
             "ticks": ""
            },
            "colorscale": [
             [
              0,
              "#0d0887"
             ],
             [
              0.1111111111111111,
              "#46039f"
             ],
             [
              0.2222222222222222,
              "#7201a8"
             ],
             [
              0.3333333333333333,
              "#9c179e"
             ],
             [
              0.4444444444444444,
              "#bd3786"
             ],
             [
              0.5555555555555556,
              "#d8576b"
             ],
             [
              0.6666666666666666,
              "#ed7953"
             ],
             [
              0.7777777777777778,
              "#fb9f3a"
             ],
             [
              0.8888888888888888,
              "#fdca26"
             ],
             [
              1,
              "#f0f921"
             ]
            ],
            "type": "histogram2d"
           }
          ],
          "histogram2dcontour": [
           {
            "colorbar": {
             "outlinewidth": 0,
             "ticks": ""
            },
            "colorscale": [
             [
              0,
              "#0d0887"
             ],
             [
              0.1111111111111111,
              "#46039f"
             ],
             [
              0.2222222222222222,
              "#7201a8"
             ],
             [
              0.3333333333333333,
              "#9c179e"
             ],
             [
              0.4444444444444444,
              "#bd3786"
             ],
             [
              0.5555555555555556,
              "#d8576b"
             ],
             [
              0.6666666666666666,
              "#ed7953"
             ],
             [
              0.7777777777777778,
              "#fb9f3a"
             ],
             [
              0.8888888888888888,
              "#fdca26"
             ],
             [
              1,
              "#f0f921"
             ]
            ],
            "type": "histogram2dcontour"
           }
          ],
          "mesh3d": [
           {
            "colorbar": {
             "outlinewidth": 0,
             "ticks": ""
            },
            "type": "mesh3d"
           }
          ],
          "parcoords": [
           {
            "line": {
             "colorbar": {
              "outlinewidth": 0,
              "ticks": ""
             }
            },
            "type": "parcoords"
           }
          ],
          "pie": [
           {
            "automargin": true,
            "type": "pie"
           }
          ],
          "scatter": [
           {
            "marker": {
             "colorbar": {
              "outlinewidth": 0,
              "ticks": ""
             }
            },
            "type": "scatter"
           }
          ],
          "scatter3d": [
           {
            "line": {
             "colorbar": {
              "outlinewidth": 0,
              "ticks": ""
             }
            },
            "marker": {
             "colorbar": {
              "outlinewidth": 0,
              "ticks": ""
             }
            },
            "type": "scatter3d"
           }
          ],
          "scattercarpet": [
           {
            "marker": {
             "colorbar": {
              "outlinewidth": 0,
              "ticks": ""
             }
            },
            "type": "scattercarpet"
           }
          ],
          "scattergeo": [
           {
            "marker": {
             "colorbar": {
              "outlinewidth": 0,
              "ticks": ""
             }
            },
            "type": "scattergeo"
           }
          ],
          "scattergl": [
           {
            "marker": {
             "colorbar": {
              "outlinewidth": 0,
              "ticks": ""
             }
            },
            "type": "scattergl"
           }
          ],
          "scattermapbox": [
           {
            "marker": {
             "colorbar": {
              "outlinewidth": 0,
              "ticks": ""
             }
            },
            "type": "scattermapbox"
           }
          ],
          "scatterpolar": [
           {
            "marker": {
             "colorbar": {
              "outlinewidth": 0,
              "ticks": ""
             }
            },
            "type": "scatterpolar"
           }
          ],
          "scatterpolargl": [
           {
            "marker": {
             "colorbar": {
              "outlinewidth": 0,
              "ticks": ""
             }
            },
            "type": "scatterpolargl"
           }
          ],
          "scatterternary": [
           {
            "marker": {
             "colorbar": {
              "outlinewidth": 0,
              "ticks": ""
             }
            },
            "type": "scatterternary"
           }
          ],
          "surface": [
           {
            "colorbar": {
             "outlinewidth": 0,
             "ticks": ""
            },
            "colorscale": [
             [
              0,
              "#0d0887"
             ],
             [
              0.1111111111111111,
              "#46039f"
             ],
             [
              0.2222222222222222,
              "#7201a8"
             ],
             [
              0.3333333333333333,
              "#9c179e"
             ],
             [
              0.4444444444444444,
              "#bd3786"
             ],
             [
              0.5555555555555556,
              "#d8576b"
             ],
             [
              0.6666666666666666,
              "#ed7953"
             ],
             [
              0.7777777777777778,
              "#fb9f3a"
             ],
             [
              0.8888888888888888,
              "#fdca26"
             ],
             [
              1,
              "#f0f921"
             ]
            ],
            "type": "surface"
           }
          ],
          "table": [
           {
            "cells": {
             "fill": {
              "color": "#EBF0F8"
             },
             "line": {
              "color": "white"
             }
            },
            "header": {
             "fill": {
              "color": "#C8D4E3"
             },
             "line": {
              "color": "white"
             }
            },
            "type": "table"
           }
          ]
         },
         "layout": {
          "annotationdefaults": {
           "arrowcolor": "#2a3f5f",
           "arrowhead": 0,
           "arrowwidth": 1
          },
          "coloraxis": {
           "colorbar": {
            "outlinewidth": 0,
            "ticks": ""
           }
          },
          "colorscale": {
           "diverging": [
            [
             0,
             "#8e0152"
            ],
            [
             0.1,
             "#c51b7d"
            ],
            [
             0.2,
             "#de77ae"
            ],
            [
             0.3,
             "#f1b6da"
            ],
            [
             0.4,
             "#fde0ef"
            ],
            [
             0.5,
             "#f7f7f7"
            ],
            [
             0.6,
             "#e6f5d0"
            ],
            [
             0.7,
             "#b8e186"
            ],
            [
             0.8,
             "#7fbc41"
            ],
            [
             0.9,
             "#4d9221"
            ],
            [
             1,
             "#276419"
            ]
           ],
           "sequential": [
            [
             0,
             "#0d0887"
            ],
            [
             0.1111111111111111,
             "#46039f"
            ],
            [
             0.2222222222222222,
             "#7201a8"
            ],
            [
             0.3333333333333333,
             "#9c179e"
            ],
            [
             0.4444444444444444,
             "#bd3786"
            ],
            [
             0.5555555555555556,
             "#d8576b"
            ],
            [
             0.6666666666666666,
             "#ed7953"
            ],
            [
             0.7777777777777778,
             "#fb9f3a"
            ],
            [
             0.8888888888888888,
             "#fdca26"
            ],
            [
             1,
             "#f0f921"
            ]
           ],
           "sequentialminus": [
            [
             0,
             "#0d0887"
            ],
            [
             0.1111111111111111,
             "#46039f"
            ],
            [
             0.2222222222222222,
             "#7201a8"
            ],
            [
             0.3333333333333333,
             "#9c179e"
            ],
            [
             0.4444444444444444,
             "#bd3786"
            ],
            [
             0.5555555555555556,
             "#d8576b"
            ],
            [
             0.6666666666666666,
             "#ed7953"
            ],
            [
             0.7777777777777778,
             "#fb9f3a"
            ],
            [
             0.8888888888888888,
             "#fdca26"
            ],
            [
             1,
             "#f0f921"
            ]
           ]
          },
          "colorway": [
           "#636efa",
           "#EF553B",
           "#00cc96",
           "#ab63fa",
           "#FFA15A",
           "#19d3f3",
           "#FF6692",
           "#B6E880",
           "#FF97FF",
           "#FECB52"
          ],
          "font": {
           "color": "#2a3f5f"
          },
          "geo": {
           "bgcolor": "white",
           "lakecolor": "white",
           "landcolor": "#E5ECF6",
           "showlakes": true,
           "showland": true,
           "subunitcolor": "white"
          },
          "hoverlabel": {
           "align": "left"
          },
          "hovermode": "closest",
          "mapbox": {
           "style": "light"
          },
          "paper_bgcolor": "white",
          "plot_bgcolor": "#E5ECF6",
          "polar": {
           "angularaxis": {
            "gridcolor": "white",
            "linecolor": "white",
            "ticks": ""
           },
           "bgcolor": "#E5ECF6",
           "radialaxis": {
            "gridcolor": "white",
            "linecolor": "white",
            "ticks": ""
           }
          },
          "scene": {
           "xaxis": {
            "backgroundcolor": "#E5ECF6",
            "gridcolor": "white",
            "gridwidth": 2,
            "linecolor": "white",
            "showbackground": true,
            "ticks": "",
            "zerolinecolor": "white"
           },
           "yaxis": {
            "backgroundcolor": "#E5ECF6",
            "gridcolor": "white",
            "gridwidth": 2,
            "linecolor": "white",
            "showbackground": true,
            "ticks": "",
            "zerolinecolor": "white"
           },
           "zaxis": {
            "backgroundcolor": "#E5ECF6",
            "gridcolor": "white",
            "gridwidth": 2,
            "linecolor": "white",
            "showbackground": true,
            "ticks": "",
            "zerolinecolor": "white"
           }
          },
          "shapedefaults": {
           "line": {
            "color": "#2a3f5f"
           }
          },
          "ternary": {
           "aaxis": {
            "gridcolor": "white",
            "linecolor": "white",
            "ticks": ""
           },
           "baxis": {
            "gridcolor": "white",
            "linecolor": "white",
            "ticks": ""
           },
           "bgcolor": "#E5ECF6",
           "caxis": {
            "gridcolor": "white",
            "linecolor": "white",
            "ticks": ""
           }
          },
          "title": {
           "x": 0.05
          },
          "xaxis": {
           "automargin": true,
           "gridcolor": "white",
           "linecolor": "white",
           "ticks": "",
           "title": {
            "standoff": 15
           },
           "zerolinecolor": "white",
           "zerolinewidth": 2
          },
          "yaxis": {
           "automargin": true,
           "gridcolor": "white",
           "linecolor": "white",
           "ticks": "",
           "title": {
            "standoff": 15
           },
           "zerolinecolor": "white",
           "zerolinewidth": 2
          }
         }
        },
        "title": {
         "text": "General uncertainty and risk's composition"
        },
        "xaxis": {
         "anchor": "y",
         "domain": [
          0,
          1
         ],
         "title": {
          "text": "Factor"
         }
        },
        "yaxis": {
         "anchor": "x",
         "domain": [
          0,
          1
         ],
         "tickformat": ".1%",
         "title": {
          "text": "Impact"
         }
        }
       },
       "_py2js_addTraces": {},
       "_py2js_animate": {},
       "_py2js_deleteTraces": {},
       "_py2js_moveTraces": {},
       "_py2js_removeLayoutProps": {},
       "_py2js_removeTraceProps": {},
       "_py2js_restyle": {},
       "_py2js_update": {},
       "_view_count": 1
      }
     },
     "cf5330cc498a467f8556ab51792b3c21": {
      "model_module": "@jupyter-widgets/controls",
      "model_module_version": "1.5.0",
      "model_name": "VBoxModel",
      "state": {
       "children": [
        "IPY_MODEL_dc2a0594018a49019aa4369b136db27a",
        "IPY_MODEL_165f71598b394a36be324fd4e01011c3",
        "IPY_MODEL_61f01ed1f7f64bf7a18a494f40114768",
        "IPY_MODEL_007713142986462cb3db75ef33ec8f87"
       ],
       "layout": "IPY_MODEL_7953d77448c44d329556880843b3ccab"
      }
     },
     "d21e01345707442d9b291b1df09c69be": {
      "model_module": "@jupyter-widgets/base",
      "model_module_version": "1.2.0",
      "model_name": "LayoutModel",
      "state": {}
     },
     "d458b8821aee440bb9d4cd8ceb2a5337": {
      "model_module": "@jupyter-widgets/controls",
      "model_module_version": "1.5.0",
      "model_name": "DropdownModel",
      "state": {
       "_options_labels": [
        "ALL",
        "Medium",
        "Small",
        "Large"
       ],
       "description": "Contractor size",
       "index": 0,
       "layout": "IPY_MODEL_a87b59a84b4944dcbfeab3c2d5396854",
       "style": "IPY_MODEL_95dd6c6844744817a37b2b32616683fc"
      }
     },
     "da2efb339c25416b9cc87dcbb5c8a0e7": {
      "model_module": "@jupyter-widgets/base",
      "model_module_version": "1.2.0",
      "model_name": "LayoutModel",
      "state": {}
     },
     "db9a8d2868e546d3950959110b2e7d6f": {
      "model_module": "@jupyter-widgets/controls",
      "model_module_version": "1.5.0",
      "model_name": "DropdownModel",
      "state": {
       "_options_labels": [
        "ALL",
        "Peru",
        "Chile",
        "Argentina"
       ],
       "description": "Country",
       "index": 0,
       "layout": "IPY_MODEL_a30ee3c76668455bb58bced64ba4883e",
       "style": "IPY_MODEL_f6afad76e96d419b9c503a6ec5130051"
      }
     },
     "dc2a0594018a49019aa4369b136db27a": {
      "model_module": "@jupyter-widgets/controls",
      "model_module_version": "1.5.0",
      "model_name": "HBoxModel",
      "state": {
       "children": [
        "IPY_MODEL_db9a8d2868e546d3950959110b2e7d6f",
        "IPY_MODEL_a1e49389e82741f0a830de18163a05d4"
       ],
       "layout": "IPY_MODEL_5c71270245174ff29426f40e6461a5fc"
      }
     },
     "def13a871fc14e558047450b621bb343": {
      "model_module": "@jupyter-widgets/controls",
      "model_module_version": "1.5.0",
      "model_name": "VBoxModel",
      "state": {
       "children": [
        "IPY_MODEL_8958861c4cab41839f883e783ba7eed9"
       ],
       "layout": "IPY_MODEL_45b164a978214f2888ab2bbf56e59ec5"
      }
     },
     "e05b1c1168834422a800a7fe137b29ef": {
      "model_module": "@jupyter-widgets/controls",
      "model_module_version": "1.5.0",
      "model_name": "DescriptionStyleModel",
      "state": {
       "description_width": ""
      }
     },
     "e13d720bbf43424bb11e1e2160d392ce": {
      "model_module": "@jupyter-widgets/controls",
      "model_module_version": "1.5.0",
      "model_name": "VBoxModel",
      "state": {
       "children": [
        "IPY_MODEL_ea63ca72be97424caf4e5dcf9d09d304"
       ],
       "layout": "IPY_MODEL_da2efb339c25416b9cc87dcbb5c8a0e7"
      }
     },
     "e194627d20fa419db51260a6631625a7": {
      "model_module": "@jupyter-widgets/controls",
      "model_module_version": "1.5.0",
      "model_name": "VBoxModel",
      "state": {
       "children": [
        "IPY_MODEL_e13d720bbf43424bb11e1e2160d392ce",
        "IPY_MODEL_4c0d9159472641ab9141318319bcd32a"
       ],
       "layout": "IPY_MODEL_8ff24aef6a4e4e31aa333d801f5af031"
      }
     },
     "ea63ca72be97424caf4e5dcf9d09d304": {
      "buffers": [
       {
        "data": "K10GC0M+2j9egaF0DSbdP59Igx33NN4/47grcoo50z/fRNYVkZPTPzrUpTW8b9w/LltBjD3/2D/hzjkDGV3cP7iA84kMsN8/ibsmFouO1T905bb0nVzbP0l62fVZRck/kRE+/kxp1j8FpcsPGgndP6hALr1yJ9Y/V8M+NAWo2D98VLcLsSDZPxVARZZLcd4/3/YRs+8O3j/ZzrB+VzfZP0JSL+sKJdQ/odBu0SIr2z8IkoGA2EnhP38mB1sIbN8/2dsASHqMwz+7jgvjezrePwYGoaA69Nw/HLo+Sw4a2T+ARFr97T/dP+IFDPCvrtY/CYP9mlbR1T8p1pzIO8PSPwhc9KFNNuE/vyQ6cHNP2D9JlZMWT5nSP2UWuHSA69k/1Fk1IRDc1z/7Tx38253ZP+9CcOW3a9E/WfDsPDta4D9QbNrM7tfcP77k2qvqwN4/9kVHFIiO0j+YY6ePKIPfPzJg7GRAO+M/yZFAFrEu2D8McpuZLj7eP+8oM30tCuA/XPmAzhHK0D92K2qBVALTP3oz0qG/79U/",
        "encoding": "base64",
        "path": [
         "_data",
         0,
         "x",
         "value"
        ]
       }
      ],
      "model_module": "plotlywidget",
      "model_module_version": "^1.3.0",
      "model_name": "FigureModel",
      "state": {
       "_config": {
        "plotlyServerURL": "https://plotly.com"
       },
       "_data": [
        {
         "name": "Total deviation",
         "opacity": 0.7,
         "type": "histogram",
         "uid": "35822ca7-a7f2-4ab1-a940-e27d693835e9",
         "x": {
          "dtype": "float64",
          "shape": [
           51
          ],
          "value": {}
         },
         "xbins": {
          "size": 0.01
         }
        }
       ],
       "_js2py_pointsCallback": {},
       "_js2py_restyle": {},
       "_js2py_update": {},
       "_last_layout_edit_id": 1,
       "_layout": {
        "autosize": true,
        "bargap": 0.01,
        "barmode": "overlay",
        "paper_bgcolor": "whitesmoke",
        "template": {
         "data": {
          "bar": [
           {
            "error_x": {
             "color": "#2a3f5f"
            },
            "error_y": {
             "color": "#2a3f5f"
            },
            "marker": {
             "line": {
              "color": "#E5ECF6",
              "width": 0.5
             }
            },
            "type": "bar"
           }
          ],
          "barpolar": [
           {
            "marker": {
             "line": {
              "color": "#E5ECF6",
              "width": 0.5
             }
            },
            "type": "barpolar"
           }
          ],
          "carpet": [
           {
            "aaxis": {
             "endlinecolor": "#2a3f5f",
             "gridcolor": "white",
             "linecolor": "white",
             "minorgridcolor": "white",
             "startlinecolor": "#2a3f5f"
            },
            "baxis": {
             "endlinecolor": "#2a3f5f",
             "gridcolor": "white",
             "linecolor": "white",
             "minorgridcolor": "white",
             "startlinecolor": "#2a3f5f"
            },
            "type": "carpet"
           }
          ],
          "choropleth": [
           {
            "colorbar": {
             "outlinewidth": 0,
             "ticks": ""
            },
            "type": "choropleth"
           }
          ],
          "contour": [
           {
            "colorbar": {
             "outlinewidth": 0,
             "ticks": ""
            },
            "colorscale": [
             [
              0,
              "#0d0887"
             ],
             [
              0.1111111111111111,
              "#46039f"
             ],
             [
              0.2222222222222222,
              "#7201a8"
             ],
             [
              0.3333333333333333,
              "#9c179e"
             ],
             [
              0.4444444444444444,
              "#bd3786"
             ],
             [
              0.5555555555555556,
              "#d8576b"
             ],
             [
              0.6666666666666666,
              "#ed7953"
             ],
             [
              0.7777777777777778,
              "#fb9f3a"
             ],
             [
              0.8888888888888888,
              "#fdca26"
             ],
             [
              1,
              "#f0f921"
             ]
            ],
            "type": "contour"
           }
          ],
          "contourcarpet": [
           {
            "colorbar": {
             "outlinewidth": 0,
             "ticks": ""
            },
            "type": "contourcarpet"
           }
          ],
          "heatmap": [
           {
            "colorbar": {
             "outlinewidth": 0,
             "ticks": ""
            },
            "colorscale": [
             [
              0,
              "#0d0887"
             ],
             [
              0.1111111111111111,
              "#46039f"
             ],
             [
              0.2222222222222222,
              "#7201a8"
             ],
             [
              0.3333333333333333,
              "#9c179e"
             ],
             [
              0.4444444444444444,
              "#bd3786"
             ],
             [
              0.5555555555555556,
              "#d8576b"
             ],
             [
              0.6666666666666666,
              "#ed7953"
             ],
             [
              0.7777777777777778,
              "#fb9f3a"
             ],
             [
              0.8888888888888888,
              "#fdca26"
             ],
             [
              1,
              "#f0f921"
             ]
            ],
            "type": "heatmap"
           }
          ],
          "heatmapgl": [
           {
            "colorbar": {
             "outlinewidth": 0,
             "ticks": ""
            },
            "colorscale": [
             [
              0,
              "#0d0887"
             ],
             [
              0.1111111111111111,
              "#46039f"
             ],
             [
              0.2222222222222222,
              "#7201a8"
             ],
             [
              0.3333333333333333,
              "#9c179e"
             ],
             [
              0.4444444444444444,
              "#bd3786"
             ],
             [
              0.5555555555555556,
              "#d8576b"
             ],
             [
              0.6666666666666666,
              "#ed7953"
             ],
             [
              0.7777777777777778,
              "#fb9f3a"
             ],
             [
              0.8888888888888888,
              "#fdca26"
             ],
             [
              1,
              "#f0f921"
             ]
            ],
            "type": "heatmapgl"
           }
          ],
          "histogram": [
           {
            "marker": {
             "colorbar": {
              "outlinewidth": 0,
              "ticks": ""
             }
            },
            "type": "histogram"
           }
          ],
          "histogram2d": [
           {
            "colorbar": {
             "outlinewidth": 0,
             "ticks": ""
            },
            "colorscale": [
             [
              0,
              "#0d0887"
             ],
             [
              0.1111111111111111,
              "#46039f"
             ],
             [
              0.2222222222222222,
              "#7201a8"
             ],
             [
              0.3333333333333333,
              "#9c179e"
             ],
             [
              0.4444444444444444,
              "#bd3786"
             ],
             [
              0.5555555555555556,
              "#d8576b"
             ],
             [
              0.6666666666666666,
              "#ed7953"
             ],
             [
              0.7777777777777778,
              "#fb9f3a"
             ],
             [
              0.8888888888888888,
              "#fdca26"
             ],
             [
              1,
              "#f0f921"
             ]
            ],
            "type": "histogram2d"
           }
          ],
          "histogram2dcontour": [
           {
            "colorbar": {
             "outlinewidth": 0,
             "ticks": ""
            },
            "colorscale": [
             [
              0,
              "#0d0887"
             ],
             [
              0.1111111111111111,
              "#46039f"
             ],
             [
              0.2222222222222222,
              "#7201a8"
             ],
             [
              0.3333333333333333,
              "#9c179e"
             ],
             [
              0.4444444444444444,
              "#bd3786"
             ],
             [
              0.5555555555555556,
              "#d8576b"
             ],
             [
              0.6666666666666666,
              "#ed7953"
             ],
             [
              0.7777777777777778,
              "#fb9f3a"
             ],
             [
              0.8888888888888888,
              "#fdca26"
             ],
             [
              1,
              "#f0f921"
             ]
            ],
            "type": "histogram2dcontour"
           }
          ],
          "mesh3d": [
           {
            "colorbar": {
             "outlinewidth": 0,
             "ticks": ""
            },
            "type": "mesh3d"
           }
          ],
          "parcoords": [
           {
            "line": {
             "colorbar": {
              "outlinewidth": 0,
              "ticks": ""
             }
            },
            "type": "parcoords"
           }
          ],
          "pie": [
           {
            "automargin": true,
            "type": "pie"
           }
          ],
          "scatter": [
           {
            "marker": {
             "colorbar": {
              "outlinewidth": 0,
              "ticks": ""
             }
            },
            "type": "scatter"
           }
          ],
          "scatter3d": [
           {
            "line": {
             "colorbar": {
              "outlinewidth": 0,
              "ticks": ""
             }
            },
            "marker": {
             "colorbar": {
              "outlinewidth": 0,
              "ticks": ""
             }
            },
            "type": "scatter3d"
           }
          ],
          "scattercarpet": [
           {
            "marker": {
             "colorbar": {
              "outlinewidth": 0,
              "ticks": ""
             }
            },
            "type": "scattercarpet"
           }
          ],
          "scattergeo": [
           {
            "marker": {
             "colorbar": {
              "outlinewidth": 0,
              "ticks": ""
             }
            },
            "type": "scattergeo"
           }
          ],
          "scattergl": [
           {
            "marker": {
             "colorbar": {
              "outlinewidth": 0,
              "ticks": ""
             }
            },
            "type": "scattergl"
           }
          ],
          "scattermapbox": [
           {
            "marker": {
             "colorbar": {
              "outlinewidth": 0,
              "ticks": ""
             }
            },
            "type": "scattermapbox"
           }
          ],
          "scatterpolar": [
           {
            "marker": {
             "colorbar": {
              "outlinewidth": 0,
              "ticks": ""
             }
            },
            "type": "scatterpolar"
           }
          ],
          "scatterpolargl": [
           {
            "marker": {
             "colorbar": {
              "outlinewidth": 0,
              "ticks": ""
             }
            },
            "type": "scatterpolargl"
           }
          ],
          "scatterternary": [
           {
            "marker": {
             "colorbar": {
              "outlinewidth": 0,
              "ticks": ""
             }
            },
            "type": "scatterternary"
           }
          ],
          "surface": [
           {
            "colorbar": {
             "outlinewidth": 0,
             "ticks": ""
            },
            "colorscale": [
             [
              0,
              "#0d0887"
             ],
             [
              0.1111111111111111,
              "#46039f"
             ],
             [
              0.2222222222222222,
              "#7201a8"
             ],
             [
              0.3333333333333333,
              "#9c179e"
             ],
             [
              0.4444444444444444,
              "#bd3786"
             ],
             [
              0.5555555555555556,
              "#d8576b"
             ],
             [
              0.6666666666666666,
              "#ed7953"
             ],
             [
              0.7777777777777778,
              "#fb9f3a"
             ],
             [
              0.8888888888888888,
              "#fdca26"
             ],
             [
              1,
              "#f0f921"
             ]
            ],
            "type": "surface"
           }
          ],
          "table": [
           {
            "cells": {
             "fill": {
              "color": "#EBF0F8"
             },
             "line": {
              "color": "white"
             }
            },
            "header": {
             "fill": {
              "color": "#C8D4E3"
             },
             "line": {
              "color": "white"
             }
            },
            "type": "table"
           }
          ]
         },
         "layout": {
          "annotationdefaults": {
           "arrowcolor": "#2a3f5f",
           "arrowhead": 0,
           "arrowwidth": 1
          },
          "coloraxis": {
           "colorbar": {
            "outlinewidth": 0,
            "ticks": ""
           }
          },
          "colorscale": {
           "diverging": [
            [
             0,
             "#8e0152"
            ],
            [
             0.1,
             "#c51b7d"
            ],
            [
             0.2,
             "#de77ae"
            ],
            [
             0.3,
             "#f1b6da"
            ],
            [
             0.4,
             "#fde0ef"
            ],
            [
             0.5,
             "#f7f7f7"
            ],
            [
             0.6,
             "#e6f5d0"
            ],
            [
             0.7,
             "#b8e186"
            ],
            [
             0.8,
             "#7fbc41"
            ],
            [
             0.9,
             "#4d9221"
            ],
            [
             1,
             "#276419"
            ]
           ],
           "sequential": [
            [
             0,
             "#0d0887"
            ],
            [
             0.1111111111111111,
             "#46039f"
            ],
            [
             0.2222222222222222,
             "#7201a8"
            ],
            [
             0.3333333333333333,
             "#9c179e"
            ],
            [
             0.4444444444444444,
             "#bd3786"
            ],
            [
             0.5555555555555556,
             "#d8576b"
            ],
            [
             0.6666666666666666,
             "#ed7953"
            ],
            [
             0.7777777777777778,
             "#fb9f3a"
            ],
            [
             0.8888888888888888,
             "#fdca26"
            ],
            [
             1,
             "#f0f921"
            ]
           ],
           "sequentialminus": [
            [
             0,
             "#0d0887"
            ],
            [
             0.1111111111111111,
             "#46039f"
            ],
            [
             0.2222222222222222,
             "#7201a8"
            ],
            [
             0.3333333333333333,
             "#9c179e"
            ],
            [
             0.4444444444444444,
             "#bd3786"
            ],
            [
             0.5555555555555556,
             "#d8576b"
            ],
            [
             0.6666666666666666,
             "#ed7953"
            ],
            [
             0.7777777777777778,
             "#fb9f3a"
            ],
            [
             0.8888888888888888,
             "#fdca26"
            ],
            [
             1,
             "#f0f921"
            ]
           ]
          },
          "colorway": [
           "#636efa",
           "#EF553B",
           "#00cc96",
           "#ab63fa",
           "#FFA15A",
           "#19d3f3",
           "#FF6692",
           "#B6E880",
           "#FF97FF",
           "#FECB52"
          ],
          "font": {
           "color": "#2a3f5f"
          },
          "geo": {
           "bgcolor": "white",
           "lakecolor": "white",
           "landcolor": "#E5ECF6",
           "showlakes": true,
           "showland": true,
           "subunitcolor": "white"
          },
          "hoverlabel": {
           "align": "left"
          },
          "hovermode": "closest",
          "mapbox": {
           "style": "light"
          },
          "paper_bgcolor": "white",
          "plot_bgcolor": "#E5ECF6",
          "polar": {
           "angularaxis": {
            "gridcolor": "white",
            "linecolor": "white",
            "ticks": ""
           },
           "bgcolor": "#E5ECF6",
           "radialaxis": {
            "gridcolor": "white",
            "linecolor": "white",
            "ticks": ""
           }
          },
          "scene": {
           "xaxis": {
            "backgroundcolor": "#E5ECF6",
            "gridcolor": "white",
            "gridwidth": 2,
            "linecolor": "white",
            "showbackground": true,
            "ticks": "",
            "zerolinecolor": "white"
           },
           "yaxis": {
            "backgroundcolor": "#E5ECF6",
            "gridcolor": "white",
            "gridwidth": 2,
            "linecolor": "white",
            "showbackground": true,
            "ticks": "",
            "zerolinecolor": "white"
           },
           "zaxis": {
            "backgroundcolor": "#E5ECF6",
            "gridcolor": "white",
            "gridwidth": 2,
            "linecolor": "white",
            "showbackground": true,
            "ticks": "",
            "zerolinecolor": "white"
           }
          },
          "shapedefaults": {
           "line": {
            "color": "#2a3f5f"
           }
          },
          "ternary": {
           "aaxis": {
            "gridcolor": "white",
            "linecolor": "white",
            "ticks": ""
           },
           "baxis": {
            "gridcolor": "white",
            "linecolor": "white",
            "ticks": ""
           },
           "bgcolor": "#E5ECF6",
           "caxis": {
            "gridcolor": "white",
            "linecolor": "white",
            "ticks": ""
           }
          },
          "title": {
           "x": 0.05
          },
          "xaxis": {
           "automargin": true,
           "gridcolor": "white",
           "linecolor": "white",
           "ticks": "",
           "title": {
            "standoff": 15
           },
           "zerolinecolor": "white",
           "zerolinewidth": 2
          },
          "yaxis": {
           "automargin": true,
           "gridcolor": "white",
           "linecolor": "white",
           "ticks": "",
           "title": {
            "standoff": 15
           },
           "zerolinecolor": "white",
           "zerolinewidth": 2
          }
         }
        },
        "title": {
         "text": "Deviation distribution"
        },
        "xaxis": {
         "tickformat": ".1%"
        }
       },
       "_py2js_addTraces": {},
       "_py2js_animate": {},
       "_py2js_deleteTraces": {},
       "_py2js_moveTraces": {},
       "_py2js_removeLayoutProps": {},
       "_py2js_removeTraceProps": {},
       "_py2js_restyle": {},
       "_py2js_update": {},
       "_view_count": 1
      }
     },
     "f4357e5b5c09424ababea19d2977b3c8": {
      "model_module": "@jupyter-widgets/base",
      "model_module_version": "1.2.0",
      "model_name": "LayoutModel",
      "state": {}
     },
     "f6afad76e96d419b9c503a6ec5130051": {
      "model_module": "@jupyter-widgets/controls",
      "model_module_version": "1.5.0",
      "model_name": "DescriptionStyleModel",
      "state": {
       "description_width": ""
      }
     }
    },
    "version_major": 2,
    "version_minor": 0
   }
  }
 },
 "nbformat": 4,
 "nbformat_minor": 5
}
