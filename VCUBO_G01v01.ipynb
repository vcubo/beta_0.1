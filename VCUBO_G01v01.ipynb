{
 "cells": [
  {
   "cell_type": "markdown",
   "id": "14036c9f",
   "metadata": {},
   "source": [
    "# vcubo\n",
    "## 1.1 Descriptive analytics (General)\n",
    "\n",
    "#### Import libraries"
   ]
  },
  {
   "cell_type": "code",
   "execution_count": 1,
   "id": "d7080aa4",
   "metadata": {},
   "outputs": [],
   "source": [
    "import numpy as np\n",
    "import pandas as pd\n",
    "import scipy as sp\n",
    "import scipy.stats\n",
    "\n",
    "import plotly.graph_objects as go\n",
    "import plotly.express as px\n",
    "\n",
    "from ipywidgets import widgets, Layout\n"
   ]
  },
  {
   "cell_type": "markdown",
   "id": "67246d3d",
   "metadata": {},
   "source": [
    "#### Import data"
   ]
  },
  {
   "cell_type": "code",
   "execution_count": 2,
   "id": "f384d6c0",
   "metadata": {},
   "outputs": [],
   "source": [
    "df = pd.read_csv('/Users/facu/Desktop/VCUBO/01 STAT MODEL/VCDB_210820v0.csv')"
   ]
  },
  {
   "cell_type": "markdown",
   "id": "4eb4ec37",
   "metadata": {},
   "source": [
    "#### Model and coefficients"
   ]
  },
  {
   "cell_type": "code",
   "execution_count": 3,
   "id": "b0983c3f",
   "metadata": {},
   "outputs": [],
   "source": [
    "# Underlying distriburion\n",
    "df_distrib = pd.DataFrame([['lognormal', 0.1, 0.3, -0.3]], columns = ['type', 'mu', 'sigma', 'shift'])\n",
    "\n",
    "# Coefficient obteined by regression\n",
    "df_coef = pd.DataFrame([[0.25,0.05,0.4,0.3,0.2,0.6,0.35,0.5,0.6,0.8,0.7]], \n",
    "                       columns = ['COUNTRY', 'LOB', 'SITE', 'PSIZE', 'CSIZE','SOC','PROC','ENG', 'WEA', 'MGM','MIT_ef'])\n",
    "\n",
    "# List of variables:\n",
    "df_part_index = ['Country','LOB','Site','Project Size', 'Contractor', \n",
    "                               'Social', 'Procurement', 'Engineering', 'Weather', 'Management']"
   ]
  },
  {
   "cell_type": "code",
   "execution_count": 4,
   "id": "a7a64ad4",
   "metadata": {},
   "outputs": [],
   "source": [
    "# Preliminary model: uncertainty and risk's variables' partial impacts.\n",
    "def partials (df):\n",
    "    df_part = pd.DataFrame([df_coef.iloc[0]['COUNTRY']*(df['COUNTRY_RMEAN']*1),\n",
    "                           df_coef.iloc[0]['LOB']*(df['LOB_RMEAN']),\n",
    "                           df_coef.iloc[0]['SITE']*(df['SITE_RMEAN']),\n",
    "                           df_coef.iloc[0]['PSIZE']*(df['PSIZE_RMEAN']),\n",
    "                           df_coef.iloc[0]['CSIZE']*(df['CSIZE_RMEAN']), \n",
    "                           df_coef.iloc[0]['SOC']*df['SOC_EMEAN']*(df['SOC']-df['SOC_MIT']),\n",
    "                           df_coef.iloc[0]['PROC']*df['PROC_EMEAN']*(df['PROC']-df['PROC_MIT']),\n",
    "                           df_coef.iloc[0]['ENG']*df['ENG_EMEAN']*(df['ENG']-df['ENG_MIT']),\n",
    "                           df_coef.iloc[0]['WEA']*df['WEA_EMEAN']*(df['WEA']-df['WEA_MIT']),\n",
    "                           df_coef.iloc[0]['MGM']*df['MGM_EMEAN']*(df['MGM']-df['MGM_MIT']),\n",
    "                          ], \n",
    "                          index = df_part_index\n",
    "                         ).transpose()\n",
    "\n",
    "    df_part_mean = pd.DataFrame([df_part.mean().transpose().tolist(),\n",
    "                                 df_part_index, ['Uncertainty']*5+['Risk']*5]\n",
    "                                 ).transpose()\n",
    "    df_part_mean.columns=['Impact', 'Variable','Factor']\n",
    "    partial_impact = px.bar(df_part_mean,x='Factor',y='Impact', color = 'Variable', template = \"plotly\")\n",
    "    partial_impact.update_layout({'paper_bgcolor': 'whitesmoke'},yaxis=dict(tickformat=\".1%\"))\n",
    "    \n",
    "    return df_part_mean\n",
    "#partials(df)\n",
    "#[partials(df)['Impact'][i] for i in range(10)]"
   ]
  },
  {
   "cell_type": "markdown",
   "id": "53731a51",
   "metadata": {},
   "source": [
    "#### Statistics"
   ]
  },
  {
   "cell_type": "code",
   "execution_count": 5,
   "id": "44cb9378",
   "metadata": {},
   "outputs": [],
   "source": [
    "#Number of decimals in statistical results.\n",
    "decimals = 3\n",
    "def df_stats(df):\n",
    "    #Number of projects.\n",
    "    num_pro_tot =  len(df)\n",
    "\n",
    "    #List of statistics for DEV_RAN(uncertainty median deviation), DEV_EVE(risks' median deviation) and DEV_TOT (total deviation median)\n",
    "    DEV_mean = [np.round(np.mean(df['DEV_RAN']),decimals), np.round(np.mean(df['DEV_EVE']),decimals), np.round(np.mean(df['DEV_TOT']),decimals)]\n",
    "    DEV_median = [np.round(np.median(df['DEV_RAN']),decimals), np.round(np.median(df['DEV_EVE']),decimals), np.round(np.median(df['DEV_TOT']),decimals)]\n",
    "\n",
    "    DR_factor = (1+DEV_median[0]) #deviation caused by uncertainty\n",
    "    DE_factor = (1+DEV_median[1]) #deviation caused by risk events\n",
    "\n",
    "    #Mean duration deviation (in months) and partial \n",
    "    DUR_delta = np.mean(df['DUR_AC']-df['DUR_BL'])\n",
    "    DUR_delta_comp = [DUR_delta/DE_factor, DUR_delta/DR_factor]\n",
    "    \n",
    "    #Portion of the duration deviation caused by the uncertainty and by the risks\n",
    "    DUR_delta_comp\n",
    "    \n",
    "    return [num_pro_tot, DEV_median]\n",
    "\n"
   ]
  },
  {
   "cell_type": "markdown",
   "id": "e18ec728",
   "metadata": {},
   "source": [
    "#### Interactive widgets"
   ]
  },
  {
   "cell_type": "code",
   "execution_count": 6,
   "id": "a9fd9967",
   "metadata": {},
   "outputs": [],
   "source": [
    "#Options for filters\n",
    "opt_country = ['ALL'] + df['COUNTRY'].unique().tolist()\n",
    "opt_lob = ['ALL'] + df['LOB'].unique().tolist()\n",
    "opt_site = ['ALL'] + df['SITE'].unique().tolist()\n",
    "opt_prsize = ['ALL'] + df['PR_SIZE'].unique().tolist()\n",
    "opt_csize = ['ALL'] + df['MC_SIZE'].unique().tolist()\n",
    "\n",
    "#Widgets:\n",
    "elements_width = '40%'\n",
    "elements_height = '25px'\n",
    "\n",
    "select_country = widgets.Dropdown(\n",
    "    options=opt_country,\n",
    "    value='ALL',\n",
    "    #value=['ARG'],\n",
    "    #rows=len(options),\n",
    "    description='Country',\n",
    "    disabled=False,\n",
    "    layout=Layout(width=elements_width, height=elements_height),\n",
    "    tooltip=\"Filter by Country\"\n",
    ")\n",
    "\n",
    "\n",
    "select_lob = widgets.Dropdown(\n",
    "    options=opt_lob,\n",
    "    value='ALL',\n",
    "    description='LOB',\n",
    "    layout=Layout(width=elements_width, height=elements_height),\n",
    "    disabled=False,\n",
    "    tooltip=\"Filter by Line of Business\"\n",
    ")\n",
    "\n",
    "select_site = widgets.Dropdown(\n",
    "    options=opt_site,\n",
    "    value='ALL',\n",
    "    description='Site',\n",
    "    layout=Layout(width=elements_width, height=elements_height),\n",
    "    disabled=False,\n",
    "    tooltip=\"Filter by site conditions\"\n",
    ")\n",
    "\n",
    "select_prsize = widgets.Dropdown(\n",
    "    options=opt_prsize,\n",
    "    value='ALL',\n",
    "    description='Project size',\n",
    "    layout=Layout(width=elements_width, height=elements_height),\n",
    "    disabled=False,\n",
    "    tooltip=\"Filter by Projects' size\"\n",
    ")\n",
    "\n",
    "select_csize = widgets.Dropdown(\n",
    "    options=opt_csize,\n",
    "    value='ALL',\n",
    "    description='Contractor size',\n",
    "    layout=Layout(width=elements_width, height=elements_height),\n",
    "    disabled=False,\n",
    "    tooltip=\"Filter by Main Contractor's size\"\n",
    ")\n",
    "\n",
    "#select_distrib = widgets.SelectMultiple(\n",
    "#    options=opt_distrib,\n",
    "#    value=['Total'],\n",
    "#    rows=len(opt_distrib),\n",
    "#    description='Distribution',\n",
    "#    disabled=False\n",
    "#)\n",
    "\n",
    "#apply_filter = widgets.Button(\n",
    "#    description='APPLY',\n",
    "#    disabled=False,\n",
    "#    button_style='', # 'success', 'info', 'warning', 'danger' or ''\n",
    "#    tooltip='Apply selected filters',\n",
    "#    icon='check'\n",
    "#)\n",
    "\n",
    "stat_selection = widgets.HTML(\n",
    "    value = \"<h4>Distribution's statistics</h4>\"+\n",
    "    \"Quantity of projects considered = \"+str(df_stats(df)[0])+\".<br>\"+\n",
    "    \"The average (mean) delay (%) of the selected projects is \"+ str(df_stats(df)[1][2])+\".<br>\",\n",
    "    placeholder = '', \n",
    "    description = ''\n",
    ")"
   ]
  },
  {
   "cell_type": "markdown",
   "id": "b5a033f5",
   "metadata": {},
   "source": [
    "#### Traces"
   ]
  },
  {
   "cell_type": "code",
   "execution_count": 7,
   "id": "59a31454",
   "metadata": {},
   "outputs": [
    {
     "data": {
      "text/plain": [
       "Bar({\n",
       "    'x': array(['Uncertainty', 'Uncertainty', 'Uncertainty', 'Uncertainty',\n",
       "                'Uncertainty', 'Risk', 'Risk', 'Risk', 'Risk', 'Risk'], dtype=object),\n",
       "    'y': array([0.008653081391375012, 0.0024850749303249988, 0.050849884673799924,\n",
       "                0.06434513214359996, 0.042223610052300145, 0.06018079578300002,\n",
       "                0.020847653763125005, 0.02187113600749998, 0.04945040077770011,\n",
       "                0.016138351174000032], dtype=object)\n",
       "})"
      ]
     },
     "execution_count": 7,
     "metadata": {},
     "output_type": "execute_result"
    }
   ],
   "source": [
    "hist_xbins_size = 0.01\n",
    "\n",
    "figh1 = go.Histogram(x=df['DEV_TOT'], opacity=0.7, name='Total deviation',xbins={\"size\": hist_xbins_size})\n",
    "figh2 = go.Histogram(x=df['DEV_RAN'], opacity=0.5, name='Uncertainty',xbins={\"size\": hist_xbins_size/2})\n",
    "figh3 = go.Histogram(x=df['DEV_EVE'], opacity=0.5, name='Risk events',xbins={\"size\": hist_xbins_size/2})\n",
    "\n",
    "partial_imp = go.Bar(x=partials(df)['Factor'],y=partials(df)['Impact'])\n",
    "partial_imp\n"
   ]
  },
  {
   "cell_type": "markdown",
   "id": "b6bfa778",
   "metadata": {},
   "source": [
    "#### Figure widget and layout formating"
   ]
  },
  {
   "cell_type": "code",
   "execution_count": 8,
   "id": "a9284481",
   "metadata": {},
   "outputs": [],
   "source": [
    "# Deviation histogram graph\n",
    "g_dev_hist1 = go.FigureWidget(data=[figh1],\n",
    "                              layout=go.Layout(\n",
    "                                  title=dict(text='Deviation distribution'),\n",
    "                                  barmode='overlay',\n",
    "                                  paper_bgcolor='whitesmoke',\n",
    "                                  #plot_bgcolor='slategray'\n",
    "                                  bargap = 0.01,\n",
    "                                  xaxis=dict(tickformat=\".1%\")\n",
    "                              ))\n",
    "g_dev_hist2 = go.FigureWidget(data=[figh2, figh3],\n",
    "                              layout=go.Layout(\n",
    "                                  title=dict(text=\"Uncertainty and risk's impact distribution\"#, x = 0.5\n",
    "                                            ),\n",
    "                                  barmode='overlay',\n",
    "                                  paper_bgcolor='whitesmoke',\n",
    "                                  bargap = 0.01,\n",
    "                                  xaxis=dict(tickformat=\".1%\")\n",
    "                              ))\n",
    "\n",
    "g_dev_bar1 = go.FigureWidget(data=[partial_imp],\n",
    "                              layout=go.Layout(\n",
    "                                  title=dict(text=\"Uncertainty and risk's distribution <br>(selection)\"#, x = 0.5\n",
    "                                            ),\n",
    "                                  barmode='relative',\n",
    "                                  boxmode='group',\n",
    "                                  #colorway=pc.sequential.Viridis,\n",
    "                                  \n",
    "                                  paper_bgcolor='whitesmoke',\n",
    "                                  bargap = 0.5,\n",
    "                                  bargroupgap=0.01,\n",
    "                                  yaxis=dict(tickformat=\".1%\")\n",
    "                              ))\n",
    "#g_dev_bar1"
   ]
  },
  {
   "cell_type": "code",
   "execution_count": 9,
   "id": "f46f8061",
   "metadata": {},
   "outputs": [],
   "source": [
    "dev_comp_bar = px.bar(partials(df),x='Factor',y='Impact', color = 'Variable',)\n",
    "dev_comp_bar.update_layout({'paper_bgcolor': 'whitesmoke'},yaxis=dict(tickformat=\".1%\"), paper_bgcolor='whitesmoke',title=\"General uncertainty and risk's composition\")\n",
    "\n",
    "g_dev_bar2= go.FigureWidget(dev_comp_bar,\n",
    "                           layout=go.Layout(\n",
    "                                  title=dict(text=\"General uncertainty and risk's composition\"#, x = 0.5\n",
    "                                            ),\n",
    "                                  barmode='relative',\n",
    "                                  boxmode='group',\n",
    "                                  #colorway=pc.sequential.Viridis,\n",
    "                                  \n",
    "                                  paper_bgcolor='whitesmoke',\n",
    "                                  bargap = 0.5,\n",
    "                                  bargroupgap=0.01,\n",
    "                                  yaxis=dict(tickformat=\".1%\")\n",
    "                              ))\n",
    "#g_dev_bar2"
   ]
  },
  {
   "cell_type": "markdown",
   "id": "61946ba0",
   "metadata": {},
   "source": [
    "#### Interaction functions"
   ]
  },
  {
   "cell_type": "code",
   "execution_count": 10,
   "id": "fffba73e",
   "metadata": {},
   "outputs": [
    {
     "data": {
      "text/plain": [
       "array([0.008653081391375012, 0.0024850749303249988, 0.050849884673799924,\n",
       "       0.06434513214359996, 0.042223610052300145, 0.06018079578300002,\n",
       "       0.020847653763125005, 0.02187113600749998, 0.04945040077770011,\n",
       "       0.016138351174000032], dtype=object)"
      ]
     },
     "execution_count": 10,
     "metadata": {},
     "output_type": "execute_result"
    }
   ],
   "source": [
    "def response(change):\n",
    "    filter_list = [i and j and k and l and m for i, j, k, l, m in \n",
    "                  zip((df['COUNTRY'] == select_country.value)^(select_country.value== 'ALL'),\n",
    "                      (df['LOB'] == select_lob.value)^(select_lob.value == 'ALL'),\n",
    "                      (df['SITE'] == select_site.value)^(select_site.value == 'ALL'),\n",
    "                      (df['PR_SIZE'] == select_prsize.value)^(select_prsize.value == 'ALL'),\n",
    "                      (df['MC_SIZE'] == select_csize.value)^(select_csize.value == 'ALL'))]\n",
    "    \n",
    "    temp_df = df[filter_list]\n",
    "    x1 = temp_df['DEV_TOT']\n",
    "    x2 = temp_df['DEV_RAN']\n",
    "    x3 = temp_df['DEV_EVE']\n",
    "    y1 = np.asarray(partials(temp_df)['Impact'])\n",
    "    \n",
    "    with g_dev_hist1.batch_update():\n",
    "        g_dev_hist1.data[0].x = x1\n",
    "    with g_dev_hist2.batch_update():\n",
    "        g_dev_hist2.data[0].x = x2\n",
    "        g_dev_hist2.data[1].x = x3\n",
    "    with g_dev_bar1.batch_update():\n",
    "        g_dev_bar1.data[0].y = y1\n",
    "\n",
    "    return temp_df\n",
    "\n",
    "\n",
    "    DEV_median_temp = [np.round(np.median(df['DEV_RAN']),decimals), np.round(np.median(df['DEV_EVE']),decimals), np.round(np.median(df['DEV_TOT']),decimals)]\n",
    "\n",
    "    median1 = np.round(np.median(x1),decimals)\n",
    "    num_pro_temp = len(x1)\n",
    "\n",
    "def selection_stats(change, df):\n",
    "    filter_list = [i and j and k and l and m for i, j, k, l, m in \n",
    "                  zip((df['COUNTRY'] == select_country.value)^(select_country.value== 'ALL'),\n",
    "                      (df['LOB'] == select_lob.value)^(select_lob.value == 'ALL'),\n",
    "                      (df['SITE'] == select_site.value)^(select_site.value == 'ALL'),\n",
    "                      (df['PR_SIZE'] == select_prsize.value)^(select_prsize.value == 'ALL'),\n",
    "                      (df['MC_SIZE'] == select_csize.value)^(select_csize.value == 'ALL'))]\n",
    "    \n",
    "    temp_df = df[filter_list]\n",
    "    x1 = temp_df['DEV_TOT']\n",
    "    x2 = temp_df['DEV_RAN']\n",
    "    x3 = temp_df['DEV_EVE']\n",
    "    \n",
    "    with g_dev_hist1.batch_update():\n",
    "        g_dev_hist1.data[0].x = x1\n",
    "    with g_dev_hist2.batch_update():\n",
    "        g_dev_hist2.data[0].x = x2\n",
    "        g_dev_hist2.data[1].x = x3\n",
    "\n",
    "    return df_stats(temp_df)\n",
    "\n",
    "\n",
    "    #DEV_median_temp = [np.round(np.median(df['DEV_RAN']),decimals), np.round(np.median(df['DEV_EVE']),decimals), np.round(np.median(df['DEV_TOT']),decimals)]\n",
    "\n",
    "    #median1 = np.round(np.median(x1),decimals)\n",
    "    #num_pro_temp = len(x1)\n",
    "\n",
    "#response(1)\n",
    "g_dev_bar1.data[0].y\n",
    "    "
   ]
  },
  {
   "cell_type": "code",
   "execution_count": 11,
   "id": "aed1ab1b",
   "metadata": {},
   "outputs": [
    {
     "data": {
      "text/plain": [
       "array([0.49551687, 0.37588176, 0.33508406, ..., 0.53148924, 0.26625027,\n",
       "       0.6770326 ])"
      ]
     },
     "execution_count": 11,
     "metadata": {},
     "output_type": "execute_result"
    }
   ],
   "source": [
    "g_dev_hist1.data[0].x"
   ]
  },
  {
   "cell_type": "markdown",
   "id": "1c234585",
   "metadata": {},
   "source": [
    "### Results"
   ]
  },
  {
   "cell_type": "code",
   "execution_count": 12,
   "id": "83e8f759",
   "metadata": {},
   "outputs": [],
   "source": [
    "#Instruction to observe and execute filter changes\n",
    "select_country.observe(response, names='value')\n",
    "select_lob.observe(response, names='value')\n",
    "select_site.observe(response, names='value')\n",
    "select_prsize.observe(response, names='value')\n",
    "select_csize.observe(response, names='value')\n",
    "stat_selection.observe(response, names='value')"
   ]
  },
  {
   "cell_type": "code",
   "execution_count": 13,
   "id": "4b2194ea",
   "metadata": {
    "scrolled": false
   },
   "outputs": [
    {
     "data": {
      "application/vnd.jupyter.widget-view+json": {
       "model_id": "1a171a89345c4729a028951bbacebddb",
       "version_major": 2,
       "version_minor": 0
      },
      "text/plain": [
       "VBox(children=(VBox(children=(VBox(children=(VBox(children=(Dropdown(description='Country', layout=Layout(heig…"
      ]
     },
     "metadata": {},
     "output_type": "display_data"
    }
   ],
   "source": [
    "#Layout for the histogram\n",
    "container1 = widgets.VBox([select_country, select_lob, select_site, select_prsize, select_csize])\n",
    "container2 = widgets.VBox([container1, g_dev_hist1])\n",
    "container3 = widgets.HBox([g_dev_bar2, g_dev_bar1])\n",
    "\n",
    "container_main1 = widgets.VBox([container2, g_dev_hist2])\n",
    "container_main2 = widgets.VBox([container_main1, container3])\n",
    "\n",
    "\n",
    "container_main2"
   ]
  },
  {
   "cell_type": "markdown",
   "id": "f3540715",
   "metadata": {},
   "source": [
    "## 1.2 Descriptive analytics (\"My company\")"
   ]
  },
  {
   "cell_type": "code",
   "execution_count": 44,
   "id": "e982d75c",
   "metadata": {},
   "outputs": [],
   "source": [
    "#Layout for the histogram\n",
    "container = widgets.HBox([select_country, select_lob])\n",
    "container2 = widgets.HBox([select_site, select_prsize, select_csize])\n",
    "#container3 = widgets.HBox([response(1), g_dev_hist2])\n",
    "#container4 = widgets.HBox([g_dev_hist2, g_dev_hist4])\n",
    "widgets.VBox([container, container2, g_dev_hist1, g_dev_bar1])\n",
    "\n",
    "df_c1 = df[(df['COUNTRY']=='Argentina')&(df['LOB']=='O&G - Downstream')&(df['MC_SIZE']=='Small')]\n",
    "\n",
    "figh_c1_1 = go.Histogram(x=df_c1['DEV_TOT'], opacity=0.7, name='Total deviation',xbins={\"size\": hist_xbins_size})\n",
    "figh_c1_2 = go.Histogram(x=df_c1['DEV_RAN'], opacity=0.5, name='Uncertainty',xbins={\"size\": hist_xbins_size/2})\n",
    "figh_c1_3 = go.Histogram(x=df_c1['DEV_EVE'], opacity=0.5, name='Risk events',xbins={\"size\": hist_xbins_size/2})\n",
    "\n",
    "dev_comp_c1_bar = px.bar(partials(df_c1),x='Factor',y='Impact', color = 'Variable',)\n",
    "dev_comp_c1_bar.update_layout({'paper_bgcolor': 'whitesmoke'},yaxis=dict(tickformat=\".1%\"), height=130,paper_bgcolor='whitesmoke',title=\"General uncertainty and risk's composition\")\n",
    "\n",
    "g_dev_c1_bar= go.FigureWidget(dev_comp_c1_bar,\n",
    "                           layout=go.Layout(\n",
    "                                  title=dict(text=\"General uncertainty and risk's composition\"#, x = 0.5\n",
    "                                            ),\n",
    "                                  barmode='relative',\n",
    "                                  boxmode='group',\n",
    "                                  #colorway=pc.sequential.Viridis,\n",
    "                                  \n",
    "                                  paper_bgcolor='whitesmoke',\n",
    "                                  bargap = 0.5,\n",
    "                                  bargroupgap=0.01,\n",
    "                                  yaxis=dict(tickformat=\".1%\")\n",
    "                              ))\n",
    "\n",
    "g_dev_c1_hist1 = go.FigureWidget(data=[figh_c1_1],\n",
    "                              layout=go.Layout(\n",
    "                                  title=dict(text='Deviation distribution'),\n",
    "                                  barmode='overlay',\n",
    "                                  paper_bgcolor='whitesmoke',\n",
    "                                  #plot_bgcolor='slategray'\n",
    "                                  bargap = 0.01,\n",
    "                                  xaxis=dict(tickformat=\".1%\")\n",
    "                              ))\n",
    "g_dev_c1_hist2 = go.FigureWidget(data=[figh_c1_2, figh_c1_3],\n",
    "                              layout=go.Layout(\n",
    "                                  title=dict(text=\"Uncertainty and risk's impact distribution\", x = 0.5\n",
    "                                            ),\n",
    "                                  barmode='overlay',\n",
    "                                  paper_bgcolor='whitesmoke',\n",
    "                                  bargap = 0.01,\n",
    "                                  xaxis=dict(tickformat=\".0%\")\n",
    "                              ))\n",
    "\n"
   ]
  },
  {
   "cell_type": "code",
   "execution_count": 49,
   "id": "f2226ed4",
   "metadata": {},
   "outputs": [
    {
     "data": {
      "application/vnd.jupyter.widget-view+json": {
       "model_id": "94189a75701c47548dd229bd64536c9a",
       "version_major": 2,
       "version_minor": 0
      },
      "text/plain": [
       "VBox(children=(VBox(children=(FigureWidget({\n",
       "    'data': [{'name': 'Total deviation',\n",
       "              'opacity':…"
      ]
     },
     "metadata": {},
     "output_type": "display_data"
    }
   ],
   "source": [
    "container21 = widgets.VBox([g_dev_c1_hist1])\n",
    "container22 = widgets.HBox([g_dev_c1_hist2,g_dev_c1_bar])\n",
    "\n",
    "container_main21 = widgets.VBox([container21, container22])\n",
    "\n",
    "container_main21"
   ]
  },
  {
   "cell_type": "markdown",
   "id": "fa019318",
   "metadata": {},
   "source": [
    "## 2. Predictive analytics (on \"my project\")"
   ]
  },
  {
   "cell_type": "markdown",
   "id": "7aaa58dc",
   "metadata": {},
   "source": [
    "#### 2.1 Projec's parameters - Size, contractors, site conditions, etc."
   ]
  },
  {
   "cell_type": "code",
   "execution_count": 22,
   "id": "95473a2b",
   "metadata": {},
   "outputs": [],
   "source": [
    "# Selection and text widgets to characterize the project to evaluate\n",
    "select_prsize_ev = widgets.Dropdown(\n",
    "    options=opt_prsize,\n",
    "    value='ALL',\n",
    "    description='Project size',\n",
    "    layout=Layout(width=elements_width, height=elements_height),\n",
    "    disabled=False,\n",
    "    tooltip=\"Filter by Projects' size\"\n",
    ")\n",
    "\n",
    "median1 = 0.23\n",
    "duration = 24\n",
    "\n",
    "stat_myproject_ev = widgets.HTML(\n",
    "            value = \"<h4>Statistics</h4>\"+\n",
    "            \"Quantity of projects considered = \"+str(2)+\".<br>\"+\n",
    "            \"The distribution based on your project's parameters has a median delay of \"+ str(median1*100)+\"%.<br>\"+\n",
    "            \"The P50 duration according to the analysis is of \"+str(duration*(1+median1))+\".<br>\", \n",
    "            placeholder = '', \n",
    "            description = ''\n",
    "        )\n",
    "\n",
    "container_21 = widgets.HBox([select_prsize_ev]) #incluir los containers que correspondan\n"
   ]
  },
  {
   "cell_type": "markdown",
   "id": "cc77ea60",
   "metadata": {},
   "source": [
    "#### 2.2 Historical delays distribution and statistics according to parameters"
   ]
  },
  {
   "cell_type": "code",
   "execution_count": 17,
   "id": "a261f2ed",
   "metadata": {},
   "outputs": [
    {
     "data": {
      "text/plain": [
       "((0.003993674980380654, -22.04267743678075, 22.442541873266762),\n",
       " 0.5151528235853426)"
      ]
     },
     "execution_count": 17,
     "metadata": {},
     "output_type": "execute_result"
    }
   ],
   "source": [
    "main_param_c1 = sp.stats.lognorm.fit(df_c1['DEV_TOT'])\n",
    "x = np.linspace(0,1,int(1/hist_xbins_size))\n",
    "gen_pdf_c1 = sp.stats.lognorm.pdf(x,main_param_c1[0],main_param_c1[1], main_param_c1[2])\n",
    "gen_cdf_c1 = sp.stats.lognorm.cdf(x,main_param_c1[0],main_param_c1[1], main_param_c1[2])\n",
    "scale = len(df_c1['DEV_TOT'])/(gen_pdf_c1.sum())\n",
    "main_pdf_c1 = (gen_pdf_c1)\n",
    "main_cdf_c1 = (gen_cdf_c1)\n",
    "\n",
    "main_param_c1, scale\n"
   ]
  },
  {
   "cell_type": "code",
   "execution_count": null,
   "id": "716b7338",
   "metadata": {},
   "outputs": [],
   "source": []
  },
  {
   "cell_type": "code",
   "execution_count": 18,
   "id": "9c60db9e",
   "metadata": {},
   "outputs": [
    {
     "data": {
      "application/vnd.jupyter.widget-view+json": {
       "model_id": "41aa769883984078bee5f05ad42f25f4",
       "version_major": 2,
       "version_minor": 0
      },
      "text/plain": [
       "FigureWidget({\n",
       "    'data': [{'name': 'Total deviation',\n",
       "              'opacity': 0.7,\n",
       "              'type': 'h…"
      ]
     },
     "metadata": {},
     "output_type": "display_data"
    }
   ],
   "source": [
    "g_dev_hist4 = go.FigureWidget(data=[figh_c1_1],\n",
    "                              layout=go.Layout(\n",
    "                                  title=dict(text='Deviation distribution and Lognormal fit'),\n",
    "                                  barmode='overlay',\n",
    "                                  paper_bgcolor='whitesmoke',\n",
    "                                  #plot_bgcolor='slategray'\n",
    "                                  bargap = 0.01,\n",
    "                                  xaxis=dict(tickformat=\".1%\")\n",
    "                              ))\n",
    "g_dev_hist4.add_scatter(y = main_pdf_c1, x = x, name = 'Lognormal fit pdf')\n"
   ]
  },
  {
   "cell_type": "markdown",
   "id": "3b340ec2",
   "metadata": {},
   "source": [
    "#### Probability and cummulative distribution functions"
   ]
  },
  {
   "cell_type": "code",
   "execution_count": 19,
   "id": "05fd232e",
   "metadata": {},
   "outputs": [
    {
     "data": {
      "application/vnd.jupyter.widget-view+json": {
       "model_id": "7db8994da81d474c9028707802a712c3",
       "version_major": 2,
       "version_minor": 0
      },
      "text/plain": [
       "VBox(children=(FigureWidget({\n",
       "    'data': [{'name': 'Lognormal fit pdf<br>(100% = mode)',\n",
       "              'type'…"
      ]
     },
     "metadata": {},
     "output_type": "display_data"
    }
   ],
   "source": [
    "#create an empty histogram to superpose pdf and cdf\n",
    "granularity = 1000\n",
    "hist_dumb = go.Histogram(x=np.zeros(len(df_c1['DEV_TOT'])), opacity=0.0, name='',xbins={\"size\": 1/granularity})\n",
    "\n",
    "#x = np.linspace(0,1,granularity)\n",
    "#gen_pdf_c1 = sp.stats.lognorm.pdf(x,main_param_c1[0],main_param_c1[1], main_param_c1[2])\n",
    "#gen_cdf_c1 = sp.stats.lognorm.cdf(x,main_param_c1[0],main_param_c1[1], main_param_c1[2])\n",
    "\n",
    "#scale = len(df['DEV_TOT'])/(gen_pdf.sum())\n",
    "#main_pdf = (gen_pdf)*scale\n",
    "#main_cdf = (gen_cdf)*scale\n",
    "\n",
    "g_dev_fit_c1 = go.FigureWidget(data=[hist_dumb]*0,\n",
    "                              layout=go.Layout(\n",
    "                                  title=dict(text='Deviation distribution and Lognormal fit'),\n",
    "                                  barmode='overlay',\n",
    "                                  paper_bgcolor='whitesmoke',\n",
    "                                  #plot_bgcolor= 'ghostwhite',#'slategray'\n",
    "                                  bargap = 0.01,\n",
    "                                  xaxis=dict(tickformat=\".1%\"),\n",
    "                                  yaxis=dict(tickformat=\".0%\")\n",
    "                              ))\n",
    "g_dev_fit_c1.add_scatter(y = main_pdf_c1/np.max(main_pdf_c1), x = x, name = 'Lognormal fit pdf<br>(100% = mode)')\n",
    "g_dev_fit_c1.add_scatter(y = gen_cdf_c1, x = x, name = 'Lognormal fit cdf')\n",
    "\n",
    "#container_22 = widgets.HBox([stat_myproject_ev])\n",
    "container_23 = widgets.VBox([g_dev_fit_c1])\n",
    "container_23"
   ]
  },
  {
   "cell_type": "markdown",
   "id": "2d34386f",
   "metadata": {},
   "source": [
    "## 3. Prescriptive analytics I (posible risks to mitigate and ranges to adjust for a required P50 / P80)"
   ]
  },
  {
   "cell_type": "markdown",
   "id": "54d4090a",
   "metadata": {},
   "source": [
    "## 4. Prescriptive analytics II (monthly follow-up and mitigation measures revision)"
   ]
  }
 ],
 "metadata": {
  "kernelspec": {
   "display_name": "Python 3",
   "language": "python",
   "name": "python3"
  },
  "language_info": {
   "codemirror_mode": {
    "name": "ipython",
    "version": 3
   },
   "file_extension": ".py",
   "mimetype": "text/x-python",
   "name": "python",
   "nbconvert_exporter": "python",
   "pygments_lexer": "ipython3",
   "version": "3.7.10"
  }
 },
 "nbformat": 4,
 "nbformat_minor": 5
}
